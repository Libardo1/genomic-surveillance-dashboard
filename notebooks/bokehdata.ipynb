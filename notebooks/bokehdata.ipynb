{
 "cells": [
  {
   "cell_type": "code",
   "execution_count": 12,
   "metadata": {
    "collapsed": true
   },
   "outputs": [],
   "source": [
    "from bokeh.sampledata.autompg import autompg as df\n",
    "from bokeh.io import show, output_notebook"
   ]
  },
  {
   "cell_type": "code",
   "execution_count": 13,
   "metadata": {
    "collapsed": false
   },
   "outputs": [
    {
     "data": {
      "text/html": [
       "\n",
       "    <div class=\"bk-root\">\n",
       "        <a href=\"http://bokeh.pydata.org\" target=\"_blank\" class=\"bk-logo bk-logo-small bk-logo-notebook\"></a>\n",
       "        <span id=\"d17cdae0-916d-4558-b774-d275303ca2b3\">Loading BokehJS ...</span>\n",
       "    </div>"
      ]
     },
     "metadata": {},
     "output_type": "display_data"
    },
    {
     "data": {
      "application/javascript": [
       "\n",
       "(function(global) {\n",
       "  function now() {\n",
       "    return new Date();\n",
       "  }\n",
       "\n",
       "  if (typeof (window._bokeh_onload_callbacks) === \"undefined\") {\n",
       "    window._bokeh_onload_callbacks = [];\n",
       "  }\n",
       "\n",
       "  function run_callbacks() {\n",
       "    window._bokeh_onload_callbacks.forEach(function(callback) { callback() });\n",
       "    delete window._bokeh_onload_callbacks\n",
       "    console.info(\"Bokeh: all callbacks have finished\");\n",
       "  }\n",
       "\n",
       "  function load_libs(js_urls, callback) {\n",
       "    window._bokeh_onload_callbacks.push(callback);\n",
       "    if (window._bokeh_is_loading > 0) {\n",
       "      console.log(\"Bokeh: BokehJS is being loaded, scheduling callback at\", now());\n",
       "      return null;\n",
       "    }\n",
       "    if (js_urls == null || js_urls.length === 0) {\n",
       "      run_callbacks();\n",
       "      return null;\n",
       "    }\n",
       "    console.log(\"Bokeh: BokehJS not loaded, scheduling load and callback at\", now());\n",
       "    window._bokeh_is_loading = js_urls.length;\n",
       "    for (var i = 0; i < js_urls.length; i++) {\n",
       "      var url = js_urls[i];\n",
       "      var s = document.createElement('script');\n",
       "      s.src = url;\n",
       "      s.async = false;\n",
       "      s.onreadystatechange = s.onload = function() {\n",
       "        window._bokeh_is_loading--;\n",
       "        if (window._bokeh_is_loading === 0) {\n",
       "          console.log(\"Bokeh: all BokehJS libraries loaded\");\n",
       "          run_callbacks()\n",
       "        }\n",
       "      };\n",
       "      s.onerror = function() {\n",
       "        console.warn(\"failed to load library \" + url);\n",
       "      };\n",
       "      console.log(\"Bokeh: injecting script tag for BokehJS library: \", url);\n",
       "      document.getElementsByTagName(\"head\")[0].appendChild(s);\n",
       "    }\n",
       "  };\n",
       "\n",
       "  var js_urls = ['https://cdn.pydata.org/bokeh/release/bokeh-0.12.0.min.js', 'https://cdn.pydata.org/bokeh/release/bokeh-widgets-0.12.0.min.js', 'https://cdn.pydata.org/bokeh/release/bokeh-compiler-0.12.0.min.js'];\n",
       "\n",
       "  var inline_js = [\n",
       "    function(Bokeh) {\n",
       "      Bokeh.set_log_level(\"info\");\n",
       "    },\n",
       "    \n",
       "    function(Bokeh) {\n",
       "      Bokeh.$(\"#d17cdae0-916d-4558-b774-d275303ca2b3\").text(\"BokehJS successfully loaded\");\n",
       "    },\n",
       "    function(Bokeh) {\n",
       "      console.log(\"Bokeh: injecting CSS: https://cdn.pydata.org/bokeh/release/bokeh-0.12.0.min.css\");\n",
       "      Bokeh.embed.inject_css(\"https://cdn.pydata.org/bokeh/release/bokeh-0.12.0.min.css\");\n",
       "      console.log(\"Bokeh: injecting CSS: https://cdn.pydata.org/bokeh/release/bokeh-widgets-0.12.0.min.css\");\n",
       "      Bokeh.embed.inject_css(\"https://cdn.pydata.org/bokeh/release/bokeh-widgets-0.12.0.min.css\");\n",
       "    }\n",
       "  ];\n",
       "\n",
       "  function run_inline_js() {\n",
       "    for (var i = 0; i < inline_js.length; i++) {\n",
       "      inline_js[i](window.Bokeh);\n",
       "    }\n",
       "  }\n",
       "\n",
       "  if (window._bokeh_is_loading === 0) {\n",
       "    console.log(\"Bokeh: BokehJS loaded, going straight to plotting\");\n",
       "    run_inline_js();\n",
       "  } else {\n",
       "    load_libs(js_urls, function() {\n",
       "      console.log(\"Bokeh: BokehJS plotting callback run at\", now());\n",
       "      run_inline_js();\n",
       "    });\n",
       "  }\n",
       "}(this));"
      ]
     },
     "metadata": {},
     "output_type": "display_data"
    }
   ],
   "source": [
    "output_notebook()"
   ]
  },
  {
   "cell_type": "code",
   "execution_count": null,
   "metadata": {
    "collapsed": true
   },
   "outputs": [],
   "source": []
  },
  {
   "cell_type": "code",
   "execution_count": 14,
   "metadata": {
    "collapsed": false
   },
   "outputs": [
    {
     "data": {
      "text/html": [
       "\n",
       "\n",
       "    <div class=\"bk-root\">\n",
       "        <div class=\"plotdiv\" id=\"31985926-3d84-47a1-9357-ce169e23aa3e\"></div>\n",
       "    </div>\n",
       "<script type=\"text/javascript\">\n",
       "  \n",
       "  (function(global) {\n",
       "    function now() {\n",
       "      return new Date();\n",
       "    }\n",
       "  \n",
       "    if (typeof (window._bokeh_onload_callbacks) === \"undefined\") {\n",
       "      window._bokeh_onload_callbacks = [];\n",
       "    }\n",
       "  \n",
       "    function run_callbacks() {\n",
       "      window._bokeh_onload_callbacks.forEach(function(callback) { callback() });\n",
       "      delete window._bokeh_onload_callbacks\n",
       "      console.info(\"Bokeh: all callbacks have finished\");\n",
       "    }\n",
       "  \n",
       "    function load_libs(js_urls, callback) {\n",
       "      window._bokeh_onload_callbacks.push(callback);\n",
       "      if (window._bokeh_is_loading > 0) {\n",
       "        console.log(\"Bokeh: BokehJS is being loaded, scheduling callback at\", now());\n",
       "        return null;\n",
       "      }\n",
       "      if (js_urls == null || js_urls.length === 0) {\n",
       "        run_callbacks();\n",
       "        return null;\n",
       "      }\n",
       "      console.log(\"Bokeh: BokehJS not loaded, scheduling load and callback at\", now());\n",
       "      window._bokeh_is_loading = js_urls.length;\n",
       "      for (var i = 0; i < js_urls.length; i++) {\n",
       "        var url = js_urls[i];\n",
       "        var s = document.createElement('script');\n",
       "        s.src = url;\n",
       "        s.async = false;\n",
       "        s.onreadystatechange = s.onload = function() {\n",
       "          window._bokeh_is_loading--;\n",
       "          if (window._bokeh_is_loading === 0) {\n",
       "            console.log(\"Bokeh: all BokehJS libraries loaded\");\n",
       "            run_callbacks()\n",
       "          }\n",
       "        };\n",
       "        s.onerror = function() {\n",
       "          console.warn(\"failed to load library \" + url);\n",
       "        };\n",
       "        console.log(\"Bokeh: injecting script tag for BokehJS library: \", url);\n",
       "        document.getElementsByTagName(\"head\")[0].appendChild(s);\n",
       "      }\n",
       "    };var element = document.getElementById(\"31985926-3d84-47a1-9357-ce169e23aa3e\");\n",
       "    if (element == null) {\n",
       "      console.log(\"Bokeh: ERROR: autoload.js configured with elementid '31985926-3d84-47a1-9357-ce169e23aa3e' but no matching script tag was found. \")\n",
       "      return false;\n",
       "    }\n",
       "  \n",
       "    var js_urls = [];\n",
       "  \n",
       "    var inline_js = [\n",
       "      function(Bokeh) {\n",
       "        Bokeh.$(function() {\n",
       "            var docs_json = {\"fa4dbd74-e6b4-4012-8d74-9361e64c8cfe\":{\"roots\":{\"references\":[{\"attributes\":{\"callback\":null,\"end\":49.38},\"id\":\"f7765f62-a27c-4252-9f53-137ba6be9b02\",\"type\":\"Range1d\"},{\"attributes\":{\"fill_alpha\":{\"field\":\"fill_alpha\"},\"fill_color\":{\"field\":\"color\"},\"height\":{\"field\":\"height\",\"units\":\"data\"},\"line_color\":{\"field\":\"line_color\"},\"width\":{\"field\":\"width\",\"units\":\"data\"},\"x\":{\"field\":\"x\"},\"y\":{\"field\":\"y\"}},\"id\":\"9c5f2ea5-d762-4af8-9e11-12f112914e60\",\"type\":\"Rect\"},{\"attributes\":{\"callback\":null,\"column_names\":[\"y_values\",\"x_values\"],\"data\":{\"chart_index\":[{\"cyl\":4}],\"cyl\":[4],\"x_values\":[\"4:0.5\"],\"y_values\":[46.6]}},\"id\":\"bcd3bbfa-a033-4c08-b769-8e50cb26805a\",\"type\":\"ColumnDataSource\"},{\"attributes\":{\"data_source\":{\"id\":\"fdbaa05e-2627-4a09-b90f-4590c9b8b84c\",\"type\":\"ColumnDataSource\"},\"glyph\":{\"id\":\"583678e0-1fad-42f9-8b4a-6349aaa97a1d\",\"type\":\"Segment\"},\"hover_glyph\":null,\"nonselection_glyph\":null,\"selection_glyph\":null},\"id\":\"dcb19c60-5fbc-4ffc-885b-65d43eede184\",\"type\":\"GlyphRenderer\"},{\"attributes\":{\"callback\":null,\"column_names\":[\"y\",\"width\",\"line_alpha\",\"fill_alpha\",\"line_color\",\"height\",\"color\",\"label\",\"x\"],\"data\":{\"chart_index\":[{\"cyl\":8}],\"color\":[\"#00cccc\"],\"cyl\":[8],\"fill_alpha\":[0.8],\"height\":[1.0],\"label\":[{\"cyl\":8}],\"line_alpha\":[1.0],\"line_color\":[\"black\"],\"width\":[0.8],\"x\":[\"8\"],\"y\":[13.5]}},\"id\":\"74d4d4c7-1235-4009-b243-9eacd79c5c05\",\"type\":\"ColumnDataSource\"},{\"attributes\":{\"bottom_units\":\"screen\",\"fill_alpha\":{\"value\":0.5},\"fill_color\":{\"value\":\"lightgrey\"},\"left_units\":\"screen\",\"level\":\"overlay\",\"line_alpha\":{\"value\":1.0},\"line_color\":{\"value\":\"black\"},\"line_dash\":[4,4],\"line_width\":{\"value\":2},\"plot\":null,\"render_mode\":\"css\",\"right_units\":\"screen\",\"top_units\":\"screen\"},\"id\":\"23bd74c6-e4ce-49f6-95ef-078400b972bd\",\"type\":\"BoxAnnotation\"},{\"attributes\":{\"data_source\":{\"id\":\"08d5d121-7fc8-4a1a-9147-95fc0cf04172\",\"type\":\"ColumnDataSource\"},\"glyph\":{\"id\":\"93b08072-d9c9-45a7-be3c-e0051ba7b31b\",\"type\":\"Rect\"},\"hover_glyph\":null,\"nonselection_glyph\":null,\"selection_glyph\":null},\"id\":\"579282af-2c3e-4334-8900-49aa6f54eb5b\",\"type\":\"GlyphRenderer\"},{\"attributes\":{\"data_source\":{\"id\":\"150931b1-c3c6-4031-85b8-1cf7aa619984\",\"type\":\"ColumnDataSource\"},\"glyph\":{\"id\":\"9c5f2ea5-d762-4af8-9e11-12f112914e60\",\"type\":\"Rect\"},\"hover_glyph\":null,\"nonselection_glyph\":null,\"selection_glyph\":null},\"id\":\"bc33fa66-52a3-4182-afe7-53a3c6ead47e\",\"type\":\"GlyphRenderer\"},{\"attributes\":{\"data_source\":{\"id\":\"c1c42cf4-5d92-4e85-8cfb-7f1af1d2d6ea\",\"type\":\"ColumnDataSource\"},\"glyph\":{\"id\":\"c001236c-c2f8-44e8-abec-66419d0fabe8\",\"type\":\"Rect\"},\"hover_glyph\":null,\"nonselection_glyph\":null,\"selection_glyph\":null},\"id\":\"104378d2-ed56-4003-a349-9d1789e90ff9\",\"type\":\"GlyphRenderer\"},{\"attributes\":{\"data_source\":{\"id\":\"d6a71af4-e981-4174-8719-7d1c9adb4014\",\"type\":\"ColumnDataSource\"},\"glyph\":{\"id\":\"414c5df2-56ae-4564-8ef1-60eae00e8801\",\"type\":\"Rect\"},\"hover_glyph\":null,\"nonselection_glyph\":null,\"selection_glyph\":null},\"id\":\"45e79e02-622b-4e26-8130-a23638c5007d\",\"type\":\"GlyphRenderer\"},{\"attributes\":{\"fill_alpha\":{\"field\":\"fill_alpha\"},\"fill_color\":{\"field\":\"color\"},\"height\":{\"field\":\"height\",\"units\":\"data\"},\"line_color\":{\"field\":\"line_color\"},\"width\":{\"field\":\"width\",\"units\":\"data\"},\"x\":{\"field\":\"x\"},\"y\":{\"field\":\"y\"}},\"id\":\"069ed483-9166-4cbb-b1bb-5b1dcc4839c5\",\"type\":\"Rect\"},{\"attributes\":{\"callback\":null,\"column_names\":[\"y0s\",\"y1s\",\"x1s\",\"x0s\"],\"data\":{\"chart_index\":[{\"cyl\":6},{\"cyl\":6},{\"cyl\":6},{\"cyl\":6}],\"cyl\":[6,6,6,6],\"x0s\":[\"6:0.5\",\"6:0.65\",\"6:0.5\",\"6:0.65\"],\"x1s\":[\"6:0.5\",\"6:0.35\",\"6:0.5\",\"6:0.35\"],\"y0s\":[15.0,15.0,21.0,25.5],\"y1s\":[18.0,15.0,25.5,25.5]}},\"id\":\"cda4905e-d4aa-4e10-886c-60732178a98b\",\"type\":\"ColumnDataSource\"},{\"attributes\":{\"fill_alpha\":{\"value\":0.7},\"fill_color\":{\"value\":\"red\"},\"line_color\":{\"value\":\"red\"},\"size\":{\"units\":\"screen\",\"value\":5},\"x\":{\"field\":\"x_values\"},\"y\":{\"field\":\"y_values\"}},\"id\":\"67ab0d80-f71b-4694-b5e1-997bde734089\",\"type\":\"Circle\"},{\"attributes\":{\"data_source\":{\"id\":\"dd0cae53-ba56-4f96-b6dd-d3ce971a0c40\",\"type\":\"ColumnDataSource\"},\"glyph\":{\"id\":\"849359f5-20d0-4150-bb43-40d8160d99f6\",\"type\":\"Circle\"},\"hover_glyph\":null,\"nonselection_glyph\":null,\"selection_glyph\":null},\"id\":\"9aaa5b7a-f86a-43fa-a83b-10a51bff3cb8\",\"type\":\"GlyphRenderer\"},{\"attributes\":{\"data_source\":{\"id\":\"98d72931-8029-4def-abfd-93a2c126c7c5\",\"type\":\"ColumnDataSource\"},\"glyph\":{\"id\":\"70dec5d3-7f33-4a2c-a527-ab70daa33c55\",\"type\":\"Rect\"},\"hover_glyph\":null,\"nonselection_glyph\":null,\"selection_glyph\":null},\"id\":\"cdb572d1-390c-45f8-8ec0-8dcb967de64a\",\"type\":\"GlyphRenderer\"},{\"attributes\":{\"data_source\":{\"id\":\"279227b9-024b-40ce-b2fb-678b084e08a5\",\"type\":\"ColumnDataSource\"},\"glyph\":{\"id\":\"739566b0-3590-4ad4-b560-484cf84051b8\",\"type\":\"Segment\"},\"hover_glyph\":null,\"nonselection_glyph\":null,\"selection_glyph\":null},\"id\":\"749803dd-199a-4940-877b-40258faefe41\",\"type\":\"GlyphRenderer\"},{\"attributes\":{},\"id\":\"9e1706d5-9c6a-46a2-8884-61a8763be573\",\"type\":\"CategoricalTicker\"},{\"attributes\":{\"axis_label\":\"Mpg\",\"formatter\":{\"id\":\"851891f9-4225-404e-af31-20e4a3eea9bf\",\"type\":\"BasicTickFormatter\"},\"plot\":{\"id\":\"11c7b2bd-1858-41c6-b799-5b86df96bfcb\",\"subtype\":\"Chart\",\"type\":\"Plot\"},\"ticker\":{\"id\":\"bbb7d0c6-cee4-46c9-809d-5999ed19b1b3\",\"type\":\"BasicTicker\"}},\"id\":\"f8593e29-dc38-45e6-b85f-e0c770928732\",\"type\":\"LinearAxis\"},{\"attributes\":{\"line_width\":{\"value\":2},\"x0\":{\"field\":\"x0s\"},\"x1\":{\"field\":\"x1s\"},\"y0\":{\"field\":\"y0s\"},\"y1\":{\"field\":\"y1s\"}},\"id\":\"739566b0-3590-4ad4-b560-484cf84051b8\",\"type\":\"Segment\"},{\"attributes\":{\"fill_alpha\":{\"value\":0.7},\"fill_color\":{\"value\":\"red\"},\"line_color\":{\"value\":\"red\"},\"size\":{\"units\":\"screen\",\"value\":5},\"x\":{\"field\":\"x_values\"},\"y\":{\"field\":\"y_values\"}},\"id\":\"849359f5-20d0-4150-bb43-40d8160d99f6\",\"type\":\"Circle\"},{\"attributes\":{\"fill_alpha\":{\"value\":0.7},\"fill_color\":{\"value\":\"red\"},\"line_color\":{\"value\":\"red\"},\"size\":{\"units\":\"screen\",\"value\":5},\"x\":{\"field\":\"x_values\"},\"y\":{\"field\":\"y_values\"}},\"id\":\"11a77403-e043-4bcf-9288-660c864429ee\",\"type\":\"Circle\"},{\"attributes\":{\"data_source\":{\"id\":\"bcd3bbfa-a033-4c08-b769-8e50cb26805a\",\"type\":\"ColumnDataSource\"},\"glyph\":{\"id\":\"67ab0d80-f71b-4694-b5e1-997bde734089\",\"type\":\"Circle\"},\"hover_glyph\":null,\"nonselection_glyph\":null,\"selection_glyph\":null},\"id\":\"6bf657df-8ce3-4f60-97fe-2fee60b51b5f\",\"type\":\"GlyphRenderer\"},{\"attributes\":{\"overlay\":{\"id\":\"23bd74c6-e4ce-49f6-95ef-078400b972bd\",\"type\":\"BoxAnnotation\"},\"plot\":{\"id\":\"11c7b2bd-1858-41c6-b799-5b86df96bfcb\",\"subtype\":\"Chart\",\"type\":\"Plot\"}},\"id\":\"df81ce70-a216-45ff-b664-2e7fb640922d\",\"type\":\"BoxZoomTool\"},{\"attributes\":{},\"id\":\"bbb7d0c6-cee4-46c9-809d-5999ed19b1b3\",\"type\":\"BasicTicker\"},{\"attributes\":{\"callback\":null,\"column_names\":[\"y0s\",\"y1s\",\"x1s\",\"x0s\"],\"data\":{\"chart_index\":[{\"cyl\":4},{\"cyl\":4},{\"cyl\":4},{\"cyl\":4}],\"cyl\":[4,4,4,4],\"x0s\":[\"4:0.5\",\"4:0.65\",\"4:0.5\",\"4:0.65\"],\"x1s\":[\"4:0.5\",\"4:0.35\",\"4:0.5\",\"4:0.35\"],\"y0s\":[18.0,18.0,32.95,44.87500000000001],\"y1s\":[25.0,18.0,44.87500000000001,44.87500000000001]}},\"id\":\"fdbaa05e-2627-4a09-b90f-4590c9b8b84c\",\"type\":\"ColumnDataSource\"},{\"attributes\":{\"data_source\":{\"id\":\"4cb0caf9-ad45-4b95-a05a-28e4c33b7e6a\",\"type\":\"ColumnDataSource\"},\"glyph\":{\"id\":\"96d0aad2-1af9-48cc-8b21-9d085a704704\",\"type\":\"Rect\"},\"hover_glyph\":null,\"nonselection_glyph\":null,\"selection_glyph\":null},\"id\":\"1435f5d6-f81e-4757-8c8b-816ca55003a4\",\"type\":\"GlyphRenderer\"},{\"attributes\":{\"fill_alpha\":{\"field\":\"fill_alpha\"},\"fill_color\":{\"field\":\"color\"},\"height\":{\"field\":\"height\",\"units\":\"data\"},\"line_color\":{\"field\":\"line_color\"},\"width\":{\"field\":\"width\",\"units\":\"data\"},\"x\":{\"field\":\"x\"},\"y\":{\"field\":\"y\"}},\"id\":\"96d0aad2-1af9-48cc-8b21-9d085a704704\",\"type\":\"Rect\"},{\"attributes\":{\"data_source\":{\"id\":\"299175b2-55eb-4239-93ce-6f4b5aaa6a72\",\"type\":\"ColumnDataSource\"},\"glyph\":{\"id\":\"7b111fd8-d972-450f-84d5-5976f8d12ea2\",\"type\":\"Rect\"},\"hover_glyph\":null,\"nonselection_glyph\":null,\"selection_glyph\":null},\"id\":\"84b0c2b5-16f7-43ea-8779-e0f609d4acf9\",\"type\":\"GlyphRenderer\"},{\"attributes\":{\"callback\":null,\"column_names\":[\"y\",\"width\",\"line_alpha\",\"fill_alpha\",\"line_color\",\"height\",\"color\",\"label\",\"x\"],\"data\":{\"chart_index\":[{\"cyl\":4}],\"color\":[\"#00cccc\"],\"cyl\":[4],\"fill_alpha\":[0.8],\"height\":[3.3999999999999986],\"label\":[{\"cyl\":4}],\"line_alpha\":[1.0],\"line_color\":[\"black\"],\"width\":[0.8],\"x\":[\"4\"],\"y\":[26.7]}},\"id\":\"98d72931-8029-4def-abfd-93a2c126c7c5\",\"type\":\"ColumnDataSource\"},{\"attributes\":{\"callback\":null,\"column_names\":[\"y\",\"width\",\"line_alpha\",\"fill_alpha\",\"line_color\",\"height\",\"color\",\"label\",\"x\"],\"data\":{\"chart_index\":[{\"cyl\":6}],\"color\":[\"#00cccc\"],\"cyl\":[6],\"fill_alpha\":[0.8],\"height\":[1.0],\"label\":[{\"cyl\":6}],\"line_alpha\":[1.0],\"line_color\":[\"black\"],\"width\":[0.8],\"x\":[\"6\"],\"y\":[18.5]}},\"id\":\"4cb0caf9-ad45-4b95-a05a-28e4c33b7e6a\",\"type\":\"ColumnDataSource\"},{\"attributes\":{\"callback\":null,\"column_names\":[\"y\",\"width\",\"line_alpha\",\"fill_alpha\",\"line_color\",\"height\",\"color\",\"label\",\"x\"],\"data\":{\"chart_index\":[{\"cyl\":4}],\"color\":[\"#00cccc\"],\"cyl\":[4],\"fill_alpha\":[0.8],\"height\":[4.550000000000004],\"label\":[{\"cyl\":4}],\"line_alpha\":[1.0],\"line_color\":[\"black\"],\"width\":[0.8],\"x\":[\"4\"],\"y\":[30.675]}},\"id\":\"08d5d121-7fc8-4a1a-9147-95fc0cf04172\",\"type\":\"ColumnDataSource\"},{\"attributes\":{\"line_width\":{\"value\":2},\"x0\":{\"field\":\"x0s\"},\"x1\":{\"field\":\"x1s\"},\"y0\":{\"field\":\"y0s\"},\"y1\":{\"field\":\"y1s\"}},\"id\":\"c2b59949-e5c8-45ac-94c1-da9e9338f963\",\"type\":\"Segment\"},{\"attributes\":{\"plot\":null,\"text\":\"MPG Summary (grouped by CYL)\"},\"id\":\"d79cb796-ae91-4bbd-829a-681ac276c06d\",\"type\":\"Title\"},{\"attributes\":{\"fill_alpha\":{\"field\":\"fill_alpha\"},\"fill_color\":{\"field\":\"color\"},\"height\":{\"field\":\"height\",\"units\":\"data\"},\"line_color\":{\"field\":\"line_color\"},\"width\":{\"field\":\"width\",\"units\":\"data\"},\"x\":{\"field\":\"x\"},\"y\":{\"field\":\"y\"}},\"id\":\"c001236c-c2f8-44e8-abec-66419d0fabe8\",\"type\":\"Rect\"},{\"attributes\":{\"callback\":null,\"column_names\":[\"y0s\",\"y1s\",\"x1s\",\"x0s\"],\"data\":{\"chart_index\":[{\"cyl\":8},{\"cyl\":8},{\"cyl\":8},{\"cyl\":8}],\"cyl\":[8,8,8,8],\"x0s\":[\"8:0.5\",\"8:0.65\",\"8:0.5\",\"8:0.65\"],\"x1s\":[\"8:0.5\",\"8:0.35\",\"8:0.5\",\"8:0.35\"],\"y0s\":[9.0,9.0,16.0,20.5],\"y1s\":[13.0,9.0,20.5,20.5]}},\"id\":\"b1a03845-2eeb-491f-9fa9-8e96fa3b9a85\",\"type\":\"ColumnDataSource\"},{\"attributes\":{\"data_source\":{\"id\":\"704a643a-0e5e-4168-a045-68fca45aeede\",\"type\":\"ColumnDataSource\"},\"glyph\":{\"id\":\"11a77403-e043-4bcf-9288-660c864429ee\",\"type\":\"Circle\"},\"hover_glyph\":null,\"nonselection_glyph\":null,\"selection_glyph\":null},\"id\":\"08ad0788-e517-4372-8118-d0479a95a6ef\",\"type\":\"GlyphRenderer\"},{\"attributes\":{\"data_source\":{\"id\":\"73f10681-2863-4fa1-b438-4f6827b0d4a1\",\"type\":\"ColumnDataSource\"},\"glyph\":{\"id\":\"069ed483-9166-4cbb-b1bb-5b1dcc4839c5\",\"type\":\"Rect\"},\"hover_glyph\":null,\"nonselection_glyph\":null,\"selection_glyph\":null},\"id\":\"b7cbb8e9-a01b-4f7b-bf1d-21e11c6b6daa\",\"type\":\"GlyphRenderer\"},{\"attributes\":{\"plot\":{\"id\":\"11c7b2bd-1858-41c6-b799-5b86df96bfcb\",\"subtype\":\"Chart\",\"type\":\"Plot\"}},\"id\":\"d772674e-f984-4132-8117-271157efc05e\",\"type\":\"HelpTool\"},{\"attributes\":{\"callback\":null,\"column_names\":[\"y0s\",\"y1s\",\"x1s\",\"x0s\"],\"data\":{\"chart_index\":[{\"cyl\":3},{\"cyl\":3},{\"cyl\":3},{\"cyl\":3}],\"cyl\":[3,3,3,3],\"x0s\":[\"3:0.5\",\"3:0.65\",\"3:0.5\",\"3:0.65\"],\"x1s\":[\"3:0.5\",\"3:0.35\",\"3:0.5\",\"3:0.35\"],\"y0s\":[18.0,18.0,22.05,23.7],\"y1s\":[18.75,18.0,23.7,23.7]}},\"id\":\"279227b9-024b-40ce-b2fb-678b084e08a5\",\"type\":\"ColumnDataSource\"},{\"attributes\":{\"fill_alpha\":{\"field\":\"fill_alpha\"},\"fill_color\":{\"field\":\"color\"},\"height\":{\"field\":\"height\",\"units\":\"data\"},\"line_color\":{\"field\":\"line_color\"},\"width\":{\"field\":\"width\",\"units\":\"data\"},\"x\":{\"field\":\"x\"},\"y\":{\"field\":\"y\"}},\"id\":\"7b111fd8-d972-450f-84d5-5976f8d12ea2\",\"type\":\"Rect\"},{\"attributes\":{\"fill_alpha\":{\"field\":\"fill_alpha\"},\"fill_color\":{\"field\":\"color\"},\"height\":{\"field\":\"height\",\"units\":\"data\"},\"line_color\":{\"field\":\"line_color\"},\"width\":{\"field\":\"width\",\"units\":\"data\"},\"x\":{\"field\":\"x\"},\"y\":{\"field\":\"y\"}},\"id\":\"93b08072-d9c9-45a7-be3c-e0051ba7b31b\",\"type\":\"Rect\"},{\"attributes\":{\"callback\":null,\"column_names\":[\"y\",\"width\",\"line_alpha\",\"fill_alpha\",\"line_color\",\"height\",\"color\",\"label\",\"x\"],\"data\":{\"chart_index\":[{\"cyl\":8}],\"color\":[\"#00cccc\"],\"cyl\":[8],\"fill_alpha\":[0.8],\"height\":[2.0],\"label\":[{\"cyl\":8}],\"line_alpha\":[1.0],\"line_color\":[\"black\"],\"width\":[0.8],\"x\":[\"8\"],\"y\":[15.0]}},\"id\":\"c1c42cf4-5d92-4e85-8cfb-7f1af1d2d6ea\",\"type\":\"ColumnDataSource\"},{\"attributes\":{\"fill_alpha\":{\"field\":\"fill_alpha\"},\"fill_color\":{\"field\":\"color\"},\"height\":{\"field\":\"height\",\"units\":\"data\"},\"line_color\":{\"field\":\"line_color\"},\"width\":{\"field\":\"width\",\"units\":\"data\"},\"x\":{\"field\":\"x\"},\"y\":{\"field\":\"y\"}},\"id\":\"70dec5d3-7f33-4a2c-a527-ab70daa33c55\",\"type\":\"Rect\"},{\"attributes\":{\"line_width\":{\"value\":2},\"x0\":{\"field\":\"x0s\"},\"x1\":{\"field\":\"x1s\"},\"y0\":{\"field\":\"y0s\"},\"y1\":{\"field\":\"y1s\"}},\"id\":\"672fbdd1-3ec5-48e2-b3ed-ad6a09de038a\",\"type\":\"Segment\"},{\"attributes\":{\"callback\":null,\"column_names\":[\"y\",\"width\",\"line_alpha\",\"fill_alpha\",\"line_color\",\"height\",\"color\",\"label\",\"x\"],\"data\":{\"chart_index\":[{\"cyl\":5}],\"color\":[\"#00cccc\"],\"cyl\":[5],\"fill_alpha\":[0.8],\"height\":[5.5],\"label\":[{\"cyl\":5}],\"line_alpha\":[1.0],\"line_color\":[\"black\"],\"width\":[0.8],\"x\":[\"5\"],\"y\":[28.15]}},\"id\":\"73f10681-2863-4fa1-b438-4f6827b0d4a1\",\"type\":\"ColumnDataSource\"},{\"attributes\":{\"below\":[{\"id\":\"53871de9-1965-4db4-9b64-55269a1bbe26\",\"type\":\"CategoricalAxis\"}],\"left\":[{\"id\":\"f8593e29-dc38-45e6-b85f-e0c770928732\",\"type\":\"LinearAxis\"}],\"renderers\":[{\"id\":\"23bd74c6-e4ce-49f6-95ef-078400b972bd\",\"type\":\"BoxAnnotation\"},{\"id\":\"89f003c2-514c-4eef-b01f-cb7217e3188d\",\"type\":\"GlyphRenderer\"},{\"id\":\"104378d2-ed56-4003-a349-9d1789e90ff9\",\"type\":\"GlyphRenderer\"},{\"id\":\"9aaa5b7a-f86a-43fa-a83b-10a51bff3cb8\",\"type\":\"GlyphRenderer\"},{\"id\":\"a03d5065-3e12-4f91-9966-1763d0ca5a7a\",\"type\":\"GlyphRenderer\"},{\"id\":\"cdb572d1-390c-45f8-8ec0-8dcb967de64a\",\"type\":\"GlyphRenderer\"},{\"id\":\"579282af-2c3e-4334-8900-49aa6f54eb5b\",\"type\":\"GlyphRenderer\"},{\"id\":\"6bf657df-8ce3-4f60-97fe-2fee60b51b5f\",\"type\":\"GlyphRenderer\"},{\"id\":\"dcb19c60-5fbc-4ffc-885b-65d43eede184\",\"type\":\"GlyphRenderer\"},{\"id\":\"1435f5d6-f81e-4757-8c8b-816ca55003a4\",\"type\":\"GlyphRenderer\"},{\"id\":\"84b0c2b5-16f7-43ea-8779-e0f609d4acf9\",\"type\":\"GlyphRenderer\"},{\"id\":\"08ad0788-e517-4372-8118-d0479a95a6ef\",\"type\":\"GlyphRenderer\"},{\"id\":\"e00205b9-851b-45d8-b02a-c1dd2a6897be\",\"type\":\"GlyphRenderer\"},{\"id\":\"757d3acc-30d6-431f-a7c1-d23588468d4e\",\"type\":\"GlyphRenderer\"},{\"id\":\"bc33fa66-52a3-4182-afe7-53a3c6ead47e\",\"type\":\"GlyphRenderer\"},{\"id\":\"749803dd-199a-4940-877b-40258faefe41\",\"type\":\"GlyphRenderer\"},{\"id\":\"45e79e02-622b-4e26-8130-a23638c5007d\",\"type\":\"GlyphRenderer\"},{\"id\":\"b7cbb8e9-a01b-4f7b-bf1d-21e11c6b6daa\",\"type\":\"GlyphRenderer\"},{\"id\":\"745799a2-16c7-4737-bc0c-ed3761550e01\",\"type\":\"GlyphRenderer\"},{\"id\":\"bc973d96-b091-45a1-b486-ce6979e6d7b7\",\"type\":\"Legend\"},{\"id\":\"53871de9-1965-4db4-9b64-55269a1bbe26\",\"type\":\"CategoricalAxis\"},{\"id\":\"f8593e29-dc38-45e6-b85f-e0c770928732\",\"type\":\"LinearAxis\"},{\"id\":\"fedf7ef2-cf5d-4f0b-acc4-f52743e7a562\",\"type\":\"Grid\"}],\"title\":{\"id\":\"d79cb796-ae91-4bbd-829a-681ac276c06d\",\"type\":\"Title\"},\"tool_events\":{\"id\":\"b79e89d8-74a8-4106-b997-d70e45c39c1e\",\"type\":\"ToolEvents\"},\"toolbar\":{\"id\":\"caac1913-7c25-4dcd-92ab-74c586ddcd55\",\"type\":\"Toolbar\"},\"x_mapper_type\":\"auto\",\"x_range\":{\"id\":\"39bbd339-6a5f-4080-b250-6ab7fc8e017a\",\"type\":\"FactorRange\"},\"y_mapper_type\":\"auto\",\"y_range\":{\"id\":\"f7765f62-a27c-4252-9f53-137ba6be9b02\",\"type\":\"Range1d\"}},\"id\":\"11c7b2bd-1858-41c6-b799-5b86df96bfcb\",\"subtype\":\"Chart\",\"type\":\"Plot\"},{\"attributes\":{\"callback\":null,\"column_names\":[\"y\",\"width\",\"line_alpha\",\"fill_alpha\",\"line_color\",\"height\",\"color\",\"label\",\"x\"],\"data\":{\"chart_index\":[{\"cyl\":3}],\"color\":[\"#00cccc\"],\"cyl\":[3],\"fill_alpha\":[0.8],\"height\":[1.5],\"label\":[{\"cyl\":3}],\"line_alpha\":[1.0],\"line_color\":[\"black\"],\"width\":[0.8],\"x\":[\"3\"],\"y\":[19.5]}},\"id\":\"cf54f746-5bbd-412d-b17a-0984581d4346\",\"type\":\"ColumnDataSource\"},{\"attributes\":{\"line_width\":{\"value\":2},\"x0\":{\"field\":\"x0s\"},\"x1\":{\"field\":\"x1s\"},\"y0\":{\"field\":\"y0s\"},\"y1\":{\"field\":\"y1s\"}},\"id\":\"d67108de-7505-4de9-a36b-1d4671997c70\",\"type\":\"Segment\"},{\"attributes\":{\"callback\":null,\"column_names\":[\"y\",\"width\",\"line_alpha\",\"fill_alpha\",\"line_color\",\"height\",\"color\",\"label\",\"x\"],\"data\":{\"chart_index\":[{\"cyl\":3}],\"color\":[\"#00cccc\"],\"cyl\":[3],\"fill_alpha\":[0.8],\"height\":[1.8000000000000007],\"label\":[{\"cyl\":3}],\"line_alpha\":[1.0],\"line_color\":[\"black\"],\"width\":[0.8],\"x\":[\"3\"],\"y\":[21.15]}},\"id\":\"150931b1-c3c6-4031-85b8-1cf7aa619984\",\"type\":\"ColumnDataSource\"},{\"attributes\":{},\"id\":\"d27683bd-381c-4da0-b17c-fc3b83f41f9c\",\"type\":\"CategoricalTickFormatter\"},{\"attributes\":{\"fill_alpha\":{\"field\":\"fill_alpha\"},\"fill_color\":{\"field\":\"color\"},\"height\":{\"field\":\"height\",\"units\":\"data\"},\"line_color\":{\"field\":\"line_color\"},\"width\":{\"field\":\"width\",\"units\":\"data\"},\"x\":{\"field\":\"x\"},\"y\":{\"field\":\"y\"}},\"id\":\"1c9f1ba9-c2e1-4772-9eb0-40d2b246c5e7\",\"type\":\"Rect\"},{\"attributes\":{\"axis_label\":\"Cyl\",\"formatter\":{\"id\":\"d27683bd-381c-4da0-b17c-fc3b83f41f9c\",\"type\":\"CategoricalTickFormatter\"},\"major_label_orientation\":0.7853981633974483,\"plot\":{\"id\":\"11c7b2bd-1858-41c6-b799-5b86df96bfcb\",\"subtype\":\"Chart\",\"type\":\"Plot\"},\"ticker\":{\"id\":\"9e1706d5-9c6a-46a2-8884-61a8763be573\",\"type\":\"CategoricalTicker\"}},\"id\":\"53871de9-1965-4db4-9b64-55269a1bbe26\",\"type\":\"CategoricalAxis\"},{\"attributes\":{\"fill_alpha\":{\"field\":\"fill_alpha\"},\"fill_color\":{\"field\":\"color\"},\"height\":{\"field\":\"height\",\"units\":\"data\"},\"line_color\":{\"field\":\"line_color\"},\"width\":{\"field\":\"width\",\"units\":\"data\"},\"x\":{\"field\":\"x\"},\"y\":{\"field\":\"y\"}},\"id\":\"1bd34c6c-ea34-421c-b792-2b7dcf98516f\",\"type\":\"Rect\"},{\"attributes\":{\"line_width\":{\"value\":2},\"x0\":{\"field\":\"x0s\"},\"x1\":{\"field\":\"x1s\"},\"y0\":{\"field\":\"y0s\"},\"y1\":{\"field\":\"y1s\"}},\"id\":\"583678e0-1fad-42f9-8b4a-6349aaa97a1d\",\"type\":\"Segment\"},{\"attributes\":{\"data_source\":{\"id\":\"b1a03845-2eeb-491f-9fa9-8e96fa3b9a85\",\"type\":\"ColumnDataSource\"},\"glyph\":{\"id\":\"c2b59949-e5c8-45ac-94c1-da9e9338f963\",\"type\":\"Segment\"},\"hover_glyph\":null,\"nonselection_glyph\":null,\"selection_glyph\":null},\"id\":\"a03d5065-3e12-4f91-9966-1763d0ca5a7a\",\"type\":\"GlyphRenderer\"},{\"attributes\":{\"data_source\":{\"id\":\"7975753b-50b4-4d68-9ee0-d58c2716044b\",\"type\":\"ColumnDataSource\"},\"glyph\":{\"id\":\"d67108de-7505-4de9-a36b-1d4671997c70\",\"type\":\"Segment\"},\"hover_glyph\":null,\"nonselection_glyph\":null,\"selection_glyph\":null},\"id\":\"745799a2-16c7-4737-bc0c-ed3761550e01\",\"type\":\"GlyphRenderer\"},{\"attributes\":{\"plot\":{\"id\":\"11c7b2bd-1858-41c6-b799-5b86df96bfcb\",\"subtype\":\"Chart\",\"type\":\"Plot\"}},\"id\":\"93af0a12-3dde-45a4-bef9-308a42f88eac\",\"type\":\"SaveTool\"},{\"attributes\":{\"data_source\":{\"id\":\"74d4d4c7-1235-4009-b243-9eacd79c5c05\",\"type\":\"ColumnDataSource\"},\"glyph\":{\"id\":\"1c9f1ba9-c2e1-4772-9eb0-40d2b246c5e7\",\"type\":\"Rect\"},\"hover_glyph\":null,\"nonselection_glyph\":null,\"selection_glyph\":null},\"id\":\"89f003c2-514c-4eef-b01f-cb7217e3188d\",\"type\":\"GlyphRenderer\"},{\"attributes\":{\"callback\":null,\"factors\":[\"3\",\"4\",\"5\",\"6\",\"8\"]},\"id\":\"39bbd339-6a5f-4080-b250-6ab7fc8e017a\",\"type\":\"FactorRange\"},{\"attributes\":{\"active_drag\":\"auto\",\"active_scroll\":\"auto\",\"active_tap\":\"auto\",\"tools\":[{\"id\":\"9a92a012-16b4-4394-b31b-bde999096b49\",\"type\":\"PanTool\"},{\"id\":\"7c21e010-6f26-4738-82b7-e4a861256626\",\"type\":\"WheelZoomTool\"},{\"id\":\"df81ce70-a216-45ff-b664-2e7fb640922d\",\"type\":\"BoxZoomTool\"},{\"id\":\"93af0a12-3dde-45a4-bef9-308a42f88eac\",\"type\":\"SaveTool\"},{\"id\":\"f4427cde-e417-4782-8f77-8d85015a6bcc\",\"type\":\"ResetTool\"},{\"id\":\"d772674e-f984-4132-8117-271157efc05e\",\"type\":\"HelpTool\"}]},\"id\":\"caac1913-7c25-4dcd-92ab-74c586ddcd55\",\"type\":\"Toolbar\"},{\"attributes\":{\"callback\":null,\"column_names\":[\"y_values\",\"x_values\"],\"data\":{\"chart_index\":[{\"cyl\":6},{\"cyl\":6},{\"cyl\":6},{\"cyl\":6},{\"cyl\":6}],\"cyl\":[6,6,6,6,6],\"x_values\":[\"6:0.5\",\"6:0.5\",\"6:0.5\",\"6:0.5\",\"6:0.5\"],\"y_values\":[28.8,26.8,32.7,30.7,38.0]}},\"id\":\"704a643a-0e5e-4168-a045-68fca45aeede\",\"type\":\"ColumnDataSource\"},{\"attributes\":{\"dimension\":1,\"plot\":{\"id\":\"11c7b2bd-1858-41c6-b799-5b86df96bfcb\",\"subtype\":\"Chart\",\"type\":\"Plot\"},\"ticker\":{\"id\":\"bbb7d0c6-cee4-46c9-809d-5999ed19b1b3\",\"type\":\"BasicTicker\"}},\"id\":\"fedf7ef2-cf5d-4f0b-acc4-f52743e7a562\",\"type\":\"Grid\"},{\"attributes\":{\"callback\":null,\"column_names\":[\"y_values\",\"x_values\"],\"data\":{\"chart_index\":[{\"cyl\":8},{\"cyl\":8},{\"cyl\":8}],\"cyl\":[8,8,8],\"x_values\":[\"8:0.5\",\"8:0.5\",\"8:0.5\"],\"y_values\":[23.0,23.9,26.6]}},\"id\":\"dd0cae53-ba56-4f96-b6dd-d3ce971a0c40\",\"type\":\"ColumnDataSource\"},{\"attributes\":{\"data_source\":{\"id\":\"cf54f746-5bbd-412d-b17a-0984581d4346\",\"type\":\"ColumnDataSource\"},\"glyph\":{\"id\":\"1bd34c6c-ea34-421c-b792-2b7dcf98516f\",\"type\":\"Rect\"},\"hover_glyph\":null,\"nonselection_glyph\":null,\"selection_glyph\":null},\"id\":\"757d3acc-30d6-431f-a7c1-d23588468d4e\",\"type\":\"GlyphRenderer\"},{\"attributes\":{\"fill_alpha\":{\"field\":\"fill_alpha\"},\"fill_color\":{\"field\":\"color\"},\"height\":{\"field\":\"height\",\"units\":\"data\"},\"line_color\":{\"field\":\"line_color\"},\"width\":{\"field\":\"width\",\"units\":\"data\"},\"x\":{\"field\":\"x\"},\"y\":{\"field\":\"y\"}},\"id\":\"414c5df2-56ae-4564-8ef1-60eae00e8801\",\"type\":\"Rect\"},{\"attributes\":{\"plot\":{\"id\":\"11c7b2bd-1858-41c6-b799-5b86df96bfcb\",\"subtype\":\"Chart\",\"type\":\"Plot\"}},\"id\":\"7c21e010-6f26-4738-82b7-e4a861256626\",\"type\":\"WheelZoomTool\"},{\"attributes\":{\"callback\":null,\"column_names\":[\"y\",\"width\",\"line_alpha\",\"fill_alpha\",\"line_color\",\"height\",\"color\",\"label\",\"x\"],\"data\":{\"chart_index\":[{\"cyl\":6}],\"color\":[\"#00cccc\"],\"cyl\":[6],\"fill_alpha\":[0.8],\"height\":[2.0],\"label\":[{\"cyl\":6}],\"line_alpha\":[1.0],\"line_color\":[\"black\"],\"width\":[0.8],\"x\":[\"6\"],\"y\":[20.0]}},\"id\":\"299175b2-55eb-4239-93ce-6f4b5aaa6a72\",\"type\":\"ColumnDataSource\"},{\"attributes\":{\"callback\":null,\"column_names\":[\"y0s\",\"y1s\",\"x1s\",\"x0s\"],\"data\":{\"chart_index\":[{\"cyl\":5},{\"cyl\":5},{\"cyl\":5},{\"cyl\":5}],\"cyl\":[5,5,5,5],\"x0s\":[\"5:0.5\",\"5:0.65\",\"5:0.5\",\"5:0.65\"],\"x1s\":[\"5:0.5\",\"5:0.35\",\"5:0.5\",\"5:0.35\"],\"y0s\":[20.3,20.3,30.9,36.4],\"y1s\":[22.85,20.3,36.4,36.4]}},\"id\":\"7975753b-50b4-4d68-9ee0-d58c2716044b\",\"type\":\"ColumnDataSource\"},{\"attributes\":{\"plot\":{\"id\":\"11c7b2bd-1858-41c6-b799-5b86df96bfcb\",\"subtype\":\"Chart\",\"type\":\"Plot\"}},\"id\":\"f4427cde-e417-4782-8f77-8d85015a6bcc\",\"type\":\"ResetTool\"},{\"attributes\":{\"plot\":{\"id\":\"11c7b2bd-1858-41c6-b799-5b86df96bfcb\",\"subtype\":\"Chart\",\"type\":\"Plot\"}},\"id\":\"9a92a012-16b4-4394-b31b-bde999096b49\",\"type\":\"PanTool\"},{\"attributes\":{},\"id\":\"b79e89d8-74a8-4106-b997-d70e45c39c1e\",\"type\":\"ToolEvents\"},{\"attributes\":{},\"id\":\"851891f9-4225-404e-af31-20e4a3eea9bf\",\"type\":\"BasicTickFormatter\"},{\"attributes\":{\"data_source\":{\"id\":\"cda4905e-d4aa-4e10-886c-60732178a98b\",\"type\":\"ColumnDataSource\"},\"glyph\":{\"id\":\"672fbdd1-3ec5-48e2-b3ed-ad6a09de038a\",\"type\":\"Segment\"},\"hover_glyph\":null,\"nonselection_glyph\":null,\"selection_glyph\":null},\"id\":\"e00205b9-851b-45d8-b02a-c1dd2a6897be\",\"type\":\"GlyphRenderer\"},{\"attributes\":{\"callback\":null,\"column_names\":[\"y\",\"width\",\"line_alpha\",\"fill_alpha\",\"line_color\",\"height\",\"color\",\"label\",\"x\"],\"data\":{\"chart_index\":[{\"cyl\":5}],\"color\":[\"#00cccc\"],\"cyl\":[5],\"fill_alpha\":[0.8],\"height\":[2.549999999999997],\"label\":[{\"cyl\":5}],\"line_alpha\":[1.0],\"line_color\":[\"black\"],\"width\":[0.8],\"x\":[\"5\"],\"y\":[24.125]}},\"id\":\"d6a71af4-e981-4174-8719-7d1c9adb4014\",\"type\":\"ColumnDataSource\"},{\"attributes\":{\"legends\":[[\"8\",[{\"id\":\"89f003c2-514c-4eef-b01f-cb7217e3188d\",\"type\":\"GlyphRenderer\"},{\"id\":\"104378d2-ed56-4003-a349-9d1789e90ff9\",\"type\":\"GlyphRenderer\"},{\"id\":\"9aaa5b7a-f86a-43fa-a83b-10a51bff3cb8\",\"type\":\"GlyphRenderer\"},{\"id\":\"a03d5065-3e12-4f91-9966-1763d0ca5a7a\",\"type\":\"GlyphRenderer\"}]],[\"4\",[{\"id\":\"cdb572d1-390c-45f8-8ec0-8dcb967de64a\",\"type\":\"GlyphRenderer\"},{\"id\":\"579282af-2c3e-4334-8900-49aa6f54eb5b\",\"type\":\"GlyphRenderer\"},{\"id\":\"6bf657df-8ce3-4f60-97fe-2fee60b51b5f\",\"type\":\"GlyphRenderer\"},{\"id\":\"dcb19c60-5fbc-4ffc-885b-65d43eede184\",\"type\":\"GlyphRenderer\"}]],[\"6\",[{\"id\":\"1435f5d6-f81e-4757-8c8b-816ca55003a4\",\"type\":\"GlyphRenderer\"},{\"id\":\"84b0c2b5-16f7-43ea-8779-e0f609d4acf9\",\"type\":\"GlyphRenderer\"},{\"id\":\"08ad0788-e517-4372-8118-d0479a95a6ef\",\"type\":\"GlyphRenderer\"},{\"id\":\"e00205b9-851b-45d8-b02a-c1dd2a6897be\",\"type\":\"GlyphRenderer\"}]],[\"3\",[{\"id\":\"757d3acc-30d6-431f-a7c1-d23588468d4e\",\"type\":\"GlyphRenderer\"},{\"id\":\"bc33fa66-52a3-4182-afe7-53a3c6ead47e\",\"type\":\"GlyphRenderer\"},{\"id\":\"749803dd-199a-4940-877b-40258faefe41\",\"type\":\"GlyphRenderer\"}]],[\"5\",[{\"id\":\"45e79e02-622b-4e26-8130-a23638c5007d\",\"type\":\"GlyphRenderer\"},{\"id\":\"b7cbb8e9-a01b-4f7b-bf1d-21e11c6b6daa\",\"type\":\"GlyphRenderer\"},{\"id\":\"745799a2-16c7-4737-bc0c-ed3761550e01\",\"type\":\"GlyphRenderer\"}]]],\"location\":\"top_left\",\"plot\":{\"id\":\"11c7b2bd-1858-41c6-b799-5b86df96bfcb\",\"subtype\":\"Chart\",\"type\":\"Plot\"}},\"id\":\"bc973d96-b091-45a1-b486-ce6979e6d7b7\",\"type\":\"Legend\"}],\"root_ids\":[\"11c7b2bd-1858-41c6-b799-5b86df96bfcb\"]},\"title\":\"Bokeh Application\",\"version\":\"0.12.0\"}};\n",
       "            var render_items = [{\"docid\":\"fa4dbd74-e6b4-4012-8d74-9361e64c8cfe\",\"elementid\":\"31985926-3d84-47a1-9357-ce169e23aa3e\",\"modelid\":\"11c7b2bd-1858-41c6-b799-5b86df96bfcb\",\"notebook_comms_target\":\"7862f9a5-6749-4526-b1e5-bc754cb473df\"}];\n",
       "            \n",
       "            Bokeh.embed.embed_items(docs_json, render_items);\n",
       "        });\n",
       "      },\n",
       "      function(Bokeh) {\n",
       "      }\n",
       "    ];\n",
       "  \n",
       "    function run_inline_js() {\n",
       "      for (var i = 0; i < inline_js.length; i++) {\n",
       "        inline_js[i](window.Bokeh);\n",
       "      }\n",
       "    }\n",
       "  \n",
       "    if (window._bokeh_is_loading === 0) {\n",
       "      console.log(\"Bokeh: BokehJS loaded, going straight to plotting\");\n",
       "      run_inline_js();\n",
       "    } else {\n",
       "      load_libs(js_urls, function() {\n",
       "        console.log(\"Bokeh: BokehJS plotting callback run at\", now());\n",
       "        run_inline_js();\n",
       "      });\n",
       "    }\n",
       "  }(this));\n",
       "</script>"
      ]
     },
     "metadata": {},
     "output_type": "display_data"
    },
    {
     "data": {
      "text/html": [
       "<p><code>&lt;Bokeh Notebook handle for <strong>In[16]</strong>&gt;</code></p>"
      ],
      "text/plain": [
       "<bokeh.io._CommsHandle at 0x112c8a390>"
      ]
     },
     "execution_count": 14,
     "metadata": {},
     "output_type": "execute_result"
    }
   ],
   "source": [
    "from bokeh.plotting import figure\n",
    "from bokeh.charts import BoxPlot\n",
    "\n",
    "p = BoxPlot(df, values='mpg', label='cyl', color='#00cccc',\n",
    "            title=\"MPG Summary (grouped by CYL)\")\n",
    "show(p)"
   ]
  },
  {
   "cell_type": "code",
   "execution_count": null,
   "metadata": {
    "collapsed": false
   },
   "outputs": [],
   "source": []
  },
  {
   "cell_type": "code",
   "execution_count": null,
   "metadata": {
    "collapsed": true
   },
   "outputs": [],
   "source": []
  }
 ],
 "metadata": {
  "kernelspec": {
   "display_name": "Python [Root]",
   "language": "python",
   "name": "Python [Root]"
  },
  "language_info": {
   "codemirror_mode": {
    "name": "ipython",
    "version": 3
   },
   "file_extension": ".py",
   "mimetype": "text/x-python",
   "name": "python",
   "nbconvert_exporter": "python",
   "pygments_lexer": "ipython3",
   "version": "3.5.2"
  }
 },
 "nbformat": 4,
 "nbformat_minor": 0
}
