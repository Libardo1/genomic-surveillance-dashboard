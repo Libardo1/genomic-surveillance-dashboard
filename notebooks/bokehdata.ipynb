{
 "cells": [
  {
   "cell_type": "code",
   "execution_count": null,
   "metadata": {
    "collapsed": true
   },
   "outputs": [],
   "source": [
    "# from bokeh.sampledata.autompg import autompg as df\n",
    "from bokeh.io import show, output_notebook"
   ]
  },
  {
   "cell_type": "code",
   "execution_count": 2,
   "metadata": {
    "collapsed": false
   },
   "outputs": [
    {
     "data": {
      "text/html": [
       "\n",
       "    <div class=\"bk-root\">\n",
       "        <a href=\"http://bokeh.pydata.org\" target=\"_blank\" class=\"bk-logo bk-logo-small bk-logo-notebook\"></a>\n",
       "        <span id=\"20786425-54c6-4894-ba07-c1199de369af\">Loading BokehJS ...</span>\n",
       "    </div>\n",
       "    <p style=\"background-color: #f2d7dc;\">Warning: Requesting CDN BokehJS version '0.12.1' from Bokeh development version '0.12.1-16-g286fd8f'. This configuration is unsupported and may not work!</p>"
      ]
     },
     "metadata": {},
     "output_type": "display_data"
    },
    {
     "data": {
      "application/javascript": [
       "\n",
       "(function(global) {\n",
       "  function now() {\n",
       "    return new Date();\n",
       "  }\n",
       "\n",
       "  var force = \"1\";\n",
       "\n",
       "  if (typeof (window._bokeh_onload_callbacks) === \"undefined\" || force !== \"\") {\n",
       "    window._bokeh_onload_callbacks = [];\n",
       "    window._bokeh_is_loading = undefined;\n",
       "  }\n",
       "\n",
       "  function run_callbacks() {\n",
       "    window._bokeh_onload_callbacks.forEach(function(callback) { callback() });\n",
       "    delete window._bokeh_onload_callbacks\n",
       "    console.info(\"Bokeh: all callbacks have finished\");\n",
       "  }\n",
       "\n",
       "  function load_libs(js_urls, callback) {\n",
       "    window._bokeh_onload_callbacks.push(callback);\n",
       "    if (window._bokeh_is_loading > 0) {\n",
       "      console.log(\"Bokeh: BokehJS is being loaded, scheduling callback at\", now());\n",
       "      return null;\n",
       "    }\n",
       "    if (js_urls == null || js_urls.length === 0) {\n",
       "      run_callbacks();\n",
       "      return null;\n",
       "    }\n",
       "    console.log(\"Bokeh: BokehJS not loaded, scheduling load and callback at\", now());\n",
       "    window._bokeh_is_loading = js_urls.length;\n",
       "    for (var i = 0; i < js_urls.length; i++) {\n",
       "      var url = js_urls[i];\n",
       "      var s = document.createElement('script');\n",
       "      s.src = url;\n",
       "      s.async = false;\n",
       "      s.onreadystatechange = s.onload = function() {\n",
       "        window._bokeh_is_loading--;\n",
       "        if (window._bokeh_is_loading === 0) {\n",
       "          console.log(\"Bokeh: all BokehJS libraries loaded\");\n",
       "          run_callbacks()\n",
       "        }\n",
       "      };\n",
       "      s.onerror = function() {\n",
       "        console.warn(\"failed to load library \" + url);\n",
       "      };\n",
       "      console.log(\"Bokeh: injecting script tag for BokehJS library: \", url);\n",
       "      document.getElementsByTagName(\"head\")[0].appendChild(s);\n",
       "    }\n",
       "  };\n",
       "\n",
       "  var js_urls = ['https://cdn.pydata.org/bokeh/release/bokeh-0.12.1.min.js', 'https://cdn.pydata.org/bokeh/release/bokeh-widgets-0.12.1.min.js', 'https://cdn.pydata.org/bokeh/release/bokeh-compiler-0.12.1.min.js'];\n",
       "\n",
       "  var inline_js = [\n",
       "    function(Bokeh) {\n",
       "      Bokeh.set_log_level(\"info\");\n",
       "    },\n",
       "    \n",
       "    function(Bokeh) {\n",
       "      \n",
       "      Bokeh.$(\"#20786425-54c6-4894-ba07-c1199de369af\").text(\"BokehJS successfully loaded\");\n",
       "      var kernel = Jupyter.notebook.kernel\n",
       "      if (kernel.execute !== undefined) {\n",
       "          kernel.execute(\"import bokeh.io; bokeh.io._nb_loaded = True\");\n",
       "      }\n",
       "    },\n",
       "    function(Bokeh) {\n",
       "      console.log(\"Bokeh: injecting CSS: https://cdn.pydata.org/bokeh/release/bokeh-0.12.1.min.css\");\n",
       "      Bokeh.embed.inject_css(\"https://cdn.pydata.org/bokeh/release/bokeh-0.12.1.min.css\");\n",
       "      console.log(\"Bokeh: injecting CSS: https://cdn.pydata.org/bokeh/release/bokeh-widgets-0.12.1.min.css\");\n",
       "      Bokeh.embed.inject_css(\"https://cdn.pydata.org/bokeh/release/bokeh-widgets-0.12.1.min.css\");\n",
       "    }\n",
       "  ];\n",
       "\n",
       "  function run_inline_js() {\n",
       "    for (var i = 0; i < inline_js.length; i++) {\n",
       "      inline_js[i](window.Bokeh);\n",
       "    }\n",
       "  }\n",
       "\n",
       "  if (window._bokeh_is_loading === 0) {\n",
       "    console.log(\"Bokeh: BokehJS loaded, going straight to plotting\");\n",
       "    run_inline_js();\n",
       "  } else {\n",
       "    load_libs(js_urls, function() {\n",
       "      console.log(\"Bokeh: BokehJS plotting callback run at\", now());\n",
       "      run_inline_js();\n",
       "    });\n",
       "  }\n",
       "}(this));"
      ]
     },
     "metadata": {},
     "output_type": "display_data"
    }
   ],
   "source": [
    "output_notebook()"
   ]
  },
  {
   "cell_type": "code",
   "execution_count": 3,
   "metadata": {
    "collapsed": false,
    "scrolled": true
   },
   "outputs": [
    {
     "data": {
      "text/html": [
       "<div>\n",
       "<table border=\"1\" class=\"dataframe\">\n",
       "  <thead>\n",
       "    <tr style=\"text-align: right;\">\n",
       "      <th></th>\n",
       "      <th>mpg</th>\n",
       "      <th>cyl</th>\n",
       "      <th>displ</th>\n",
       "      <th>hp</th>\n",
       "      <th>weight</th>\n",
       "      <th>accel</th>\n",
       "      <th>yr</th>\n",
       "      <th>origin</th>\n",
       "      <th>name</th>\n",
       "    </tr>\n",
       "  </thead>\n",
       "  <tbody>\n",
       "    <tr>\n",
       "      <th>0</th>\n",
       "      <td>18.0</td>\n",
       "      <td>8</td>\n",
       "      <td>307.0</td>\n",
       "      <td>130</td>\n",
       "      <td>3504</td>\n",
       "      <td>12.0</td>\n",
       "      <td>70</td>\n",
       "      <td>1</td>\n",
       "      <td>chevrolet chevelle malibu</td>\n",
       "    </tr>\n",
       "    <tr>\n",
       "      <th>1</th>\n",
       "      <td>15.0</td>\n",
       "      <td>8</td>\n",
       "      <td>350.0</td>\n",
       "      <td>165</td>\n",
       "      <td>3693</td>\n",
       "      <td>11.5</td>\n",
       "      <td>70</td>\n",
       "      <td>1</td>\n",
       "      <td>buick skylark 320</td>\n",
       "    </tr>\n",
       "    <tr>\n",
       "      <th>2</th>\n",
       "      <td>18.0</td>\n",
       "      <td>8</td>\n",
       "      <td>318.0</td>\n",
       "      <td>150</td>\n",
       "      <td>3436</td>\n",
       "      <td>11.0</td>\n",
       "      <td>70</td>\n",
       "      <td>1</td>\n",
       "      <td>plymouth satellite</td>\n",
       "    </tr>\n",
       "    <tr>\n",
       "      <th>3</th>\n",
       "      <td>16.0</td>\n",
       "      <td>8</td>\n",
       "      <td>304.0</td>\n",
       "      <td>150</td>\n",
       "      <td>3433</td>\n",
       "      <td>12.0</td>\n",
       "      <td>70</td>\n",
       "      <td>1</td>\n",
       "      <td>amc rebel sst</td>\n",
       "    </tr>\n",
       "    <tr>\n",
       "      <th>4</th>\n",
       "      <td>17.0</td>\n",
       "      <td>8</td>\n",
       "      <td>302.0</td>\n",
       "      <td>140</td>\n",
       "      <td>3449</td>\n",
       "      <td>10.5</td>\n",
       "      <td>70</td>\n",
       "      <td>1</td>\n",
       "      <td>ford torino</td>\n",
       "    </tr>\n",
       "  </tbody>\n",
       "</table>\n",
       "</div>"
      ],
      "text/plain": [
       "    mpg  cyl  displ   hp  weight  accel  yr  origin                       name\n",
       "0  18.0    8  307.0  130    3504   12.0  70       1  chevrolet chevelle malibu\n",
       "1  15.0    8  350.0  165    3693   11.5  70       1          buick skylark 320\n",
       "2  18.0    8  318.0  150    3436   11.0  70       1         plymouth satellite\n",
       "3  16.0    8  304.0  150    3433   12.0  70       1              amc rebel sst\n",
       "4  17.0    8  302.0  140    3449   10.5  70       1                ford torino"
      ]
     },
     "execution_count": 3,
     "metadata": {},
     "output_type": "execute_result"
    }
   ],
   "source": [
    "df.head()"
   ]
  },
  {
   "cell_type": "code",
   "execution_count": 4,
   "metadata": {
    "collapsed": false
   },
   "outputs": [
    {
     "data": {
      "text/html": [
       "\n",
       "\n",
       "    <div class=\"bk-root\">\n",
       "        <div class=\"plotdiv\" id=\"7e077691-fae5-48cf-a772-9e06f3e98267\"></div>\n",
       "    </div>\n",
       "<script type=\"text/javascript\">\n",
       "  \n",
       "  (function(global) {\n",
       "    function now() {\n",
       "      return new Date();\n",
       "    }\n",
       "  \n",
       "    var force = \"\";\n",
       "  \n",
       "    if (typeof (window._bokeh_onload_callbacks) === \"undefined\" || force !== \"\") {\n",
       "      window._bokeh_onload_callbacks = [];\n",
       "      window._bokeh_is_loading = undefined;\n",
       "    }\n",
       "  \n",
       "    function run_callbacks() {\n",
       "      window._bokeh_onload_callbacks.forEach(function(callback) { callback() });\n",
       "      delete window._bokeh_onload_callbacks\n",
       "      console.info(\"Bokeh: all callbacks have finished\");\n",
       "    }\n",
       "  \n",
       "    function load_libs(js_urls, callback) {\n",
       "      window._bokeh_onload_callbacks.push(callback);\n",
       "      if (window._bokeh_is_loading > 0) {\n",
       "        console.log(\"Bokeh: BokehJS is being loaded, scheduling callback at\", now());\n",
       "        return null;\n",
       "      }\n",
       "      if (js_urls == null || js_urls.length === 0) {\n",
       "        run_callbacks();\n",
       "        return null;\n",
       "      }\n",
       "      console.log(\"Bokeh: BokehJS not loaded, scheduling load and callback at\", now());\n",
       "      window._bokeh_is_loading = js_urls.length;\n",
       "      for (var i = 0; i < js_urls.length; i++) {\n",
       "        var url = js_urls[i];\n",
       "        var s = document.createElement('script');\n",
       "        s.src = url;\n",
       "        s.async = false;\n",
       "        s.onreadystatechange = s.onload = function() {\n",
       "          window._bokeh_is_loading--;\n",
       "          if (window._bokeh_is_loading === 0) {\n",
       "            console.log(\"Bokeh: all BokehJS libraries loaded\");\n",
       "            run_callbacks()\n",
       "          }\n",
       "        };\n",
       "        s.onerror = function() {\n",
       "          console.warn(\"failed to load library \" + url);\n",
       "        };\n",
       "        console.log(\"Bokeh: injecting script tag for BokehJS library: \", url);\n",
       "        document.getElementsByTagName(\"head\")[0].appendChild(s);\n",
       "      }\n",
       "    };var element = document.getElementById(\"7e077691-fae5-48cf-a772-9e06f3e98267\");\n",
       "    if (element == null) {\n",
       "      console.log(\"Bokeh: ERROR: autoload.js configured with elementid '7e077691-fae5-48cf-a772-9e06f3e98267' but no matching script tag was found. \")\n",
       "      return false;\n",
       "    }\n",
       "  \n",
       "    var js_urls = [];\n",
       "  \n",
       "    var inline_js = [\n",
       "      function(Bokeh) {\n",
       "        Bokeh.$(function() {\n",
       "            var docs_json = {\"36bcea89-af47-4bde-a79c-85e8a3105933\":{\"roots\":{\"references\":[{\"attributes\":{\"callback\":null,\"column_names\":[\"y1s\",\"y0s\",\"x1s\",\"x0s\"],\"data\":{\"chart_index\":[{\"cyl\":5},{\"cyl\":5},{\"cyl\":5},{\"cyl\":5}],\"cyl\":[5,5,5,5],\"x0s\":[\"5:0.5\",\"5:0.65\",\"5:0.5\",\"5:0.65\"],\"x1s\":[\"5:0.5\",\"5:0.35\",\"5:0.5\",\"5:0.35\"],\"y0s\":[20.3,20.3,30.9,36.4],\"y1s\":[22.85,20.3,36.4,36.4]}},\"id\":\"e77db814-bddc-4a58-8df8-5eca8f95930e\",\"type\":\"ColumnDataSource\"},{\"attributes\":{\"axis_label\":\"Cyl\",\"formatter\":{\"id\":\"d910e934-137e-4f5d-8bba-cb47b1f16676\",\"type\":\"CategoricalTickFormatter\"},\"major_label_orientation\":0.7853981633974483,\"plot\":{\"id\":\"7e166a06-5af4-4119-8420-e7fdb1134765\",\"subtype\":\"Chart\",\"type\":\"Plot\"},\"ticker\":{\"id\":\"42694b6c-3af1-479c-b9cb-d2139667edeb\",\"type\":\"CategoricalTicker\"}},\"id\":\"84a62516-9b11-4751-ab71-d860830f3301\",\"type\":\"CategoricalAxis\"},{\"attributes\":{\"callback\":null,\"column_names\":[\"x\",\"fill_alpha\",\"height\",\"line_alpha\",\"line_color\",\"label\",\"width\",\"y\",\"color\"],\"data\":{\"chart_index\":[{\"cyl\":3}],\"color\":[\"#00cccc\"],\"cyl\":[3],\"fill_alpha\":[0.8],\"height\":[1.5],\"label\":[{\"cyl\":3}],\"line_alpha\":[1.0],\"line_color\":[\"black\"],\"width\":[0.8],\"x\":[\"3\"],\"y\":[19.5]}},\"id\":\"1407bd04-4158-45eb-8cfc-ceda74b78e67\",\"type\":\"ColumnDataSource\"},{\"attributes\":{\"callback\":null,\"factors\":[\"3\",\"4\",\"5\",\"6\",\"8\"]},\"id\":\"16db54c7-943d-4efa-a931-3908bfaa088e\",\"type\":\"FactorRange\"},{\"attributes\":{\"line_width\":{\"value\":2},\"x0\":{\"field\":\"x0s\"},\"x1\":{\"field\":\"x1s\"},\"y0\":{\"field\":\"y0s\"},\"y1\":{\"field\":\"y1s\"}},\"id\":\"62adbaca-d57a-4704-8d65-9a78796211c6\",\"type\":\"Segment\"},{\"attributes\":{},\"id\":\"0f0e8c11-37b3-481c-8432-11504a280b71\",\"type\":\"BasicTicker\"},{\"attributes\":{\"below\":[{\"id\":\"84a62516-9b11-4751-ab71-d860830f3301\",\"type\":\"CategoricalAxis\"}],\"left\":[{\"id\":\"3d70b1f4-5899-4f3e-b8b6-29d83b92f889\",\"type\":\"LinearAxis\"}],\"renderers\":[{\"id\":\"d8a7ed7f-6d8d-4270-8ad9-20b7859c93ee\",\"type\":\"BoxAnnotation\"},{\"id\":\"f0f7d0ad-20ba-44b9-9dee-95524d5adc4e\",\"type\":\"GlyphRenderer\"},{\"id\":\"9a4eb073-4633-45c8-9177-62f5600469b9\",\"type\":\"GlyphRenderer\"},{\"id\":\"f0686907-bb74-4878-895c-a882b6b48b99\",\"type\":\"GlyphRenderer\"},{\"id\":\"477d2708-da7a-4340-bf45-78c40376eaa5\",\"type\":\"GlyphRenderer\"},{\"id\":\"4c0f22ac-0c62-4472-a3b7-26e8182d513a\",\"type\":\"GlyphRenderer\"},{\"id\":\"e25a71bc-6b7c-4a5d-888f-d663f5a2d938\",\"type\":\"GlyphRenderer\"},{\"id\":\"80fa2095-e4ce-4543-96bd-ca0bcf4028e8\",\"type\":\"GlyphRenderer\"},{\"id\":\"c4b53a72-9cc2-4019-af0e-ffa819176ae6\",\"type\":\"GlyphRenderer\"},{\"id\":\"94c12060-8add-48e2-870b-5ddf57a67933\",\"type\":\"GlyphRenderer\"},{\"id\":\"c1b9b83d-03d6-4fb5-a1f4-a06338358f1d\",\"type\":\"GlyphRenderer\"},{\"id\":\"d387f56e-08b1-42db-8b86-acbb73be4d42\",\"type\":\"GlyphRenderer\"},{\"id\":\"384aae9a-c9cb-47eb-87d7-8be782d2084e\",\"type\":\"GlyphRenderer\"},{\"id\":\"74a4d70b-6c12-42ae-98ab-c8b52a8b5a54\",\"type\":\"GlyphRenderer\"},{\"id\":\"1d086cce-1919-44ec-abe1-7d6263d82038\",\"type\":\"GlyphRenderer\"},{\"id\":\"b380e94f-7bce-4d3c-b9a0-7384e2c21d2e\",\"type\":\"GlyphRenderer\"},{\"id\":\"32236b85-2b68-421b-8762-078bfe1555ec\",\"type\":\"GlyphRenderer\"},{\"id\":\"fec3c26d-483c-49e7-98df-7f4c3bee7796\",\"type\":\"GlyphRenderer\"},{\"id\":\"649ac7bd-77d5-40d2-8c20-19a1db50c377\",\"type\":\"GlyphRenderer\"},{\"id\":\"8b66f0c5-007b-4504-9c9c-acca1d85f6d3\",\"type\":\"Legend\"},{\"id\":\"84a62516-9b11-4751-ab71-d860830f3301\",\"type\":\"CategoricalAxis\"},{\"id\":\"3d70b1f4-5899-4f3e-b8b6-29d83b92f889\",\"type\":\"LinearAxis\"},{\"id\":\"902ac74e-a20e-4958-a85e-f8cc9ce77298\",\"type\":\"Grid\"}],\"title\":{\"id\":\"21cd5eb3-cca0-42b6-add2-191e3536c3ed\",\"type\":\"Title\"},\"tool_events\":{\"id\":\"3e8af690-68e9-4fea-bbe3-51b9602f0cff\",\"type\":\"ToolEvents\"},\"toolbar\":{\"id\":\"c78f35a7-c2b6-46d8-83a0-3e4030415006\",\"type\":\"Toolbar\"},\"x_mapper_type\":\"auto\",\"x_range\":{\"id\":\"16db54c7-943d-4efa-a931-3908bfaa088e\",\"type\":\"FactorRange\"},\"y_mapper_type\":\"auto\",\"y_range\":{\"id\":\"6b65b442-3613-4e9e-be2b-c8af59b1a9c4\",\"type\":\"Range1d\"}},\"id\":\"7e166a06-5af4-4119-8420-e7fdb1134765\",\"subtype\":\"Chart\",\"type\":\"Plot\"},{\"attributes\":{\"callback\":null,\"end\":49.38},\"id\":\"6b65b442-3613-4e9e-be2b-c8af59b1a9c4\",\"type\":\"Range1d\"},{\"attributes\":{\"fill_alpha\":{\"field\":\"fill_alpha\"},\"fill_color\":{\"field\":\"color\"},\"height\":{\"field\":\"height\",\"units\":\"data\"},\"line_color\":{\"field\":\"line_color\"},\"width\":{\"field\":\"width\",\"units\":\"data\"},\"x\":{\"field\":\"x\"},\"y\":{\"field\":\"y\"}},\"id\":\"b3d3ed40-3cdd-47f6-bd6c-8e862ab9dfa5\",\"type\":\"Rect\"},{\"attributes\":{\"fill_alpha\":{\"field\":\"fill_alpha\"},\"fill_color\":{\"field\":\"color\"},\"height\":{\"field\":\"height\",\"units\":\"data\"},\"line_color\":{\"field\":\"line_color\"},\"width\":{\"field\":\"width\",\"units\":\"data\"},\"x\":{\"field\":\"x\"},\"y\":{\"field\":\"y\"}},\"id\":\"e68ee932-0a8a-4dcc-84e7-50c5ca5ca4e8\",\"type\":\"Rect\"},{\"attributes\":{\"callback\":null,\"column_names\":[\"x\",\"fill_alpha\",\"height\",\"line_alpha\",\"line_color\",\"label\",\"width\",\"y\",\"color\"],\"data\":{\"chart_index\":[{\"cyl\":8}],\"color\":[\"#00cccc\"],\"cyl\":[8],\"fill_alpha\":[0.8],\"height\":[2.0],\"label\":[{\"cyl\":8}],\"line_alpha\":[1.0],\"line_color\":[\"black\"],\"width\":[0.8],\"x\":[\"8\"],\"y\":[15.0]}},\"id\":\"4eb67299-8d8d-410b-bad9-efcef0835ad7\",\"type\":\"ColumnDataSource\"},{\"attributes\":{\"callback\":null,\"column_names\":[\"x\",\"fill_alpha\",\"height\",\"line_alpha\",\"line_color\",\"label\",\"width\",\"y\",\"color\"],\"data\":{\"chart_index\":[{\"cyl\":4}],\"color\":[\"#00cccc\"],\"cyl\":[4],\"fill_alpha\":[0.8],\"height\":[3.3999999999999986],\"label\":[{\"cyl\":4}],\"line_alpha\":[1.0],\"line_color\":[\"black\"],\"width\":[0.8],\"x\":[\"4\"],\"y\":[26.7]}},\"id\":\"b32e0b6d-46a1-41b4-97cf-ccd53b782f29\",\"type\":\"ColumnDataSource\"},{\"attributes\":{\"callback\":null,\"column_names\":[\"y1s\",\"y0s\",\"x1s\",\"x0s\"],\"data\":{\"chart_index\":[{\"cyl\":4},{\"cyl\":4},{\"cyl\":4},{\"cyl\":4}],\"cyl\":[4,4,4,4],\"x0s\":[\"4:0.5\",\"4:0.65\",\"4:0.5\",\"4:0.65\"],\"x1s\":[\"4:0.5\",\"4:0.35\",\"4:0.5\",\"4:0.35\"],\"y0s\":[18.0,18.0,32.95,44.87500000000001],\"y1s\":[25.0,18.0,44.87500000000001,44.87500000000001]}},\"id\":\"ec26b4eb-68b1-4c63-916b-3318112f49c9\",\"type\":\"ColumnDataSource\"},{\"attributes\":{\"data_source\":{\"id\":\"a9c793ea-76f3-4995-9655-365fdc7090c8\",\"type\":\"ColumnDataSource\"},\"glyph\":{\"id\":\"a2806633-7905-40a5-9420-68d8eeba0fda\",\"type\":\"Rect\"},\"hover_glyph\":null,\"nonselection_glyph\":null,\"selection_glyph\":null},\"id\":\"fec3c26d-483c-49e7-98df-7f4c3bee7796\",\"type\":\"GlyphRenderer\"},{\"attributes\":{\"data_source\":{\"id\":\"ec26b4eb-68b1-4c63-916b-3318112f49c9\",\"type\":\"ColumnDataSource\"},\"glyph\":{\"id\":\"a6e58dd0-d32b-4c1b-ae01-14cac9ec546f\",\"type\":\"Segment\"},\"hover_glyph\":null,\"nonselection_glyph\":null,\"selection_glyph\":null},\"id\":\"c4b53a72-9cc2-4019-af0e-ffa819176ae6\",\"type\":\"GlyphRenderer\"},{\"attributes\":{\"fill_alpha\":{\"value\":0.7},\"fill_color\":{\"value\":\"red\"},\"line_color\":{\"value\":\"red\"},\"size\":{\"units\":\"screen\",\"value\":5},\"x\":{\"field\":\"x_values\"},\"y\":{\"field\":\"y_values\"}},\"id\":\"85e28308-7594-4131-8025-968ce238df58\",\"type\":\"Circle\"},{\"attributes\":{\"callback\":null,\"column_names\":[\"x_values\",\"y_values\"],\"data\":{\"chart_index\":[{\"cyl\":8},{\"cyl\":8},{\"cyl\":8}],\"cyl\":[8,8,8],\"x_values\":[\"8:0.5\",\"8:0.5\",\"8:0.5\"],\"y_values\":[23.0,23.9,26.6]}},\"id\":\"40d48fdb-f421-4989-9fcb-443a5f8bef50\",\"type\":\"ColumnDataSource\"},{\"attributes\":{\"plot\":null,\"text\":\"MPG Summary (grouped by CYL)\"},\"id\":\"21cd5eb3-cca0-42b6-add2-191e3536c3ed\",\"type\":\"Title\"},{\"attributes\":{\"callback\":null,\"column_names\":[\"x\",\"fill_alpha\",\"height\",\"line_alpha\",\"line_color\",\"label\",\"width\",\"y\",\"color\"],\"data\":{\"chart_index\":[{\"cyl\":5}],\"color\":[\"#00cccc\"],\"cyl\":[5],\"fill_alpha\":[0.8],\"height\":[2.549999999999997],\"label\":[{\"cyl\":5}],\"line_alpha\":[1.0],\"line_color\":[\"black\"],\"width\":[0.8],\"x\":[\"5\"],\"y\":[24.125]}},\"id\":\"fb490872-24c3-4b1f-8ffa-1fa120031688\",\"type\":\"ColumnDataSource\"},{\"attributes\":{\"data_source\":{\"id\":\"4eb67299-8d8d-410b-bad9-efcef0835ad7\",\"type\":\"ColumnDataSource\"},\"glyph\":{\"id\":\"e68ee932-0a8a-4dcc-84e7-50c5ca5ca4e8\",\"type\":\"Rect\"},\"hover_glyph\":null,\"nonselection_glyph\":null,\"selection_glyph\":null},\"id\":\"9a4eb073-4633-45c8-9177-62f5600469b9\",\"type\":\"GlyphRenderer\"},{\"attributes\":{\"plot\":{\"id\":\"7e166a06-5af4-4119-8420-e7fdb1134765\",\"subtype\":\"Chart\",\"type\":\"Plot\"}},\"id\":\"178320ce-b0bb-4517-a8da-2b61f01abb12\",\"type\":\"PanTool\"},{\"attributes\":{\"data_source\":{\"id\":\"c9e3b6d7-bb34-4605-ad2e-93c999a7e6a5\",\"type\":\"ColumnDataSource\"},\"glyph\":{\"id\":\"d7413a53-a98e-4085-bea7-7218159ac29d\",\"type\":\"Rect\"},\"hover_glyph\":null,\"nonselection_glyph\":null,\"selection_glyph\":null},\"id\":\"94c12060-8add-48e2-870b-5ddf57a67933\",\"type\":\"GlyphRenderer\"},{\"attributes\":{\"fill_alpha\":{\"field\":\"fill_alpha\"},\"fill_color\":{\"field\":\"color\"},\"height\":{\"field\":\"height\",\"units\":\"data\"},\"line_color\":{\"field\":\"line_color\"},\"width\":{\"field\":\"width\",\"units\":\"data\"},\"x\":{\"field\":\"x\"},\"y\":{\"field\":\"y\"}},\"id\":\"d7413a53-a98e-4085-bea7-7218159ac29d\",\"type\":\"Rect\"},{\"attributes\":{\"data_source\":{\"id\":\"6577df3d-6bfb-42d7-8402-938d73bd0bd5\",\"type\":\"ColumnDataSource\"},\"glyph\":{\"id\":\"b3d3ed40-3cdd-47f6-bd6c-8e862ab9dfa5\",\"type\":\"Rect\"},\"hover_glyph\":null,\"nonselection_glyph\":null,\"selection_glyph\":null},\"id\":\"e25a71bc-6b7c-4a5d-888f-d663f5a2d938\",\"type\":\"GlyphRenderer\"},{\"attributes\":{},\"id\":\"35d6b353-f1c1-4207-80bc-03fd5d53cb48\",\"type\":\"BasicTickFormatter\"},{\"attributes\":{\"line_width\":{\"value\":2},\"x0\":{\"field\":\"x0s\"},\"x1\":{\"field\":\"x1s\"},\"y0\":{\"field\":\"y0s\"},\"y1\":{\"field\":\"y1s\"}},\"id\":\"3fbc5441-305c-4727-a4e4-f0ce64418ac2\",\"type\":\"Segment\"},{\"attributes\":{\"plot\":{\"id\":\"7e166a06-5af4-4119-8420-e7fdb1134765\",\"subtype\":\"Chart\",\"type\":\"Plot\"}},\"id\":\"2f209caf-ec05-48c8-934c-a7a248279b1a\",\"type\":\"HelpTool\"},{\"attributes\":{\"legends\":[[\"8\",[{\"id\":\"f0f7d0ad-20ba-44b9-9dee-95524d5adc4e\",\"type\":\"GlyphRenderer\"},{\"id\":\"9a4eb073-4633-45c8-9177-62f5600469b9\",\"type\":\"GlyphRenderer\"},{\"id\":\"f0686907-bb74-4878-895c-a882b6b48b99\",\"type\":\"GlyphRenderer\"},{\"id\":\"477d2708-da7a-4340-bf45-78c40376eaa5\",\"type\":\"GlyphRenderer\"}]],[\"4\",[{\"id\":\"4c0f22ac-0c62-4472-a3b7-26e8182d513a\",\"type\":\"GlyphRenderer\"},{\"id\":\"e25a71bc-6b7c-4a5d-888f-d663f5a2d938\",\"type\":\"GlyphRenderer\"},{\"id\":\"80fa2095-e4ce-4543-96bd-ca0bcf4028e8\",\"type\":\"GlyphRenderer\"},{\"id\":\"c4b53a72-9cc2-4019-af0e-ffa819176ae6\",\"type\":\"GlyphRenderer\"}]],[\"6\",[{\"id\":\"94c12060-8add-48e2-870b-5ddf57a67933\",\"type\":\"GlyphRenderer\"},{\"id\":\"c1b9b83d-03d6-4fb5-a1f4-a06338358f1d\",\"type\":\"GlyphRenderer\"},{\"id\":\"d387f56e-08b1-42db-8b86-acbb73be4d42\",\"type\":\"GlyphRenderer\"},{\"id\":\"384aae9a-c9cb-47eb-87d7-8be782d2084e\",\"type\":\"GlyphRenderer\"}]],[\"3\",[{\"id\":\"74a4d70b-6c12-42ae-98ab-c8b52a8b5a54\",\"type\":\"GlyphRenderer\"},{\"id\":\"1d086cce-1919-44ec-abe1-7d6263d82038\",\"type\":\"GlyphRenderer\"},{\"id\":\"b380e94f-7bce-4d3c-b9a0-7384e2c21d2e\",\"type\":\"GlyphRenderer\"}]],[\"5\",[{\"id\":\"32236b85-2b68-421b-8762-078bfe1555ec\",\"type\":\"GlyphRenderer\"},{\"id\":\"fec3c26d-483c-49e7-98df-7f4c3bee7796\",\"type\":\"GlyphRenderer\"},{\"id\":\"649ac7bd-77d5-40d2-8c20-19a1db50c377\",\"type\":\"GlyphRenderer\"}]]],\"location\":\"top_left\",\"plot\":{\"id\":\"7e166a06-5af4-4119-8420-e7fdb1134765\",\"subtype\":\"Chart\",\"type\":\"Plot\"}},\"id\":\"8b66f0c5-007b-4504-9c9c-acca1d85f6d3\",\"type\":\"Legend\"},{\"attributes\":{\"callback\":null,\"column_names\":[\"x\",\"fill_alpha\",\"height\",\"line_alpha\",\"line_color\",\"label\",\"width\",\"y\",\"color\"],\"data\":{\"chart_index\":[{\"cyl\":3}],\"color\":[\"#00cccc\"],\"cyl\":[3],\"fill_alpha\":[0.8],\"height\":[1.8000000000000007],\"label\":[{\"cyl\":3}],\"line_alpha\":[1.0],\"line_color\":[\"black\"],\"width\":[0.8],\"x\":[\"3\"],\"y\":[21.15]}},\"id\":\"acd6a4f5-78ce-488b-810a-fb064f4ad8fb\",\"type\":\"ColumnDataSource\"},{\"attributes\":{\"callback\":null,\"column_names\":[\"x\",\"fill_alpha\",\"height\",\"line_alpha\",\"line_color\",\"label\",\"width\",\"y\",\"color\"],\"data\":{\"chart_index\":[{\"cyl\":6}],\"color\":[\"#00cccc\"],\"cyl\":[6],\"fill_alpha\":[0.8],\"height\":[1.0],\"label\":[{\"cyl\":6}],\"line_alpha\":[1.0],\"line_color\":[\"black\"],\"width\":[0.8],\"x\":[\"6\"],\"y\":[18.5]}},\"id\":\"c9e3b6d7-bb34-4605-ad2e-93c999a7e6a5\",\"type\":\"ColumnDataSource\"},{\"attributes\":{\"plot\":{\"id\":\"7e166a06-5af4-4119-8420-e7fdb1134765\",\"subtype\":\"Chart\",\"type\":\"Plot\"}},\"id\":\"4cdec767-536f-48c4-b826-bf4234c49f79\",\"type\":\"WheelZoomTool\"},{\"attributes\":{\"fill_alpha\":{\"field\":\"fill_alpha\"},\"fill_color\":{\"field\":\"color\"},\"height\":{\"field\":\"height\",\"units\":\"data\"},\"line_color\":{\"field\":\"line_color\"},\"width\":{\"field\":\"width\",\"units\":\"data\"},\"x\":{\"field\":\"x\"},\"y\":{\"field\":\"y\"}},\"id\":\"b506cef2-54e3-4879-9f78-1e6d0117aa84\",\"type\":\"Rect\"},{\"attributes\":{},\"id\":\"d910e934-137e-4f5d-8bba-cb47b1f16676\",\"type\":\"CategoricalTickFormatter\"},{\"attributes\":{\"fill_alpha\":{\"field\":\"fill_alpha\"},\"fill_color\":{\"field\":\"color\"},\"height\":{\"field\":\"height\",\"units\":\"data\"},\"line_color\":{\"field\":\"line_color\"},\"width\":{\"field\":\"width\",\"units\":\"data\"},\"x\":{\"field\":\"x\"},\"y\":{\"field\":\"y\"}},\"id\":\"8d2ba37c-69ef-4112-a1bd-a8ea7b7f42e4\",\"type\":\"Rect\"},{\"attributes\":{\"bottom_units\":\"screen\",\"fill_alpha\":{\"value\":0.5},\"fill_color\":{\"value\":\"lightgrey\"},\"left_units\":\"screen\",\"level\":\"overlay\",\"line_alpha\":{\"value\":1.0},\"line_color\":{\"value\":\"black\"},\"line_dash\":[4,4],\"line_width\":{\"value\":2},\"plot\":null,\"render_mode\":\"css\",\"right_units\":\"screen\",\"top_units\":\"screen\"},\"id\":\"d8a7ed7f-6d8d-4270-8ad9-20b7859c93ee\",\"type\":\"BoxAnnotation\"},{\"attributes\":{\"fill_alpha\":{\"field\":\"fill_alpha\"},\"fill_color\":{\"field\":\"color\"},\"height\":{\"field\":\"height\",\"units\":\"data\"},\"line_color\":{\"field\":\"line_color\"},\"width\":{\"field\":\"width\",\"units\":\"data\"},\"x\":{\"field\":\"x\"},\"y\":{\"field\":\"y\"}},\"id\":\"7c06b76b-4015-421c-ad8d-57063d0b0c10\",\"type\":\"Rect\"},{\"attributes\":{\"callback\":null,\"column_names\":[\"x\",\"fill_alpha\",\"height\",\"line_alpha\",\"line_color\",\"label\",\"width\",\"y\",\"color\"],\"data\":{\"chart_index\":[{\"cyl\":5}],\"color\":[\"#00cccc\"],\"cyl\":[5],\"fill_alpha\":[0.8],\"height\":[5.5],\"label\":[{\"cyl\":5}],\"line_alpha\":[1.0],\"line_color\":[\"black\"],\"width\":[0.8],\"x\":[\"5\"],\"y\":[28.15]}},\"id\":\"a9c793ea-76f3-4995-9655-365fdc7090c8\",\"type\":\"ColumnDataSource\"},{\"attributes\":{\"data_source\":{\"id\":\"40d48fdb-f421-4989-9fcb-443a5f8bef50\",\"type\":\"ColumnDataSource\"},\"glyph\":{\"id\":\"7147190d-9501-42ca-9d38-d2c638bbbc2c\",\"type\":\"Circle\"},\"hover_glyph\":null,\"nonselection_glyph\":null,\"selection_glyph\":null},\"id\":\"f0686907-bb74-4878-895c-a882b6b48b99\",\"type\":\"GlyphRenderer\"},{\"attributes\":{\"dimension\":1,\"plot\":{\"id\":\"7e166a06-5af4-4119-8420-e7fdb1134765\",\"subtype\":\"Chart\",\"type\":\"Plot\"},\"ticker\":{\"id\":\"0f0e8c11-37b3-481c-8432-11504a280b71\",\"type\":\"BasicTicker\"}},\"id\":\"902ac74e-a20e-4958-a85e-f8cc9ce77298\",\"type\":\"Grid\"},{\"attributes\":{\"axis_label\":\"Mpg\",\"formatter\":{\"id\":\"35d6b353-f1c1-4207-80bc-03fd5d53cb48\",\"type\":\"BasicTickFormatter\"},\"plot\":{\"id\":\"7e166a06-5af4-4119-8420-e7fdb1134765\",\"subtype\":\"Chart\",\"type\":\"Plot\"},\"ticker\":{\"id\":\"0f0e8c11-37b3-481c-8432-11504a280b71\",\"type\":\"BasicTicker\"}},\"id\":\"3d70b1f4-5899-4f3e-b8b6-29d83b92f889\",\"type\":\"LinearAxis\"},{\"attributes\":{\"callback\":null,\"column_names\":[\"x\",\"fill_alpha\",\"height\",\"line_alpha\",\"line_color\",\"label\",\"width\",\"y\",\"color\"],\"data\":{\"chart_index\":[{\"cyl\":4}],\"color\":[\"#00cccc\"],\"cyl\":[4],\"fill_alpha\":[0.8],\"height\":[4.550000000000004],\"label\":[{\"cyl\":4}],\"line_alpha\":[1.0],\"line_color\":[\"black\"],\"width\":[0.8],\"x\":[\"4\"],\"y\":[30.675]}},\"id\":\"6577df3d-6bfb-42d7-8402-938d73bd0bd5\",\"type\":\"ColumnDataSource\"},{\"attributes\":{\"data_source\":{\"id\":\"e77db814-bddc-4a58-8df8-5eca8f95930e\",\"type\":\"ColumnDataSource\"},\"glyph\":{\"id\":\"62adbaca-d57a-4704-8d65-9a78796211c6\",\"type\":\"Segment\"},\"hover_glyph\":null,\"nonselection_glyph\":null,\"selection_glyph\":null},\"id\":\"649ac7bd-77d5-40d2-8c20-19a1db50c377\",\"type\":\"GlyphRenderer\"},{\"attributes\":{},\"id\":\"42694b6c-3af1-479c-b9cb-d2139667edeb\",\"type\":\"CategoricalTicker\"},{\"attributes\":{\"fill_alpha\":{\"field\":\"fill_alpha\"},\"fill_color\":{\"field\":\"color\"},\"height\":{\"field\":\"height\",\"units\":\"data\"},\"line_color\":{\"field\":\"line_color\"},\"width\":{\"field\":\"width\",\"units\":\"data\"},\"x\":{\"field\":\"x\"},\"y\":{\"field\":\"y\"}},\"id\":\"ab3055f3-4441-412f-87d9-58298eb703ee\",\"type\":\"Rect\"},{\"attributes\":{\"overlay\":{\"id\":\"d8a7ed7f-6d8d-4270-8ad9-20b7859c93ee\",\"type\":\"BoxAnnotation\"},\"plot\":{\"id\":\"7e166a06-5af4-4119-8420-e7fdb1134765\",\"subtype\":\"Chart\",\"type\":\"Plot\"}},\"id\":\"70369317-03b7-4077-9de8-da96618781dc\",\"type\":\"BoxZoomTool\"},{\"attributes\":{\"data_source\":{\"id\":\"1407bd04-4158-45eb-8cfc-ceda74b78e67\",\"type\":\"ColumnDataSource\"},\"glyph\":{\"id\":\"b506cef2-54e3-4879-9f78-1e6d0117aa84\",\"type\":\"Rect\"},\"hover_glyph\":null,\"nonselection_glyph\":null,\"selection_glyph\":null},\"id\":\"74a4d70b-6c12-42ae-98ab-c8b52a8b5a54\",\"type\":\"GlyphRenderer\"},{\"attributes\":{\"data_source\":{\"id\":\"fb490872-24c3-4b1f-8ffa-1fa120031688\",\"type\":\"ColumnDataSource\"},\"glyph\":{\"id\":\"7c06b76b-4015-421c-ad8d-57063d0b0c10\",\"type\":\"Rect\"},\"hover_glyph\":null,\"nonselection_glyph\":null,\"selection_glyph\":null},\"id\":\"32236b85-2b68-421b-8762-078bfe1555ec\",\"type\":\"GlyphRenderer\"},{\"attributes\":{\"data_source\":{\"id\":\"b32e0b6d-46a1-41b4-97cf-ccd53b782f29\",\"type\":\"ColumnDataSource\"},\"glyph\":{\"id\":\"ab3055f3-4441-412f-87d9-58298eb703ee\",\"type\":\"Rect\"},\"hover_glyph\":null,\"nonselection_glyph\":null,\"selection_glyph\":null},\"id\":\"4c0f22ac-0c62-4472-a3b7-26e8182d513a\",\"type\":\"GlyphRenderer\"},{\"attributes\":{\"data_source\":{\"id\":\"acd6a4f5-78ce-488b-810a-fb064f4ad8fb\",\"type\":\"ColumnDataSource\"},\"glyph\":{\"id\":\"93ccad27-2c6d-40c1-bbf3-e0be9465b2ba\",\"type\":\"Rect\"},\"hover_glyph\":null,\"nonselection_glyph\":null,\"selection_glyph\":null},\"id\":\"1d086cce-1919-44ec-abe1-7d6263d82038\",\"type\":\"GlyphRenderer\"},{\"attributes\":{\"data_source\":{\"id\":\"60615622-70fa-4077-9ce5-d762679520ad\",\"type\":\"ColumnDataSource\"},\"glyph\":{\"id\":\"3fbc5441-305c-4727-a4e4-f0ce64418ac2\",\"type\":\"Segment\"},\"hover_glyph\":null,\"nonselection_glyph\":null,\"selection_glyph\":null},\"id\":\"b380e94f-7bce-4d3c-b9a0-7384e2c21d2e\",\"type\":\"GlyphRenderer\"},{\"attributes\":{\"callback\":null,\"column_names\":[\"x_values\",\"y_values\"],\"data\":{\"chart_index\":[{\"cyl\":6},{\"cyl\":6},{\"cyl\":6},{\"cyl\":6},{\"cyl\":6}],\"cyl\":[6,6,6,6,6],\"x_values\":[\"6:0.5\",\"6:0.5\",\"6:0.5\",\"6:0.5\",\"6:0.5\"],\"y_values\":[28.8,26.8,32.7,30.7,38.0]}},\"id\":\"d6cd260f-2549-4ad0-9048-f3e211a248c8\",\"type\":\"ColumnDataSource\"},{\"attributes\":{\"callback\":null,\"column_names\":[\"x\",\"fill_alpha\",\"height\",\"line_alpha\",\"line_color\",\"label\",\"width\",\"y\",\"color\"],\"data\":{\"chart_index\":[{\"cyl\":6}],\"color\":[\"#00cccc\"],\"cyl\":[6],\"fill_alpha\":[0.8],\"height\":[2.0],\"label\":[{\"cyl\":6}],\"line_alpha\":[1.0],\"line_color\":[\"black\"],\"width\":[0.8],\"x\":[\"6\"],\"y\":[20.0]}},\"id\":\"d811d580-b2bc-4ac2-a1b2-428443ab6067\",\"type\":\"ColumnDataSource\"},{\"attributes\":{\"fill_alpha\":{\"value\":0.7},\"fill_color\":{\"value\":\"red\"},\"line_color\":{\"value\":\"red\"},\"size\":{\"units\":\"screen\",\"value\":5},\"x\":{\"field\":\"x_values\"},\"y\":{\"field\":\"y_values\"}},\"id\":\"7147190d-9501-42ca-9d38-d2c638bbbc2c\",\"type\":\"Circle\"},{\"attributes\":{\"callback\":null,\"column_names\":[\"y1s\",\"y0s\",\"x1s\",\"x0s\"],\"data\":{\"chart_index\":[{\"cyl\":8},{\"cyl\":8},{\"cyl\":8},{\"cyl\":8}],\"cyl\":[8,8,8,8],\"x0s\":[\"8:0.5\",\"8:0.65\",\"8:0.5\",\"8:0.65\"],\"x1s\":[\"8:0.5\",\"8:0.35\",\"8:0.5\",\"8:0.35\"],\"y0s\":[9.0,9.0,16.0,20.5],\"y1s\":[13.0,9.0,20.5,20.5]}},\"id\":\"22ab319b-fb79-4980-a981-cd247a9eaac2\",\"type\":\"ColumnDataSource\"},{\"attributes\":{\"data_source\":{\"id\":\"2d7c4d69-0bbe-4705-a7be-0186551bac5b\",\"type\":\"ColumnDataSource\"},\"glyph\":{\"id\":\"3ec5a1ca-69d0-40a6-b799-37c028bb3808\",\"type\":\"Circle\"},\"hover_glyph\":null,\"nonselection_glyph\":null,\"selection_glyph\":null},\"id\":\"80fa2095-e4ce-4543-96bd-ca0bcf4028e8\",\"type\":\"GlyphRenderer\"},{\"attributes\":{\"fill_alpha\":{\"value\":0.7},\"fill_color\":{\"value\":\"red\"},\"line_color\":{\"value\":\"red\"},\"size\":{\"units\":\"screen\",\"value\":5},\"x\":{\"field\":\"x_values\"},\"y\":{\"field\":\"y_values\"}},\"id\":\"3ec5a1ca-69d0-40a6-b799-37c028bb3808\",\"type\":\"Circle\"},{\"attributes\":{\"data_source\":{\"id\":\"d811d580-b2bc-4ac2-a1b2-428443ab6067\",\"type\":\"ColumnDataSource\"},\"glyph\":{\"id\":\"8d2ba37c-69ef-4112-a1bd-a8ea7b7f42e4\",\"type\":\"Rect\"},\"hover_glyph\":null,\"nonselection_glyph\":null,\"selection_glyph\":null},\"id\":\"c1b9b83d-03d6-4fb5-a1f4-a06338358f1d\",\"type\":\"GlyphRenderer\"},{\"attributes\":{\"data_source\":{\"id\":\"d6cd260f-2549-4ad0-9048-f3e211a248c8\",\"type\":\"ColumnDataSource\"},\"glyph\":{\"id\":\"85e28308-7594-4131-8025-968ce238df58\",\"type\":\"Circle\"},\"hover_glyph\":null,\"nonselection_glyph\":null,\"selection_glyph\":null},\"id\":\"d387f56e-08b1-42db-8b86-acbb73be4d42\",\"type\":\"GlyphRenderer\"},{\"attributes\":{\"callback\":null,\"column_names\":[\"y1s\",\"y0s\",\"x1s\",\"x0s\"],\"data\":{\"chart_index\":[{\"cyl\":3},{\"cyl\":3},{\"cyl\":3},{\"cyl\":3}],\"cyl\":[3,3,3,3],\"x0s\":[\"3:0.5\",\"3:0.65\",\"3:0.5\",\"3:0.65\"],\"x1s\":[\"3:0.5\",\"3:0.35\",\"3:0.5\",\"3:0.35\"],\"y0s\":[18.0,18.0,22.05,23.7],\"y1s\":[18.75,18.0,23.7,23.7]}},\"id\":\"60615622-70fa-4077-9ce5-d762679520ad\",\"type\":\"ColumnDataSource\"},{\"attributes\":{\"data_source\":{\"id\":\"22ab319b-fb79-4980-a981-cd247a9eaac2\",\"type\":\"ColumnDataSource\"},\"glyph\":{\"id\":\"551270e5-6815-4077-be28-a290b89964c8\",\"type\":\"Segment\"},\"hover_glyph\":null,\"nonselection_glyph\":null,\"selection_glyph\":null},\"id\":\"477d2708-da7a-4340-bf45-78c40376eaa5\",\"type\":\"GlyphRenderer\"},{\"attributes\":{\"active_drag\":\"auto\",\"active_scroll\":\"auto\",\"active_tap\":\"auto\",\"tools\":[{\"id\":\"178320ce-b0bb-4517-a8da-2b61f01abb12\",\"type\":\"PanTool\"},{\"id\":\"4cdec767-536f-48c4-b826-bf4234c49f79\",\"type\":\"WheelZoomTool\"},{\"id\":\"70369317-03b7-4077-9de8-da96618781dc\",\"type\":\"BoxZoomTool\"},{\"id\":\"c6282f05-7a43-4608-8650-0ef2384db8c2\",\"type\":\"SaveTool\"},{\"id\":\"a10d719c-7b75-4de5-82c0-946b52652417\",\"type\":\"ResetTool\"},{\"id\":\"2f209caf-ec05-48c8-934c-a7a248279b1a\",\"type\":\"HelpTool\"}]},\"id\":\"c78f35a7-c2b6-46d8-83a0-3e4030415006\",\"type\":\"Toolbar\"},{\"attributes\":{\"data_source\":{\"id\":\"05ac5fb1-43d3-47f7-9902-74a7f7f88b9c\",\"type\":\"ColumnDataSource\"},\"glyph\":{\"id\":\"77e8b73c-0584-4be0-813e-be4b2e20dd28\",\"type\":\"Rect\"},\"hover_glyph\":null,\"nonselection_glyph\":null,\"selection_glyph\":null},\"id\":\"f0f7d0ad-20ba-44b9-9dee-95524d5adc4e\",\"type\":\"GlyphRenderer\"},{\"attributes\":{\"fill_alpha\":{\"field\":\"fill_alpha\"},\"fill_color\":{\"field\":\"color\"},\"height\":{\"field\":\"height\",\"units\":\"data\"},\"line_color\":{\"field\":\"line_color\"},\"width\":{\"field\":\"width\",\"units\":\"data\"},\"x\":{\"field\":\"x\"},\"y\":{\"field\":\"y\"}},\"id\":\"77e8b73c-0584-4be0-813e-be4b2e20dd28\",\"type\":\"Rect\"},{\"attributes\":{\"fill_alpha\":{\"field\":\"fill_alpha\"},\"fill_color\":{\"field\":\"color\"},\"height\":{\"field\":\"height\",\"units\":\"data\"},\"line_color\":{\"field\":\"line_color\"},\"width\":{\"field\":\"width\",\"units\":\"data\"},\"x\":{\"field\":\"x\"},\"y\":{\"field\":\"y\"}},\"id\":\"a2806633-7905-40a5-9420-68d8eeba0fda\",\"type\":\"Rect\"},{\"attributes\":{\"plot\":{\"id\":\"7e166a06-5af4-4119-8420-e7fdb1134765\",\"subtype\":\"Chart\",\"type\":\"Plot\"}},\"id\":\"a10d719c-7b75-4de5-82c0-946b52652417\",\"type\":\"ResetTool\"},{\"attributes\":{\"line_width\":{\"value\":2},\"x0\":{\"field\":\"x0s\"},\"x1\":{\"field\":\"x1s\"},\"y0\":{\"field\":\"y0s\"},\"y1\":{\"field\":\"y1s\"}},\"id\":\"f95a70fb-7b11-4f49-8576-9954a8f182f7\",\"type\":\"Segment\"},{\"attributes\":{\"data_source\":{\"id\":\"72ab03ee-7f21-4774-a46c-527ab2fe51e1\",\"type\":\"ColumnDataSource\"},\"glyph\":{\"id\":\"f95a70fb-7b11-4f49-8576-9954a8f182f7\",\"type\":\"Segment\"},\"hover_glyph\":null,\"nonselection_glyph\":null,\"selection_glyph\":null},\"id\":\"384aae9a-c9cb-47eb-87d7-8be782d2084e\",\"type\":\"GlyphRenderer\"},{\"attributes\":{\"callback\":null,\"column_names\":[\"x\",\"fill_alpha\",\"height\",\"line_alpha\",\"line_color\",\"label\",\"width\",\"y\",\"color\"],\"data\":{\"chart_index\":[{\"cyl\":8}],\"color\":[\"#00cccc\"],\"cyl\":[8],\"fill_alpha\":[0.8],\"height\":[1.0],\"label\":[{\"cyl\":8}],\"line_alpha\":[1.0],\"line_color\":[\"black\"],\"width\":[0.8],\"x\":[\"8\"],\"y\":[13.5]}},\"id\":\"05ac5fb1-43d3-47f7-9902-74a7f7f88b9c\",\"type\":\"ColumnDataSource\"},{\"attributes\":{\"plot\":{\"id\":\"7e166a06-5af4-4119-8420-e7fdb1134765\",\"subtype\":\"Chart\",\"type\":\"Plot\"}},\"id\":\"c6282f05-7a43-4608-8650-0ef2384db8c2\",\"type\":\"SaveTool\"},{\"attributes\":{},\"id\":\"3e8af690-68e9-4fea-bbe3-51b9602f0cff\",\"type\":\"ToolEvents\"},{\"attributes\":{\"line_width\":{\"value\":2},\"x0\":{\"field\":\"x0s\"},\"x1\":{\"field\":\"x1s\"},\"y0\":{\"field\":\"y0s\"},\"y1\":{\"field\":\"y1s\"}},\"id\":\"551270e5-6815-4077-be28-a290b89964c8\",\"type\":\"Segment\"},{\"attributes\":{\"callback\":null,\"column_names\":[\"y1s\",\"y0s\",\"x1s\",\"x0s\"],\"data\":{\"chart_index\":[{\"cyl\":6},{\"cyl\":6},{\"cyl\":6},{\"cyl\":6}],\"cyl\":[6,6,6,6],\"x0s\":[\"6:0.5\",\"6:0.65\",\"6:0.5\",\"6:0.65\"],\"x1s\":[\"6:0.5\",\"6:0.35\",\"6:0.5\",\"6:0.35\"],\"y0s\":[15.0,15.0,21.0,25.5],\"y1s\":[18.0,15.0,25.5,25.5]}},\"id\":\"72ab03ee-7f21-4774-a46c-527ab2fe51e1\",\"type\":\"ColumnDataSource\"},{\"attributes\":{\"fill_alpha\":{\"field\":\"fill_alpha\"},\"fill_color\":{\"field\":\"color\"},\"height\":{\"field\":\"height\",\"units\":\"data\"},\"line_color\":{\"field\":\"line_color\"},\"width\":{\"field\":\"width\",\"units\":\"data\"},\"x\":{\"field\":\"x\"},\"y\":{\"field\":\"y\"}},\"id\":\"93ccad27-2c6d-40c1-bbf3-e0be9465b2ba\",\"type\":\"Rect\"},{\"attributes\":{\"callback\":null,\"column_names\":[\"x_values\",\"y_values\"],\"data\":{\"chart_index\":[{\"cyl\":4}],\"cyl\":[4],\"x_values\":[\"4:0.5\"],\"y_values\":[46.6]}},\"id\":\"2d7c4d69-0bbe-4705-a7be-0186551bac5b\",\"type\":\"ColumnDataSource\"},{\"attributes\":{\"line_width\":{\"value\":2},\"x0\":{\"field\":\"x0s\"},\"x1\":{\"field\":\"x1s\"},\"y0\":{\"field\":\"y0s\"},\"y1\":{\"field\":\"y1s\"}},\"id\":\"a6e58dd0-d32b-4c1b-ae01-14cac9ec546f\",\"type\":\"Segment\"}],\"root_ids\":[\"7e166a06-5af4-4119-8420-e7fdb1134765\"]},\"title\":\"Bokeh Application\",\"version\":\"0.12.1-16-g286fd8f\"}};\n",
       "            var render_items = [{\"docid\":\"36bcea89-af47-4bde-a79c-85e8a3105933\",\"elementid\":\"7e077691-fae5-48cf-a772-9e06f3e98267\",\"modelid\":\"7e166a06-5af4-4119-8420-e7fdb1134765\",\"notebook_comms_target\":\"1dbf6a54-ad1d-4a72-baec-661dde28ea6d\"}];\n",
       "            \n",
       "            Bokeh.embed.embed_items(docs_json, render_items);\n",
       "        });\n",
       "      },\n",
       "      function(Bokeh) {\n",
       "      }\n",
       "    ];\n",
       "  \n",
       "    function run_inline_js() {\n",
       "      for (var i = 0; i < inline_js.length; i++) {\n",
       "        inline_js[i](window.Bokeh);\n",
       "      }\n",
       "    }\n",
       "  \n",
       "    if (window._bokeh_is_loading === 0) {\n",
       "      console.log(\"Bokeh: BokehJS loaded, going straight to plotting\");\n",
       "      run_inline_js();\n",
       "    } else {\n",
       "      load_libs(js_urls, function() {\n",
       "        console.log(\"Bokeh: BokehJS plotting callback run at\", now());\n",
       "        run_inline_js();\n",
       "      });\n",
       "    }\n",
       "  }(this));\n",
       "</script>"
      ]
     },
     "metadata": {},
     "output_type": "display_data"
    },
    {
     "data": {
      "text/html": [
       "<p><code>&lt;Bokeh Notebook handle for <strong>In[4]</strong>&gt;</code></p>"
      ],
      "text/plain": [
       "<bokeh.io._CommsHandle at 0x10bd6ea20>"
      ]
     },
     "execution_count": 4,
     "metadata": {},
     "output_type": "execute_result"
    }
   ],
   "source": [
    "from bokeh.plotting import figure\n",
    "from bokeh.charts import BoxPlot\n",
    "\n",
    "p = BoxPlot(df, values='mpg', label='cyl', color='#00cccc',\n",
    "            title=\"MPG Summary (grouped by CYL)\")\n",
    "show(p)"
   ]
  },
  {
   "cell_type": "code",
   "execution_count": 5,
   "metadata": {
    "collapsed": false
   },
   "outputs": [],
   "source": [
    "import numpy as np"
   ]
  },
  {
   "cell_type": "code",
   "execution_count": 6,
   "metadata": {
    "collapsed": true
   },
   "outputs": [],
   "source": [
    "from bokeh.plotting import figure, show\n",
    "from bokeh import mpl"
   ]
  },
  {
   "cell_type": "code",
   "execution_count": 7,
   "metadata": {
    "collapsed": true
   },
   "outputs": [],
   "source": [
    "def intervals(data, percentile=95):\n",
    "    \"\"\"\n",
    "    Given a numpy array of data, return the 0th, lower bound, median,\n",
    "    upper bound and 100th percentile of the data. Generally useful for drawing\n",
    "    box-plots.\n",
    "    \"\"\"\n",
    "    low = (100 - percentile) / 2\n",
    "    upp = 100 - low\n",
    "    med = 50\n",
    "\n",
    "    return np.percentile(data, [0, low, med, upp, 100])"
   ]
  },
  {
   "cell_type": "code",
   "execution_count": 8,
   "metadata": {
    "collapsed": false
   },
   "outputs": [
    {
     "data": {
      "text/plain": [
       "array([ 0.0021111 ,  0.02345383,  0.4840104 ,  0.97673643,  0.9997327 ])"
      ]
     },
     "execution_count": 8,
     "metadata": {},
     "output_type": "execute_result"
    }
   ],
   "source": [
    "arr = np.random.random(size=1000)\n",
    "intervals(arr)"
   ]
  },
  {
   "cell_type": "code",
   "execution_count": 9,
   "metadata": {
    "collapsed": true
   },
   "outputs": [],
   "source": [
    "import matplotlib.pyplot as plt\n",
    "%matplotlib inline"
   ]
  },
  {
   "cell_type": "code",
   "execution_count": 10,
   "metadata": {
    "collapsed": false
   },
   "outputs": [
    {
     "data": {
      "image/png": "[encoded data removed]",
      "text/plain": [
       "<matplotlib.figure.Figure at 0x10f388fd0>"
      ]
     },
     "metadata": {},
     "output_type": "display_data"
    }
   ],
   "source": [
    "fig = plt.errorbar([1], arr.mean(), yerr=arr.std(), marker='o')"
   ]
  },
  {
   "cell_type": "code",
   "execution_count": 22,
   "metadata": {
    "collapsed": false
   },
   "outputs": [
    {
     "ename": "ImportError",
     "evalue": "No module named 'gsdash'",
     "output_type": "error",
     "traceback": [
      "\u001b[0;31m---------------------------------------------------------------------------\u001b[0m",
      "\u001b[0;31mImportError\u001b[0m                               Traceback (most recent call last)",
      "\u001b[0;32m<ipython-input-22-b669bad0616f>\u001b[0m in \u001b[0;36m<module>\u001b[0;34m()\u001b[0m\n\u001b[1;32m      1\u001b[0m \u001b[0;32mfrom\u001b[0m \u001b[0mbokeh\u001b[0m\u001b[0;34m.\u001b[0m\u001b[0mcharts\u001b[0m \u001b[0;32mimport\u001b[0m \u001b[0mBar\u001b[0m\u001b[0;34m,\u001b[0m \u001b[0mBoxPlot\u001b[0m\u001b[0;34m\u001b[0m\u001b[0m\n\u001b[0;32m----> 2\u001b[0;31m \u001b[0;32mfrom\u001b[0m \u001b[0mgsdash\u001b[0m\u001b[0;34m.\u001b[0m\u001b[0mbokehutils\u001b[0m \u001b[0;32mimport\u001b[0m \u001b[0myerrorbars\u001b[0m\u001b[0;34m\u001b[0m\u001b[0m\n\u001b[0m\u001b[1;32m      3\u001b[0m \u001b[0;32mimport\u001b[0m \u001b[0mnumpy\u001b[0m \u001b[0;32mas\u001b[0m \u001b[0mnp\u001b[0m\u001b[0;34m\u001b[0m\u001b[0m\n\u001b[1;32m      4\u001b[0m \u001b[0;34m\u001b[0m\u001b[0m\n\u001b[1;32m      5\u001b[0m \u001b[0mdata\u001b[0m \u001b[0;34m=\u001b[0m \u001b[0mdict\u001b[0m\u001b[0;34m(\u001b[0m\u001b[0;34m)\u001b[0m\u001b[0;34m\u001b[0m\u001b[0m\n",
      "\u001b[0;31mImportError\u001b[0m: No module named 'gsdash'"
     ]
    }
   ],
   "source": [
    "from bokeh.charts import Bar, BoxPlot\n",
    "from gsdash.bokehutils import yerrorbars\n",
    "import numpy as np\n",
    "\n",
    "data = dict()\n",
    "data['x'] = ['Hello', 'World']\n",
    "data['y'] = [1, 5]\n",
    "\n",
    "def iterable_shape(iterable):\n",
    "    iterable = np.array(iterable)\n",
    "    \n",
    "    if len(iterable.shape) == 1:\n",
    "        iterable = iterable.reshape(iterable.shape[0], -1)\n",
    "    \n",
    "    return iterable, iterable.shape\n",
    "\n",
    "        \n",
    "    \n",
    "xs, ys = yerrorbars(data, [0.3, 0.5], 'x', 'y')\n",
    "b = Bar(data=data, values='y', label='x')\n",
    "b.multi_line(xs=xs, ys=ys, line_width=5)\n",
    "# xs have to be lists of [[place1, place1], [place2, place2]]\n",
    "show(b)"
   ]
  },
  {
   "cell_type": "code",
   "execution_count": null,
   "metadata": {
    "collapsed": true
   },
   "outputs": [],
   "source": []
  }
 ],
 "metadata": {
  "kernelspec": {
   "display_name": "Python [gsdash]",
   "language": "python",
   "name": "Python [gsdash]"
  },
  "language_info": {
   "codemirror_mode": {
    "name": "ipython",
    "version": 3
   },
   "file_extension": ".py",
   "mimetype": "text/x-python",
   "name": "python",
   "nbconvert_exporter": "python",
   "pygments_lexer": "ipython3",
   "version": "3.5.2"
  }
 },
 "nbformat": 4,
 "nbformat_minor": 0
}
