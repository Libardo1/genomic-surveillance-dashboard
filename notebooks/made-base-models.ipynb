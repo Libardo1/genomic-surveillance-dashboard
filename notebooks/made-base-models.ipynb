{
 "cells": [
  {
   "cell_type": "code",
   "execution_count": null,
   "metadata": {
    "collapsed": true
   },
   "outputs": [],
   "source": [
    "from sklearn.ensemble import RandomForestRegressor\n",
    "from sklearn.externals import joblib\n",
    "import custom_funcs as cf"
   ]
  },
  {
   "cell_type": "markdown",
   "metadata": {},
   "source": [
    "In this notebook, I will train plain vanilla RandomForestRegressor models for each of the protease drug resistance values, and pickle them to disk."
   ]
  },
  {
   "cell_type": "code",
   "execution_count": null,
   "metadata": {
    "collapsed": true
   },
   "outputs": [],
   "source": [
    "drugs = ['FPV', 'ATV', 'IDV', 'LPV', 'NFV', 'SQV', 'TPV', 'DRV',]\n",
    "drug = drugs[1]\n",
    "protein = 'protease'\n",
    "\n",
    "data, feat_cols = cf.get_cleaned_data(protein, drug)\n",
    "\n",
    "# Just checking:\n",
    "cf.test_data_integrity(data)\n",
    "\n",
    "## Now, let's do data transformations.\n",
    "data_numeric = cf.to_numeric_rep(data, feat_cols, rep='mw')\n",
    "\n",
    "# Finally, split the data into a training set, and test set.\n",
    "X, Y, X_train, X_test, Y_train, Y_test = cf.to_train_test_split(data_numeric, feat_cols, drug, test_size=0.3)\n",
    "# sscv = ShuffleSplit(n=len(X_train), n_iter=3, test_size=0.3)"
   ]
  },
  {
   "cell_type": "code",
   "execution_count": null,
   "metadata": {
    "collapsed": false
   },
   "outputs": [],
   "source": [
    "mdl = RandomForestRegressor(n_estimators=2000, min_samples_leaf=1, n_jobs=-1, )\n",
    "mdl.fit(X, Y)"
   ]
  },
  {
   "cell_type": "code",
   "execution_count": null,
   "metadata": {
    "collapsed": true
   },
   "outputs": [],
   "source": [
    "import numpy as np\n",
    "\n",
    "def pred_intervals(model, X, percentile=95):\n",
    "    \"\"\"\n",
    "    From http://blog.datadive.net/prediction-intervals-for-random-forests/\n",
    "    \n",
    "    Computes prediction intervals to compute uncertainty.\n",
    "    \"\"\"\n",
    "    err_down = []\n",
    "    err_up = []\n",
    "    avg_preds = []\n",
    "    for row in range(len(X)):\n",
    "        # print(x)\n",
    "        preds = []\n",
    "        for est in model.estimators_:\n",
    "            preds.append(est.predict(X[row].reshape(1, -1))[0])\n",
    "        err_down.append(np.percentile(preds, (100 - percentile) / 2. ))\n",
    "        err_up.append(np.percentile(preds, 100 - (100 - percentile) / 2.))\n",
    "        avg_preds.append(np.mean(preds))\n",
    "    return err_down, err_up, avg_preds"
   ]
  },
  {
   "cell_type": "code",
   "execution_count": null,
   "metadata": {
    "collapsed": false,
    "scrolled": true
   },
   "outputs": [],
   "source": [
    "%%time\n",
    "err_down, err_up, avg_preds = pred_intervals(mdl, X_test.values)\n",
    "err_down, err_up, avg_preds"
   ]
  },
  {
   "cell_type": "code",
   "execution_count": null,
   "metadata": {
    "collapsed": false
   },
   "outputs": [],
   "source": [
    "yerr_down = np.array(avg_preds) - np.array(err_down)\n",
    "yerr_up = np.array(err_up) - np.array(avg_preds)"
   ]
  },
  {
   "cell_type": "code",
   "execution_count": null,
   "metadata": {
    "collapsed": true
   },
   "outputs": [],
   "source": [
    "for i in range(len(err_down)):\n",
    "    assert err_down[i] < avg_preds[i]\n",
    "    assert err_up[i] > avg_preds[i]"
   ]
  },
  {
   "cell_type": "code",
   "execution_count": null,
   "metadata": {
    "collapsed": false,
    "scrolled": true
   },
   "outputs": [],
   "source": [
    "yerr_down"
   ]
  },
  {
   "cell_type": "code",
   "execution_count": null,
   "metadata": {
    "collapsed": true
   },
   "outputs": [],
   "source": [
    "preds = mdl.predict(X_test.values)"
   ]
  },
  {
   "cell_type": "code",
   "execution_count": null,
   "metadata": {
    "collapsed": false
   },
   "outputs": [],
   "source": [
    "import matplotlib.pyplot as plt\n",
    "%matplotlib inline\n",
    "fig = plt.figure(figsize=(16, 5))\n",
    "plt.errorbar(Y_test.values, avg_preds, yerr=[yerr_down, yerr_up], marker='o', ls='none', alpha=0.3)\n",
    "# plt.xlim(-1.5, 3)\n",
    "# plt.ylim(-1.5, 3)\n",
    "plt.hlines(y=[0, np.log10(3)], xmin=min(Y_test.values), xmax=max(Y_test.values))"
   ]
  },
  {
   "cell_type": "code",
   "execution_count": null,
   "metadata": {
    "collapsed": false
   },
   "outputs": [],
   "source": [
    "joblib.dump(mdl, '../models/base/{drug}/{drug}.pkl'.format(drug=drug))"
   ]
  },
  {
   "cell_type": "code",
   "execution_count": null,
   "metadata": {
    "collapsed": true
   },
   "outputs": [],
   "source": []
  }
 ],
 "metadata": {
  "anaconda-cloud": {},
  "kernelspec": {
   "display_name": "Python [default]",
   "language": "python",
   "name": "python3"
  },
  "language_info": {
   "codemirror_mode": {
    "name": "ipython",
    "version": 3
   },
   "file_extension": ".py",
   "mimetype": "text/x-python",
   "name": "python",
   "nbconvert_exporter": "python",
   "pygments_lexer": "ipython3",
   "version": "3.5.2"
  }
 },
 "nbformat": 4,
 "nbformat_minor": 0
}
