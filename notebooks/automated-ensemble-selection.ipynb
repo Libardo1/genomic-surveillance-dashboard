{
 "cells": [
  {
   "cell_type": "code",
   "execution_count": 1,
   "metadata": {
    "collapsed": true
   },
   "outputs": [],
   "source": [
    "from sklearn.ensemble import (AdaBoostRegressor, \n",
    "                              BaggingRegressor, \n",
    "                              ExtraTreesRegressor, \n",
    "                              GradientBoostingRegressor, \n",
    "                              RandomForestRegressor)\n",
    "\n",
    "import pandas as pd\n",
    "import custom_funcs as cf\n",
    "\n",
    "%load_ext autoreload\n",
    "%autoreload 2\n",
    "%matplotlib inline"
   ]
  },
  {
   "cell_type": "markdown",
   "metadata": {},
   "source": [
    "# Purpose\n",
    "\n",
    "In this notebook, I intend to setup an automated ensemble learning model selection procedure for any given drug."
   ]
  },
  {
   "cell_type": "code",
   "execution_count": 9,
   "metadata": {
    "collapsed": false
   },
   "outputs": [],
   "source": [
    "data_protease = pd.read_csv('../data/hiv-protease-data.csv', index_col='SeqID')\n",
    "protease_drug_cols = data_protease.columns[0:8]\n",
    "protease_feat_cols = data_protease.columns[8:]\n",
    "\n",
    "data_nnrt = pd.read_csv('../data/hiv-nnrt-data.csv', index_col='SeqID')\n",
    "nnrt_drug_cols = data_nnrt.columns[0:4]\n",
    "nnrt_feat_cols = data_nnrt.columns[4:]\n",
    "\n",
    "data_nrt = pd.read_csv('../data/hiv-nrt-data.csv', index_col='SeqID')\n",
    "nrt_drug_cols = data_nrt.columns[0:6]\n",
    "nrt_feat_cols = data_nrt.columns[6:]"
   ]
  },
  {
   "cell_type": "code",
   "execution_count": 13,
   "metadata": {
    "collapsed": false
   },
   "outputs": [
    {
     "data": {
      "text/plain": [
       "(1498, 246)"
      ]
     },
     "execution_count": 13,
     "metadata": {},
     "output_type": "execute_result"
    }
   ],
   "source": [
    "data_nrt.shape"
   ]
  },
  {
   "cell_type": "code",
   "execution_count": 19,
   "metadata": {
    "collapsed": false
   },
   "outputs": [
    {
     "data": {
      "text/plain": [
       "(570, 244)"
      ]
     },
     "execution_count": 19,
     "metadata": {},
     "output_type": "execute_result"
    }
   ],
   "source": [
    "df_nnrt = cf.replace_ambiguous_letters_with_nan(data_nnrt, nnrt_feat_cols)\n",
    "df_nnrt = cf.replace_dashes_with_canonical_letters(df_nnrt, rt_consensus, nnrt_feat_cols)\n",
    "# df_nnrt.dropna(subset=nnrt_feat_cols).shape\n",
    "# df_nnrt.shape"
   ]
  },
  {
   "cell_type": "code",
   "execution_count": 15,
   "metadata": {
    "collapsed": false
   },
   "outputs": [],
   "source": [
    "rt_consensus = cf.read_consensus('../data/hiv-rt-consensus.fasta')\n",
    "protease_consensus = cf.read_consensus('../data/hiv-protease-consensus.fasta')"
   ]
  },
  {
   "cell_type": "code",
   "execution_count": 23,
   "metadata": {
    "collapsed": false
   },
   "outputs": [
    {
     "data": {
      "text/plain": [
       "False"
      ]
     },
     "execution_count": 23,
     "metadata": {},
     "output_type": "execute_result"
    }
   ],
   "source": [
    "import numpy as np\n",
    "df_nnrt.dropna().isnull().values.any()"
   ]
  },
  {
   "cell_type": "code",
   "execution_count": null,
   "metadata": {
    "collapsed": true
   },
   "outputs": [],
   "source": []
  }
 ],
 "metadata": {
  "kernelspec": {
   "display_name": "Python 3",
   "language": "python",
   "name": "python3"
  },
  "language_info": {
   "codemirror_mode": {
    "name": "ipython",
    "version": 3
   },
   "file_extension": ".py",
   "mimetype": "text/x-python",
   "name": "python",
   "nbconvert_exporter": "python",
   "pygments_lexer": "ipython3",
   "version": "3.5.1"
  }
 },
 "nbformat": 4,
 "nbformat_minor": 0
}
