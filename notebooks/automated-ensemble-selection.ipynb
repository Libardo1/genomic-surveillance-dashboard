{
 "cells": [
  {
   "cell_type": "code",
   "execution_count": 1,
   "metadata": {
    "collapsed": false
   },
   "outputs": [],
   "source": [
    "import pandas as pd\n",
    "import custom_funcs as cf\n",
    "import matplotlib.pyplot as plt\n",
    "import numpy as np\n",
    "import seaborn as sns\n",
    "sns.set_context('poster')\n",
    "from sklearn.metrics import mean_squared_error as mse\n",
    "from model_select import find_best_params, params, shortnames\n",
    "from isoelectric_point import isoelectric_points\n",
    "from molecular_weight import molecular_weights\n",
    "from sklearn.cross_validation import train_test_split, ShuffleSplit\n",
    "from collections import defaultdict\n",
    "\n",
    "%load_ext autoreload\n",
    "%autoreload 2\n",
    "%matplotlib inline"
   ]
  },
  {
   "cell_type": "markdown",
   "metadata": {},
   "source": [
    "# Purpose\n",
    "\n",
    "In this notebook, I intend to setup an automated ensemble learning model selection procedure for any given drug."
   ]
  },
  {
   "cell_type": "code",
   "execution_count": 11,
   "metadata": {
    "collapsed": true
   },
   "outputs": [],
   "source": [
    "# Best models\n",
    "drugs = dict()\n",
    "drugs['protease'] = ['FPV', 'ATV', 'IDV', 'LPV', 'NFV', 'SQV', 'TPV', 'DRV',]\n",
    "drugs['nrt'] = ['3TC', 'ABC', 'AZT', 'D4T', 'DDI', 'TDF',]\n",
    "drugs['nnrt'] = ['EFV', 'NVP', 'ETR', 'RPV',]\n",
    "\n",
    "\n",
    "best_models = dict()\n"
   ]
  },
  {
   "cell_type": "code",
   "execution_count": 13,
   "metadata": {
    "collapsed": false
   },
   "outputs": [],
   "source": [
    "## GREAT! I THINK WE HAVE THE MASTER FUNCTION FOR READING DATA COMPOSED!\n",
    "drug = 'ATV'\n",
    "protein = 'protease'\n",
    "data, feat_cols = cf.get_cleaned_data(protein, drug) \n",
    "\n",
    "# Just checking:\n",
    "cf.test_data_integrity(data)\n",
    "\n",
    "## Now, let's do data transformations.\n",
    "data = cf.to_numeric_rep(data, feat_cols, rep='mw')\n",
    "\n",
    "# Finally, split the data into a training set, and test set.\n",
    "X, Y, X_train, X_test, Y_train, Y_test = cf.to_train_test_split(data, feat_cols, drug, test_size=0.1)\n",
    "sscv = ShuffleSplit(n=len(X_train), n_iter=3, test_size=0.2)"
   ]
  },
  {
   "cell_type": "code",
   "execution_count": 3,
   "metadata": {
    "collapsed": false,
    "scrolled": true
   },
   "outputs": [
    {
     "name": "stdout",
     "output_type": "stream",
     "text": [
      "Fitting 3 folds for each of 35 candidates, totalling 105 fits\n",
      "[CV] learning_rate=0.02, n_estimators=100 ............................\n",
      "[CV] learning_rate=0.02, n_estimators=100 ............................\n",
      "[CV] learning_rate=0.02, n_estimators=200 ............................\n",
      "[CV] learning_rate=0.02, n_estimators=100 ............................\n",
      "[CV] .. learning_rate=0.02, n_estimators=100, score=-0.208107 -   0.2s\n",
      "[CV] learning_rate=0.02, n_estimators=200 ............................\n",
      "[CV] .. learning_rate=0.02, n_estimators=100, score=-0.251045 -   0.2s\n",
      "[CV] learning_rate=0.02, n_estimators=200 ............................\n",
      "[CV] .. learning_rate=0.02, n_estimators=100, score=-0.161703 -   0.2s\n",
      "[CV] learning_rate=0.02, n_estimators=300 ............................\n",
      "[CV] .. learning_rate=0.02, n_estimators=200, score=-0.122133 -   0.3s\n",
      "[CV] learning_rate=0.02, n_estimators=300 ............................\n",
      "[CV] .. learning_rate=0.02, n_estimators=200, score=-0.164367 -   0.3s\n",
      "[CV] learning_rate=0.02, n_estimators=300 ............................\n",
      "[CV] .. learning_rate=0.02, n_estimators=200, score=-0.163317 -   0.3s\n",
      "[CV] learning_rate=0.02, n_estimators=400 ............................\n",
      "[CV] .. learning_rate=0.02, n_estimators=300, score=-0.133114 -   0.4s\n",
      "[CV] learning_rate=0.02, n_estimators=500 ............................\n",
      "[CV] .. learning_rate=0.02, n_estimators=300, score=-0.124681 -   0.4s\n",
      "[CV] learning_rate=0.02, n_estimators=500 ............................\n",
      "[CV] .. learning_rate=0.02, n_estimators=300, score=-0.139303 -   0.4s\n",
      "[CV] learning_rate=0.02, n_estimators=400 ............................\n",
      "[CV] .. learning_rate=0.02, n_estimators=400, score=-0.128812 -   0.5s\n",
      "[CV] learning_rate=0.02, n_estimators=400 ............................\n",
      "[CV] .. learning_rate=0.02, n_estimators=500, score=-0.146733 -   0.6s\n",
      "[CV] learning_rate=0.02, n_estimators=500 ............................\n",
      "[CV] .. learning_rate=0.02, n_estimators=400, score=-0.173526 -   0.5s\n",
      "[CV] learning_rate=0.02, n_estimators=600 ............................\n",
      "[CV] .. learning_rate=0.02, n_estimators=500, score=-0.151378 -   0.7s\n",
      "[CV] learning_rate=0.02, n_estimators=600 ............................\n",
      "[CV] .. learning_rate=0.02, n_estimators=400, score=-0.151407 -   0.6s\n",
      "[CV] learning_rate=0.02, n_estimators=700 ............................\n",
      "[CV] .. learning_rate=0.02, n_estimators=500, score=-0.159669 -   0.6s\n",
      "[CV] learning_rate=0.02, n_estimators=700 ............................\n",
      "[CV] .. learning_rate=0.02, n_estimators=600, score=-0.106158 -   0.6s\n",
      "[CV] .. learning_rate=0.02, n_estimators=600, score=-0.116688 -   0.6s\n",
      "[CV] learning_rate=0.02, n_estimators=600 ............................\n",
      "[CV] learning_rate=0.06, n_estimators=100 ............................\n",
      "[CV] .. learning_rate=0.06, n_estimators=100, score=-0.151404 -   0.1s\n",
      "[CV] learning_rate=0.06, n_estimators=100 ............................\n",
      "[CV] .. learning_rate=0.02, n_estimators=700, score=-0.091047 -   0.8s\n",
      "[CV] learning_rate=0.02, n_estimators=700 ............................\n",
      "[CV] .. learning_rate=0.06, n_estimators=100, score=-0.116162 -   0.1s\n",
      "[CV] learning_rate=0.06, n_estimators=200 ............................\n",
      "[CV] .. learning_rate=0.06, n_estimators=200, score=-0.168066 -   0.2s\n",
      "[CV] .. learning_rate=0.02, n_estimators=700, score=-0.175511 -   0.7s\n",
      "[CV] learning_rate=0.06, n_estimators=200 ............................\n",
      "[CV] learning_rate=0.06, n_estimators=100 ............................\n",
      "[CV] .. learning_rate=0.06, n_estimators=100, score=-0.157141 -   0.1s\n",
      "[CV] learning_rate=0.06, n_estimators=200 ............................\n",
      "[CV] .. learning_rate=0.02, n_estimators=600, score=-0.129476 -   0.7s\n",
      "[CV] learning_rate=0.06, n_estimators=300 ............................\n",
      "[CV] .. learning_rate=0.06, n_estimators=200, score=-0.090739 -   0.2s\n",
      "[CV] learning_rate=0.06, n_estimators=400 ............................\n",
      "[CV] .. learning_rate=0.06, n_estimators=200, score=-0.161065 -   0.2s\n",
      "[CV] learning_rate=0.06, n_estimators=300 ............................\n",
      "[CV] .. learning_rate=0.02, n_estimators=700, score=-0.192444 -   0.8s\n",
      "[CV] learning_rate=0.06, n_estimators=400 ............................\n",
      "[CV] .. learning_rate=0.06, n_estimators=300, score=-0.152479 -   0.3s\n",
      "[CV] learning_rate=0.06, n_estimators=300 ............................\n",
      "[CV] .. learning_rate=0.06, n_estimators=300, score=-0.148560 -   0.3s\n",
      "[CV] learning_rate=0.06, n_estimators=500 ............................\n",
      "[CV] .. learning_rate=0.06, n_estimators=400, score=-0.138250 -   0.4s\n",
      "[CV] learning_rate=0.06, n_estimators=400 ............................\n",
      "[CV] .. learning_rate=0.06, n_estimators=300, score=-0.182996 -   0.3s\n",
      "[CV] learning_rate=0.06, n_estimators=600 ............................\n",
      "[CV] .. learning_rate=0.06, n_estimators=400, score=-0.195412 -   0.4s\n",
      "[CV] learning_rate=0.06, n_estimators=500 ............................\n",
      "[CV] .. learning_rate=0.06, n_estimators=400, score=-0.131304 -   0.4s\n",
      "[CV] learning_rate=0.06, n_estimators=600 ............................\n",
      "[CV] .. learning_rate=0.06, n_estimators=500, score=-0.117687 -   0.5s\n",
      "[CV] learning_rate=0.06, n_estimators=500 ............................\n",
      "[CV] .. learning_rate=0.06, n_estimators=600, score=-0.108007 -   0.5s\n",
      "[CV] .. learning_rate=0.06, n_estimators=500, score=-0.201206 -   0.5s\n",
      "[CV] learning_rate=0.06, n_estimators=700 ............................\n",
      "[CV] learning_rate=0.06, n_estimators=600 ............................\n",
      "[CV] .. learning_rate=0.06, n_estimators=500, score=-0.161168 -   0.5s\n",
      "[CV] learning_rate=0.1, n_estimators=100 .............................\n",
      "[CV] .. learning_rate=0.06, n_estimators=600, score=-0.121746 -   0.6s\n",
      "[CV] learning_rate=0.06, n_estimators=700 ............................\n",
      "[CV] ... learning_rate=0.1, n_estimators=100, score=-0.141011 -   0.1s\n",
      "[CV] learning_rate=0.1, n_estimators=100 .............................\n",
      "[CV] ... learning_rate=0.1, n_estimators=100, score=-0.129312 -   0.1s\n",
      "[CV] learning_rate=0.1, n_estimators=100 .............................\n",
      "[CV] .. learning_rate=0.06, n_estimators=600, score=-0.148717 -   0.5s\n",
      "[CV] learning_rate=0.1, n_estimators=200 .............................\n",
      "[CV] ... learning_rate=0.1, n_estimators=100, score=-0.117849 -   0.1s\n",
      "[CV] learning_rate=0.1, n_estimators=200 .............................\n",
      "[CV] .. learning_rate=0.06, n_estimators=700, score=-0.180631 -   0.7s\n",
      "[CV] learning_rate=0.06, n_estimators=700 ............................\n"
     ]
    },
    {
     "name": "stderr",
     "output_type": "stream",
     "text": [
      "[Parallel(n_jobs=-1)]: Done  40 tasks      | elapsed:    4.8s\n"
     ]
    },
    {
     "name": "stdout",
     "output_type": "stream",
     "text": [
      "[CV] ... learning_rate=0.1, n_estimators=200, score=-0.130102 -   0.2s\n",
      "[CV] learning_rate=0.1, n_estimators=200 .............................\n",
      "[CV] ... learning_rate=0.1, n_estimators=200, score=-0.151250 -   0.2s\n",
      "[CV] learning_rate=0.1, n_estimators=300 .............................\n",
      "[CV] ... learning_rate=0.1, n_estimators=200, score=-0.151258 -   0.2s\n",
      "[CV] learning_rate=0.1, n_estimators=300 .............................\n",
      "[CV] .. learning_rate=0.06, n_estimators=700, score=-0.141767 -   0.7s\n",
      "[CV] learning_rate=0.1, n_estimators=400 .............................\n",
      "[CV] ... learning_rate=0.1, n_estimators=300, score=-0.160314 -   0.3s\n",
      "[CV] learning_rate=0.1, n_estimators=300 .............................\n",
      "[CV] ... learning_rate=0.1, n_estimators=300, score=-0.124612 -   0.3s\n",
      "[CV] learning_rate=0.1, n_estimators=400 .............................\n",
      "[CV] .. learning_rate=0.06, n_estimators=700, score=-0.160602 -   0.6s\n",
      "[CV] ... learning_rate=0.1, n_estimators=400, score=-0.102830 -   0.4s\n",
      "[CV] learning_rate=0.1, n_estimators=500 .............................\n",
      "[CV] learning_rate=0.1, n_estimators=400 .............................\n",
      "[CV] ... learning_rate=0.1, n_estimators=300, score=-0.111755 -   0.3s\n",
      "[CV] learning_rate=0.1, n_estimators=500 .............................\n",
      "[CV] ... learning_rate=0.1, n_estimators=400, score=-0.134468 -   0.4s\n",
      "[CV] learning_rate=0.1, n_estimators=600 .............................\n",
      "[CV] ... learning_rate=0.1, n_estimators=400, score=-0.166058 -   0.4s\n",
      "[CV] learning_rate=0.1, n_estimators=700 .............................\n",
      "[CV] ... learning_rate=0.1, n_estimators=500, score=-0.216394 -   0.5s\n",
      "[CV] learning_rate=0.1, n_estimators=500 .............................\n",
      "[CV] ... learning_rate=0.1, n_estimators=500, score=-0.098697 -   0.5s\n",
      "[CV] learning_rate=0.1, n_estimators=600 .............................\n",
      "[CV] ... learning_rate=0.1, n_estimators=600, score=-0.189997 -   0.5s\n",
      "[CV] learning_rate=0.1, n_estimators=600 .............................\n",
      "[CV] ... learning_rate=0.1, n_estimators=500, score=-0.111687 -   0.5s\n",
      "[CV] learning_rate=0.1, n_estimators=700 .............................\n",
      "[CV] ... learning_rate=0.1, n_estimators=700, score=-0.129573 -   0.6s\n",
      "[CV] learning_rate=0.1, n_estimators=700 .............................\n",
      "[CV] ... learning_rate=0.1, n_estimators=600, score=-0.075160 -   0.5s\n",
      "[CV] learning_rate=0.14, n_estimators=100 ............................\n",
      "[CV] .. learning_rate=0.14, n_estimators=100, score=-0.158744 -   0.1s\n",
      "[CV] learning_rate=0.14, n_estimators=100 ............................\n",
      "[CV] .. learning_rate=0.14, n_estimators=100, score=-0.160641 -   0.1s\n",
      "[CV] learning_rate=0.14, n_estimators=200 ............................\n",
      "[CV] ... learning_rate=0.1, n_estimators=600, score=-0.145922 -   0.6s\n",
      "[CV] learning_rate=0.14, n_estimators=200 ............................\n",
      "[CV] .. learning_rate=0.14, n_estimators=200, score=-0.133100 -   0.2s\n",
      "[CV] learning_rate=0.14, n_estimators=200 ............................\n",
      "[CV] .. learning_rate=0.14, n_estimators=200, score=-0.155477 -   0.2s\n",
      "[CV] learning_rate=0.14, n_estimators=300 ............................\n",
      "[CV] ... learning_rate=0.1, n_estimators=700, score=-0.160385 -   0.7s\n",
      "[CV] learning_rate=0.14, n_estimators=100 ............................\n",
      "[CV] ... learning_rate=0.1, n_estimators=700, score=-0.191208 -   0.6s\n",
      "[CV] .. learning_rate=0.14, n_estimators=200, score=-0.116259 -   0.2s\n",
      "[CV] learning_rate=0.14, n_estimators=300 ............................\n",
      "[CV] learning_rate=0.14, n_estimators=400 ............................\n",
      "[CV] .. learning_rate=0.14, n_estimators=100, score=-0.175905 -   0.1s\n",
      "[CV] learning_rate=0.14, n_estimators=400 ............................\n",
      "[CV] .. learning_rate=0.14, n_estimators=300, score=-0.200481 -   0.3s\n",
      "[CV] learning_rate=0.14, n_estimators=500 ............................\n",
      "[CV] .. learning_rate=0.14, n_estimators=300, score=-0.110189 -   0.3s\n",
      "[CV] learning_rate=0.14, n_estimators=300 ............................\n",
      "[CV] .. learning_rate=0.14, n_estimators=400, score=-0.103198 -   0.4s\n",
      "[CV] learning_rate=0.14, n_estimators=400 ............................\n",
      "[CV] .. learning_rate=0.14, n_estimators=400, score=-0.100345 -   0.4s\n",
      "[CV] learning_rate=0.14, n_estimators=500 ............................\n",
      "[CV] .. learning_rate=0.14, n_estimators=300, score=-0.154073 -   0.3s\n",
      "[CV] learning_rate=0.14, n_estimators=600 ............................\n",
      "[CV] .. learning_rate=0.14, n_estimators=500, score=-0.162165 -   0.5s\n",
      "[CV] learning_rate=0.14, n_estimators=500 ............................\n",
      "[CV] .. learning_rate=0.14, n_estimators=400, score=-0.119802 -   0.4s\n",
      "[CV] learning_rate=0.14, n_estimators=600 ............................\n",
      "[CV] .. learning_rate=0.14, n_estimators=500, score=-0.169480 -   0.5s\n",
      "[CV] learning_rate=0.14, n_estimators=700 ............................\n",
      "[CV] .. learning_rate=0.14, n_estimators=600, score=-0.092899 -   0.5s\n",
      "[CV] learning_rate=0.14, n_estimators=600 ............................\n",
      "[CV] .. learning_rate=0.14, n_estimators=500, score=-0.172149 -   0.5s\n",
      "[CV] learning_rate=0.18, n_estimators=100 ............................\n",
      "[CV] .. learning_rate=0.18, n_estimators=100, score=-0.128874 -   0.1s\n",
      "[CV] learning_rate=0.18, n_estimators=100 ............................\n",
      "[CV] .. learning_rate=0.14, n_estimators=600, score=-0.139967 -   0.6s\n",
      "[CV] learning_rate=0.14, n_estimators=700 ............................\n",
      "[CV] .. learning_rate=0.18, n_estimators=100, score=-0.103706 -   0.1s\n",
      "[CV] learning_rate=0.18, n_estimators=100 ............................\n",
      "[CV] .. learning_rate=0.18, n_estimators=100, score=-0.142950 -   0.1s\n",
      "[CV] learning_rate=0.18, n_estimators=200 ............................\n",
      "[CV] .. learning_rate=0.14, n_estimators=700, score=-0.147111 -   0.7s\n",
      "[CV] learning_rate=0.14, n_estimators=700 ............................\n",
      "[CV] .. learning_rate=0.18, n_estimators=200, score=-0.148867 -   0.2s\n",
      "[CV] learning_rate=0.18, n_estimators=200 ............................\n",
      "[CV] .. learning_rate=0.14, n_estimators=600, score=-0.111854 -   0.6s\n",
      "[CV] learning_rate=0.18, n_estimators=300 ............................\n",
      "[CV] .. learning_rate=0.18, n_estimators=200, score=-0.177012 -   0.2s\n",
      "[CV] learning_rate=0.18, n_estimators=200 ............................\n",
      "[CV] .. learning_rate=0.14, n_estimators=700, score=-0.161393 -   0.6s\n",
      "[CV] learning_rate=0.18, n_estimators=300 ............................\n",
      "[CV] .. learning_rate=0.18, n_estimators=300, score=-0.176321 -   0.3s\n",
      "[CV] learning_rate=0.18, n_estimators=300 ............................\n",
      "[CV] .. learning_rate=0.18, n_estimators=200, score=-0.167699 -   0.2s\n",
      "[CV] learning_rate=0.18, n_estimators=400 ............................\n",
      "[CV] .. learning_rate=0.14, n_estimators=700, score=-0.143443 -   0.7s\n",
      "[CV] learning_rate=0.18, n_estimators=500 ............................\n",
      "[CV] .. learning_rate=0.18, n_estimators=300, score=-0.194002 -   0.3s\n",
      "[CV] learning_rate=0.18, n_estimators=400 ............................\n",
      "[CV] .. learning_rate=0.18, n_estimators=300, score=-0.085588 -   0.3s\n",
      "[CV] learning_rate=0.18, n_estimators=500 ............................\n",
      "[CV] .. learning_rate=0.18, n_estimators=400, score=-0.190045 -   0.4s\n",
      "[CV] learning_rate=0.18, n_estimators=400 ............................\n",
      "[CV] .. learning_rate=0.18, n_estimators=400, score=-0.159515 -   0.4s\n",
      "[CV] learning_rate=0.18, n_estimators=600 ............................\n",
      "[CV] .. learning_rate=0.18, n_estimators=500, score=-0.145771 -   0.5s\n",
      "[CV] learning_rate=0.18, n_estimators=500 ............................\n",
      "[CV] .. learning_rate=0.18, n_estimators=500, score=-0.139078 -   0.5s\n",
      "[CV] learning_rate=0.18, n_estimators=600 ............................\n",
      "[CV] .. learning_rate=0.18, n_estimators=400, score=-0.141835 -   0.4s\n",
      "[CV] learning_rate=0.18, n_estimators=700 ............................\n",
      "[CV] .. learning_rate=0.18, n_estimators=500, score=-0.110284 -   0.5s\n",
      "[CV] .. learning_rate=0.18, n_estimators=600, score=-0.151042 -   0.5s\n",
      "[CV] learning_rate=0.18, n_estimators=700 ............................\n",
      "[CV] learning_rate=0.18, n_estimators=600 ............................\n",
      "[CV] .. learning_rate=0.18, n_estimators=600, score=-0.129747 -   0.5s\n",
      "[CV] .. learning_rate=0.18, n_estimators=700, score=-0.111555 -   0.6s\n",
      "[CV] learning_rate=0.18, n_estimators=700 ............................\n",
      "[CV] .. learning_rate=0.18, n_estimators=600, score=-0.128178 -   0.4s\n",
      "[CV] .. learning_rate=0.18, n_estimators=700, score=-0.152039 -   0.5s\n",
      "[CV] .. learning_rate=0.18, n_estimators=700, score=-0.137893 -   0.5s\n"
     ]
    },
    {
     "name": "stderr",
     "output_type": "stream",
     "text": [
      "[Parallel(n_jobs=-1)]: Done 105 out of 105 | elapsed:   11.2s finished\n"
     ]
    }
   ],
   "source": [
    "mdl = 'gbr'\n",
    "gridsearch = find_best_params(mdl=mdl, cv=sscv, scoring='mean_squared_error', X=X_train, Y=Y_train)"
   ]
  },
  {
   "cell_type": "code",
   "execution_count": 4,
   "metadata": {
    "collapsed": false
   },
   "outputs": [
    {
     "data": {
      "text/plain": [
       "0.10778190902284536"
      ]
     },
     "execution_count": 4,
     "metadata": {},
     "output_type": "execute_result"
    }
   ],
   "source": [
    "-gridsearch.best_score_"
   ]
  },
  {
   "cell_type": "code",
   "execution_count": 5,
   "metadata": {
    "collapsed": false,
    "scrolled": true
   },
   "outputs": [
    {
     "data": {
      "text/plain": [
       "{'learning_rate': 0.02, 'n_estimators': 100}"
      ]
     },
     "execution_count": 5,
     "metadata": {},
     "output_type": "execute_result"
    }
   ],
   "source": [
    "gridsearch.grid_scores_[0][0]"
   ]
  },
  {
   "cell_type": "code",
   "execution_count": 6,
   "metadata": {
    "collapsed": false
   },
   "outputs": [],
   "source": [
    "# Plot the error as a function of:\n",
    "# - learning_rate\n",
    "# - max_depth\n",
    "# - n_estimators\n",
    "marginal_scores = dict()\n",
    "for k in params[mdl].keys():\n",
    "    marginal_scores[k] = defaultdict(list)\n",
    "\n",
    "    \n",
    "for result in gridsearch.grid_scores_:\n",
    "    for k, v in result[0].items():\n",
    "        for score in result[2]:\n",
    "            marginal_scores[k]['scores'].append(score)\n",
    "            marginal_scores[k]['values'].append(v)"
   ]
  },
  {
   "cell_type": "code",
   "execution_count": 7,
   "metadata": {
    "collapsed": false
   },
   "outputs": [
    {
     "data": {
      "text/plain": [
       "dict_keys(['learning_rate', 'n_estimators'])"
      ]
     },
     "execution_count": 7,
     "metadata": {},
     "output_type": "execute_result"
    }
   ],
   "source": [
    "marginal_scores.keys()"
   ]
  },
  {
   "cell_type": "code",
   "execution_count": 8,
   "metadata": {
    "collapsed": false,
    "scrolled": false
   },
   "outputs": [
    {
     "name": "stdout",
     "output_type": "stream",
     "text": [
      "learning_rate\n",
      "n_estimators\n"
     ]
    },
    {
     "data": {
      "image/png": "[encoded data removed]",
      "text/plain": [
       "<matplotlib.figure.Figure at 0x1184d8240>"
      ]
     },
     "metadata": {},
     "output_type": "display_data"
    },
    {
     "data": {
      "image/png": "[encoded data removed]",
      "text/plain": [
       "<matplotlib.figure.Figure at 0x118e572e8>"
      ]
     },
     "metadata": {},
     "output_type": "display_data"
    }
   ],
   "source": [
    "for i, key in enumerate(marginal_scores.keys()):\n",
    "    print(key)\n",
    "    fig = plt.figure(i)\n",
    "    sns.boxplot(x=marginal_scores[key]['values'], y=-np.array(marginal_scores[key]['scores']))\n",
    "    plt.title(key)"
   ]
  },
  {
   "cell_type": "code",
   "execution_count": 9,
   "metadata": {
    "collapsed": false
   },
   "outputs": [
    {
     "data": {
      "text/plain": [
       "GradientBoostingRegressor(alpha=0.9, init=None,\n",
       "             learning_rate=0.13999999999999999, loss='ls', max_depth=3,\n",
       "             max_features=None, max_leaf_nodes=None, min_samples_leaf=1,\n",
       "             min_samples_split=2, min_weight_fraction_leaf=0.0,\n",
       "             n_estimators=400, presort='auto', random_state=None,\n",
       "             subsample=1.0, verbose=0, warm_start=False)"
      ]
     },
     "execution_count": 9,
     "metadata": {},
     "output_type": "execute_result"
    }
   ],
   "source": [
    "gridsearch.best_estimator_"
   ]
  },
  {
   "cell_type": "code",
   "execution_count": 10,
   "metadata": {
    "collapsed": false
   },
   "outputs": [
    {
     "data": {
      "text/plain": [
       "<matplotlib.axes._subplots.AxesSubplot at 0x1185e7b00>"
      ]
     },
     "execution_count": 10,
     "metadata": {},
     "output_type": "execute_result"
    },
    {
     "data": {
      "image/png": "[encoded data removed]",
      "text/plain": [
       "<matplotlib.figure.Figure at 0x1184d81d0>"
      ]
     },
     "metadata": {},
     "output_type": "display_data"
    }
   ],
   "source": [
    "preds = gridsearch.best_estimator_.predict(X)\n",
    "df = pd.DataFrame([preds, Y]).T\n",
    "df.columns = ['predictions', 'actual']\n",
    "df.plot(x='predictions', y='actual', kind='scatter', figsize=(4,4))"
   ]
  },
  {
   "cell_type": "code",
   "execution_count": null,
   "metadata": {
    "collapsed": true
   },
   "outputs": [],
   "source": []
  }
 ],
 "metadata": {
  "kernelspec": {
   "display_name": "Python 3",
   "language": "python",
   "name": "python3"
  },
  "language_info": {
   "codemirror_mode": {
    "name": "ipython",
    "version": 3
   },
   "file_extension": ".py",
   "mimetype": "text/x-python",
   "name": "python",
   "nbconvert_exporter": "python",
   "pygments_lexer": "ipython3",
   "version": "3.5.1"
  }
 },
 "nbformat": 4,
 "nbformat_minor": 0
}
