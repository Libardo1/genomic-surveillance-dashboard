{
 "cells": [
  {
   "cell_type": "markdown",
   "metadata": {},
   "source": [
    "When a new sequence comes in, we will need to be able to convert it to its interpolated reference form."
   ]
  },
  {
   "cell_type": "code",
   "execution_count": 16,
   "metadata": {
    "collapsed": false
   },
   "outputs": [
    {
     "data": {
      "text/html": [
       "\n",
       "    <div class=\"bk-root\">\n",
       "        <a href=\"http://bokeh.pydata.org\" target=\"_blank\" class=\"bk-logo bk-logo-small bk-logo-notebook\"></a>\n",
       "        <span id=\"5687e407-89fa-4171-ae52-545a69ca4cd9\">Loading BokehJS ...</span>\n",
       "    </div>"
      ]
     },
     "metadata": {},
     "output_type": "display_data"
    },
    {
     "data": {
      "application/javascript": [
       "\n",
       "(function(global) {\n",
       "  function now() {\n",
       "    return new Date();\n",
       "  }\n",
       "\n",
       "  if (typeof (window._bokeh_onload_callbacks) === \"undefined\") {\n",
       "    window._bokeh_onload_callbacks = [];\n",
       "  }\n",
       "\n",
       "  function run_callbacks() {\n",
       "    window._bokeh_onload_callbacks.forEach(function(callback) { callback() });\n",
       "    delete window._bokeh_onload_callbacks\n",
       "    console.info(\"Bokeh: all callbacks have finished\");\n",
       "  }\n",
       "\n",
       "  function load_libs(js_urls, callback) {\n",
       "    window._bokeh_onload_callbacks.push(callback);\n",
       "    if (window._bokeh_is_loading > 0) {\n",
       "      console.log(\"Bokeh: BokehJS is being loaded, scheduling callback at\", now());\n",
       "      return null;\n",
       "    }\n",
       "    if (js_urls == null || js_urls.length === 0) {\n",
       "      run_callbacks();\n",
       "      return null;\n",
       "    }\n",
       "    console.log(\"Bokeh: BokehJS not loaded, scheduling load and callback at\", now());\n",
       "    window._bokeh_is_loading = js_urls.length;\n",
       "    for (var i = 0; i < js_urls.length; i++) {\n",
       "      var url = js_urls[i];\n",
       "      var s = document.createElement('script');\n",
       "      s.src = url;\n",
       "      s.async = false;\n",
       "      s.onreadystatechange = s.onload = function() {\n",
       "        window._bokeh_is_loading--;\n",
       "        if (window._bokeh_is_loading === 0) {\n",
       "          console.log(\"Bokeh: all BokehJS libraries loaded\");\n",
       "          run_callbacks()\n",
       "        }\n",
       "      };\n",
       "      s.onerror = function() {\n",
       "        console.warn(\"failed to load library \" + url);\n",
       "      };\n",
       "      console.log(\"Bokeh: injecting script tag for BokehJS library: \", url);\n",
       "      document.getElementsByTagName(\"head\")[0].appendChild(s);\n",
       "    }\n",
       "  };\n",
       "\n",
       "  var js_urls = ['https://cdn.pydata.org/bokeh/release/bokeh-0.12.0.min.js', 'https://cdn.pydata.org/bokeh/release/bokeh-widgets-0.12.0.min.js', 'https://cdn.pydata.org/bokeh/release/bokeh-compiler-0.12.0.min.js'];\n",
       "\n",
       "  var inline_js = [\n",
       "    function(Bokeh) {\n",
       "      Bokeh.set_log_level(\"info\");\n",
       "    },\n",
       "    \n",
       "    function(Bokeh) {\n",
       "      Bokeh.$(\"#5687e407-89fa-4171-ae52-545a69ca4cd9\").text(\"BokehJS successfully loaded\");\n",
       "    },\n",
       "    function(Bokeh) {\n",
       "      console.log(\"Bokeh: injecting CSS: https://cdn.pydata.org/bokeh/release/bokeh-0.12.0.min.css\");\n",
       "      Bokeh.embed.inject_css(\"https://cdn.pydata.org/bokeh/release/bokeh-0.12.0.min.css\");\n",
       "      console.log(\"Bokeh: injecting CSS: https://cdn.pydata.org/bokeh/release/bokeh-widgets-0.12.0.min.css\");\n",
       "      Bokeh.embed.inject_css(\"https://cdn.pydata.org/bokeh/release/bokeh-widgets-0.12.0.min.css\");\n",
       "    }\n",
       "  ];\n",
       "\n",
       "  function run_inline_js() {\n",
       "    for (var i = 0; i < inline_js.length; i++) {\n",
       "      inline_js[i](window.Bokeh);\n",
       "    }\n",
       "  }\n",
       "\n",
       "  if (window._bokeh_is_loading === 0) {\n",
       "    console.log(\"Bokeh: BokehJS loaded, going straight to plotting\");\n",
       "    run_inline_js();\n",
       "  } else {\n",
       "    load_libs(js_urls, function() {\n",
       "      console.log(\"Bokeh: BokehJS plotting callback run at\", now());\n",
       "      run_inline_js();\n",
       "    });\n",
       "  }\n",
       "}(this));"
      ]
     },
     "metadata": {},
     "output_type": "display_data"
    }
   ],
   "source": [
    "from bokeh.charts import Bar, BoxPlot\n",
    "from bokeh.io import output_notebook\n",
    "from bokeh.resources import INLINE\n",
    "from bokeh.embed import components\n",
    "from bokeh.models import HoverTool, ResetTool\n",
    "from bokeh.plotting import figure, show\n",
    "output_notebook()"
   ]
  },
  {
   "cell_type": "code",
   "execution_count": 2,
   "metadata": {
    "collapsed": false
   },
   "outputs": [],
   "source": [
    "from Bio.SeqRecord import SeqRecord\n",
    "import numpy as np\n",
    "import pandas as pd\n",
    "import matplotlib.pyplot as plt\n",
    "\n",
    "from scipy.interpolate import PchipInterpolator\n",
    "from gsdash.molecular_weight import molecular_weights\n",
    "\n",
    "from gsdash.sequence_transformer import to_numeric_rep, standardize_sequence\n",
    "\n",
    "%load_ext autoreload \n",
    "%autoreload 2\n",
    "%matplotlib inline"
   ]
  },
  {
   "cell_type": "code",
   "execution_count": 3,
   "metadata": {
    "collapsed": false
   },
   "outputs": [
    {
     "data": {
      "text/plain": [
       "99"
      ]
     },
     "execution_count": 3,
     "metadata": {},
     "output_type": "execute_result"
    }
   ],
   "source": [
    "from Bio import SeqIO\n",
    "\n",
    "len(SeqIO.read('../data/hiv-protease-consensus.fasta', 'fasta'))"
   ]
  },
  {
   "cell_type": "code",
   "execution_count": 4,
   "metadata": {
    "collapsed": true
   },
   "outputs": [],
   "source": [
    "ref_sequence = 'PQITLWQRPLVTIKIGGQLKEALLDTGADDTVLEEMNLPGRWKPKMIGGIGGFIKVRQYDQILIEICGHKAIGTVLVGPTPVNIIGRNLLTQIGCTLNF'\n",
    "new_sequence1 = 'PQITLNQMTLVTIPIGGDLKEALLKTGADFTVLEEMNLPGDMKPKMIGGIGGFIKVRQYDQILIEICGRKAIGTVLVGPTPVNIIGRNLLTQVGCTLNFP'\n",
    "new_sequence2 = 'PQITLWQRPLVTIKIGGQLKEALLKTGADDTVLEEMNLPGRWKPKMIRGIGGFIKMRQYDKILIEICGHQAIGTVLVGPTPRNIIGDNLLTIIGCTLN'"
   ]
  },
  {
   "cell_type": "code",
   "execution_count": 5,
   "metadata": {
    "collapsed": false
   },
   "outputs": [],
   "source": [
    "ref = standardize_sequence(to_numeric_rep(ref_sequence, 'mw'), 'protease')"
   ]
  },
  {
   "cell_type": "code",
   "execution_count": 6,
   "metadata": {
    "collapsed": false
   },
   "outputs": [],
   "source": [
    "new1 = standardize_sequence(to_numeric_rep(new_sequence1, 'mw'), 'protease')"
   ]
  },
  {
   "cell_type": "code",
   "execution_count": 7,
   "metadata": {
    "collapsed": false
   },
   "outputs": [],
   "source": [
    "new2 = standardize_sequence(to_numeric_rep(new_sequence2, 'mw'), 'protease')"
   ]
  },
  {
   "cell_type": "code",
   "execution_count": 8,
   "metadata": {
    "collapsed": false
   },
   "outputs": [
    {
     "data": {
      "text/plain": [
       "True"
      ]
     },
     "execution_count": 8,
     "metadata": {},
     "output_type": "execute_result"
    }
   ],
   "source": [
    "ref.size == new1.size"
   ]
  },
  {
   "cell_type": "code",
   "execution_count": 9,
   "metadata": {
    "collapsed": false
   },
   "outputs": [
    {
     "data": {
      "text/plain": [
       "True"
      ]
     },
     "execution_count": 9,
     "metadata": {},
     "output_type": "execute_result"
    }
   ],
   "source": [
    "new1.size == new2.size"
   ]
  },
  {
   "cell_type": "code",
   "execution_count": 10,
   "metadata": {
    "collapsed": false
   },
   "outputs": [
    {
     "data": {
      "text/plain": [
       "<matplotlib.legend.Legend at 0x1176f1c88>"
      ]
     },
     "execution_count": 10,
     "metadata": {},
     "output_type": "execute_result"
    },
    {
     "data": {
      "image/png": "[encoded data removed]",
      "text/plain": [
       "<matplotlib.figure.Figure at 0x1176abe80>"
      ]
     },
     "metadata": {},
     "output_type": "display_data"
    }
   ],
   "source": [
    "plt.plot(ref, label='reference')\n",
    "plt.plot(new1, label='new seq 1')\n",
    "plt.plot(new2, label='new seq 2')\n",
    "plt.legend()"
   ]
  },
  {
   "cell_type": "code",
   "execution_count": 11,
   "metadata": {
    "collapsed": true
   },
   "outputs": [],
   "source": [
    "drugs = ['FPV', 'ATV', 'IDV', 'LPV', 'NFV', 'SQV', 'TPV', 'DRV',]\n",
    "\n",
    "def pred_intervals(model, datum, percentile=95):\n",
    "    \"\"\"\n",
    "    Computes prediction intervals for a given model and single datapoint.\n",
    "    \"\"\"\n",
    "    preds = np.zeros(len(model.estimators_))\n",
    "\n",
    "    for i, est in enumerate(model.estimators_):\n",
    "        preds[i] = est.predict(datum.reshape(1, -1))[0]\n",
    "\n",
    "    # lowbound = np.percentile(preds, (100-percentile) / 2.0)\n",
    "    # uppbound = np.percentile(preds, 100 - (100-percentile) / 2.0)\n",
    "\n",
    "    return preds\n"
   ]
  },
  {
   "cell_type": "code",
   "execution_count": 12,
   "metadata": {
    "collapsed": false
   },
   "outputs": [
    {
     "name": "stdout",
     "output_type": "stream",
     "text": [
      "FPV\n",
      "[ 1.24303805  1.24303805 -0.09691001 ...,  0.61278386  0.04139269\n",
      "  0.8920946 ]\n",
      "ATV\n",
      "[ 1.18184359 -0.09691001  1.07918125 ...,  0.07918125  0.49136169  0.        ]\n"
     ]
    }
   ],
   "source": [
    "from sklearn.externals import joblib\n",
    "preds = dict()\n",
    "for drug in drugs[0:2]:\n",
    "    print(drug)\n",
    "    mdl = joblib.load(\"../models/base/{drug}/{drug}.pkl\".format(drug=drug))\n",
    "    # pred = mdl.predict(seq)[0]\n",
    "    pred = pred_intervals(mdl, new1)\n",
    "    # preds.append(dict(drug=drug, pred=pred))\n",
    "    preds[drug] = pred\n",
    "    # preds['log10(DR)'].append(pred)\n",
    "    # preds['lowbound'].append(lowbound)\n",
    "    # preds['uppbound'].append(uppbound)\n",
    "    print(pred)\n"
   ]
  },
  {
   "cell_type": "code",
   "execution_count": 13,
   "metadata": {
    "collapsed": false,
    "scrolled": true
   },
   "outputs": [
    {
     "data": {
      "text/html": [
       "<div>\n",
       "<table border=\"1\" class=\"dataframe\">\n",
       "  <thead>\n",
       "    <tr style=\"text-align: right;\">\n",
       "      <th></th>\n",
       "      <th>ATV</th>\n",
       "      <th>FPV</th>\n",
       "    </tr>\n",
       "  </thead>\n",
       "  <tbody>\n",
       "    <tr>\n",
       "      <th>0</th>\n",
       "      <td>1.181844</td>\n",
       "      <td>1.243038</td>\n",
       "    </tr>\n",
       "    <tr>\n",
       "      <th>1</th>\n",
       "      <td>-0.096910</td>\n",
       "      <td>1.243038</td>\n",
       "    </tr>\n",
       "    <tr>\n",
       "      <th>2</th>\n",
       "      <td>1.079181</td>\n",
       "      <td>-0.096910</td>\n",
       "    </tr>\n",
       "    <tr>\n",
       "      <th>3</th>\n",
       "      <td>0.146128</td>\n",
       "      <td>1.243038</td>\n",
       "    </tr>\n",
       "    <tr>\n",
       "      <th>4</th>\n",
       "      <td>0.079181</td>\n",
       "      <td>1.531479</td>\n",
       "    </tr>\n",
       "  </tbody>\n",
       "</table>\n",
       "</div>"
      ],
      "text/plain": [
       "        ATV       FPV\n",
       "0  1.181844  1.243038\n",
       "1 -0.096910  1.243038\n",
       "2  1.079181 -0.096910\n",
       "3  0.146128  1.243038\n",
       "4  0.079181  1.531479"
      ]
     },
     "execution_count": 13,
     "metadata": {},
     "output_type": "execute_result"
    }
   ],
   "source": [
    "pd.DataFrame(preds).head()"
   ]
  },
  {
   "cell_type": "code",
   "execution_count": null,
   "metadata": {
    "collapsed": false
   },
   "outputs": [],
   "source": []
  },
  {
   "cell_type": "code",
   "execution_count": 14,
   "metadata": {
    "collapsed": false
   },
   "outputs": [
    {
     "data": {
      "text/html": [
       "\n",
       "\n",
       "    <div class=\"bk-root\">\n",
       "        <div class=\"plotdiv\" id=\"7701c2a1-e72c-498a-ab90-c6d93d5a3ce1\"></div>\n",
       "    </div>\n",
       "<script type=\"text/javascript\">\n",
       "  \n",
       "  (function(global) {\n",
       "    function now() {\n",
       "      return new Date();\n",
       "    }\n",
       "  \n",
       "    if (typeof (window._bokeh_onload_callbacks) === \"undefined\") {\n",
       "      window._bokeh_onload_callbacks = [];\n",
       "    }\n",
       "  \n",
       "    function run_callbacks() {\n",
       "      window._bokeh_onload_callbacks.forEach(function(callback) { callback() });\n",
       "      delete window._bokeh_onload_callbacks\n",
       "      console.info(\"Bokeh: all callbacks have finished\");\n",
       "    }\n",
       "  \n",
       "    function load_libs(js_urls, callback) {\n",
       "      window._bokeh_onload_callbacks.push(callback);\n",
       "      if (window._bokeh_is_loading > 0) {\n",
       "        console.log(\"Bokeh: BokehJS is being loaded, scheduling callback at\", now());\n",
       "        return null;\n",
       "      }\n",
       "      if (js_urls == null || js_urls.length === 0) {\n",
       "        run_callbacks();\n",
       "        return null;\n",
       "      }\n",
       "      console.log(\"Bokeh: BokehJS not loaded, scheduling load and callback at\", now());\n",
       "      window._bokeh_is_loading = js_urls.length;\n",
       "      for (var i = 0; i < js_urls.length; i++) {\n",
       "        var url = js_urls[i];\n",
       "        var s = document.createElement('script');\n",
       "        s.src = url;\n",
       "        s.async = false;\n",
       "        s.onreadystatechange = s.onload = function() {\n",
       "          window._bokeh_is_loading--;\n",
       "          if (window._bokeh_is_loading === 0) {\n",
       "            console.log(\"Bokeh: all BokehJS libraries loaded\");\n",
       "            run_callbacks()\n",
       "          }\n",
       "        };\n",
       "        s.onerror = function() {\n",
       "          console.warn(\"failed to load library \" + url);\n",
       "        };\n",
       "        console.log(\"Bokeh: injecting script tag for BokehJS library: \", url);\n",
       "        document.getElementsByTagName(\"head\")[0].appendChild(s);\n",
       "      }\n",
       "    };var element = document.getElementById(\"7701c2a1-e72c-498a-ab90-c6d93d5a3ce1\");\n",
       "    if (element == null) {\n",
       "      console.log(\"Bokeh: ERROR: autoload.js configured with elementid '7701c2a1-e72c-498a-ab90-c6d93d5a3ce1' but no matching script tag was found. \")\n",
       "      return false;\n",
       "    }\n",
       "  \n",
       "    var js_urls = [];\n",
       "  \n",
       "    var inline_js = [\n",
       "      function(Bokeh) {\n",
       "        Bokeh.$(function() {\n",
       "            var docs_json = {\"2b1c1cc1-15e2-4095-8f63-3514d527db08\":{\"roots\":{\"references\":[{\"attributes\":{\"fill_alpha\":{\"value\":0.7},\"fill_color\":{\"value\":\"red\"},\"line_color\":{\"value\":\"red\"},\"size\":{\"units\":\"screen\",\"value\":5},\"x\":{\"field\":\"x_values\"},\"y\":{\"field\":\"y_values\"}},\"id\":\"47eeab76-8288-4bdc-8ccd-3ff812ec5ea0\",\"type\":\"Circle\"},{\"attributes\":{\"callback\":null,\"end\":2.9723014422317706,\"start\":-0.42823339788149495},\"id\":\"61e7a121-d600-48d2-b025-f5eae25acfd4\",\"type\":\"Range1d\"},{\"attributes\":{\"plot\":{\"id\":\"5e79db2a-1884-4735-b249-311fadc5465c\",\"subtype\":\"Chart\",\"type\":\"Plot\"}},\"id\":\"9f982723-d23d-4afd-9fb5-261538af33fe\",\"type\":\"PanTool\"},{\"attributes\":{\"callback\":null,\"column_names\":[\"x1s\",\"y1s\",\"y0s\",\"x0s\"],\"data\":{\"chart_index\":[null,null,null,null],\"x0s\":[\"None:0.5\",\"None:0.65\",\"None:0.5\",\"None:0.65\"],\"x1s\":[\"None:0.5\",\"None:0.35\",\"None:0.5\",\"None:0.35\"],\"y0s\":[-0.3010299956639812,-0.3010299956639812,0.9956351945975499,2.5577242223348873],\"y1s\":[-0.045757490560675115,-0.3010299956639812,2.5577242223348873,2.5577242223348873]}},\"id\":\"adb0885b-4638-4ef0-8634-ec9882277839\",\"type\":\"ColumnDataSource\"},{\"attributes\":{\"active_drag\":\"auto\",\"active_scroll\":\"auto\",\"active_tap\":\"auto\",\"tools\":[{\"id\":\"9f982723-d23d-4afd-9fb5-261538af33fe\",\"type\":\"PanTool\"},{\"id\":\"bdac1ce7-3796-4967-8c64-bcff5330724b\",\"type\":\"WheelZoomTool\"},{\"id\":\"d77201f4-00c6-4c63-8380-99ba8eb0ce07\",\"type\":\"BoxZoomTool\"},{\"id\":\"e7c605f8-a51a-4418-8c39-167cb4ed46bd\",\"type\":\"SaveTool\"},{\"id\":\"21b41f8e-66d0-4a99-8d31-c363a2e8c28e\",\"type\":\"ResetTool\"},{\"id\":\"5bd301de-057e-4e14-8ab0-cc773f3793e1\",\"type\":\"HelpTool\"}]},\"id\":\"ce99126c-894e-4eee-9696-934a4c578728\",\"type\":\"Toolbar\"},{\"attributes\":{\"fill_alpha\":{\"field\":\"fill_alpha\"},\"fill_color\":{\"field\":\"color\"},\"height\":{\"field\":\"height\",\"units\":\"data\"},\"line_color\":{\"field\":\"line_color\"},\"width\":{\"field\":\"width\",\"units\":\"data\"},\"x\":{\"field\":\"x\"},\"y\":{\"field\":\"y\"}},\"id\":\"711f0604-928b-43ae-8398-800846be8792\",\"type\":\"Rect\"},{\"attributes\":{\"data_source\":{\"id\":\"dd6ce5bc-c5c8-4f6b-b12d-8e7c50ef9cd0\",\"type\":\"ColumnDataSource\"},\"glyph\":{\"id\":\"711f0604-928b-43ae-8398-800846be8792\",\"type\":\"Rect\"},\"hover_glyph\":null,\"nonselection_glyph\":null,\"selection_glyph\":null},\"id\":\"ad2c4017-30b2-49c8-ae14-2f24cccc7ad8\",\"type\":\"GlyphRenderer\"},{\"attributes\":{\"data_source\":{\"id\":\"adb0885b-4638-4ef0-8634-ec9882277839\",\"type\":\"ColumnDataSource\"},\"glyph\":{\"id\":\"f2c63fbf-b81e-4675-a134-a2f389440e0a\",\"type\":\"Segment\"},\"hover_glyph\":null,\"nonselection_glyph\":null,\"selection_glyph\":null},\"id\":\"f0a6946c-0fad-48d0-8a46-5b2b62e5d153\",\"type\":\"GlyphRenderer\"},{\"attributes\":{\"plot\":null,\"text\":null},\"id\":\"82db05cd-ccac-405f-af3b-946a1f141784\",\"type\":\"Title\"},{\"attributes\":{\"dimension\":1,\"plot\":{\"id\":\"5e79db2a-1884-4735-b249-311fadc5465c\",\"subtype\":\"Chart\",\"type\":\"Plot\"},\"ticker\":{\"id\":\"f9c0c68a-3b7e-4d3c-8369-d60965f803f6\",\"type\":\"BasicTicker\"}},\"id\":\"8dea5d40-6f8e-4f0e-bbbe-a80af0b2b35a\",\"type\":\"Grid\"},{\"attributes\":{\"bottom_units\":\"screen\",\"fill_alpha\":{\"value\":0.5},\"fill_color\":{\"value\":\"lightgrey\"},\"left_units\":\"screen\",\"level\":\"overlay\",\"line_alpha\":{\"value\":1.0},\"line_color\":{\"value\":\"black\"},\"line_dash\":[4,4],\"line_width\":{\"value\":2},\"plot\":null,\"render_mode\":\"css\",\"right_units\":\"screen\",\"top_units\":\"screen\"},\"id\":\"d8e955bd-8f72-48d9-8379-7cb73a2bb824\",\"type\":\"BoxAnnotation\"},{\"attributes\":{\"callback\":null,\"column_names\":[\"y_values\",\"x_values\"],\"data\":{\"chart_index\":[null,null],\"x_values\":[\"None:0.5\",\"None:0.5\"],\"y_values\":[2.845098040014257,2.845098040014257]}},\"id\":\"92dadecd-6346-40fe-9e6b-975a10bfe172\",\"type\":\"ColumnDataSource\"},{\"attributes\":{\"overlay\":{\"id\":\"d8e955bd-8f72-48d9-8379-7cb73a2bb824\",\"type\":\"BoxAnnotation\"},\"plot\":{\"id\":\"5e79db2a-1884-4735-b249-311fadc5465c\",\"subtype\":\"Chart\",\"type\":\"Plot\"}},\"id\":\"d77201f4-00c6-4c63-8380-99ba8eb0ce07\",\"type\":\"BoxZoomTool\"},{\"attributes\":{\"axis_label\":null,\"formatter\":{\"id\":\"786c223c-8690-4c69-ba0d-0c99a8622a9c\",\"type\":\"CategoricalTickFormatter\"},\"major_label_orientation\":0.7853981633974483,\"plot\":{\"id\":\"5e79db2a-1884-4735-b249-311fadc5465c\",\"subtype\":\"Chart\",\"type\":\"Plot\"},\"ticker\":{\"id\":\"53c5399b-b1cc-44bb-81e3-5473e092bd1f\",\"type\":\"CategoricalTicker\"}},\"id\":\"14ffd2db-f692-49af-8951-3785a7e42341\",\"type\":\"CategoricalAxis\"},{\"attributes\":{},\"id\":\"f9c0c68a-3b7e-4d3c-8369-d60965f803f6\",\"type\":\"BasicTicker\"},{\"attributes\":{\"location\":\"top_left\",\"plot\":{\"id\":\"5e79db2a-1884-4735-b249-311fadc5465c\",\"subtype\":\"Chart\",\"type\":\"Plot\"}},\"id\":\"ceb93974-1cde-41b0-9bc1-ad110d7c561c\",\"type\":\"Legend\"},{\"attributes\":{\"callback\":null,\"column_names\":[\"y\",\"line_color\",\"width\",\"line_alpha\",\"height\",\"color\",\"x\",\"fill_alpha\",\"label\"],\"data\":{\"chart_index\":[null],\"color\":[\"DimGrey\"],\"fill_alpha\":[0.8],\"height\":[0.3467874862246563],\"label\":[null],\"line_alpha\":[1.0],\"line_color\":[\"black\"],\"width\":[0.8],\"x\":[null],\"y\":[0.12763625255165306]}},\"id\":\"dd6ce5bc-c5c8-4f6b-b12d-8e7c50ef9cd0\",\"type\":\"ColumnDataSource\"},{\"attributes\":{\"fill_alpha\":{\"field\":\"fill_alpha\"},\"fill_color\":{\"field\":\"color\"},\"height\":{\"field\":\"height\",\"units\":\"data\"},\"line_color\":{\"field\":\"line_color\"},\"width\":{\"field\":\"width\",\"units\":\"data\"},\"x\":{\"field\":\"x\"},\"y\":{\"field\":\"y\"}},\"id\":\"78f5d89c-1df3-4b75-8f05-7f37c083d66d\",\"type\":\"Rect\"},{\"attributes\":{},\"id\":\"786c223c-8690-4c69-ba0d-0c99a8622a9c\",\"type\":\"CategoricalTickFormatter\"},{\"attributes\":{\"callback\":null,\"column_names\":[\"y\",\"line_color\",\"width\",\"line_alpha\",\"height\",\"color\",\"x\",\"fill_alpha\",\"label\"],\"data\":{\"chart_index\":[null],\"color\":[\"DimGrey\"],\"fill_alpha\":[0.8],\"height\":[0.6946051989335686],\"label\":[null],\"line_alpha\":[1.0],\"line_color\":[\"black\"],\"width\":[0.8],\"x\":[null],\"y\":[0.6483325951307655]}},\"id\":\"3db6763a-621b-4328-9d98-3b35ddc06b41\",\"type\":\"ColumnDataSource\"},{\"attributes\":{\"data_source\":{\"id\":\"3db6763a-621b-4328-9d98-3b35ddc06b41\",\"type\":\"ColumnDataSource\"},\"glyph\":{\"id\":\"78f5d89c-1df3-4b75-8f05-7f37c083d66d\",\"type\":\"Rect\"},\"hover_glyph\":null,\"nonselection_glyph\":null,\"selection_glyph\":null},\"id\":\"407f255b-9dcb-4a79-bd13-617d2b00d4f9\",\"type\":\"GlyphRenderer\"},{\"attributes\":{},\"id\":\"ebee9583-3333-40ba-a11f-3ecc83982b1c\",\"type\":\"ToolEvents\"},{\"attributes\":{\"plot\":{\"id\":\"5e79db2a-1884-4735-b249-311fadc5465c\",\"subtype\":\"Chart\",\"type\":\"Plot\"}},\"id\":\"5bd301de-057e-4e14-8ab0-cc773f3793e1\",\"type\":\"HelpTool\"},{\"attributes\":{\"plot\":{\"id\":\"5e79db2a-1884-4735-b249-311fadc5465c\",\"subtype\":\"Chart\",\"type\":\"Plot\"}},\"id\":\"21b41f8e-66d0-4a99-8d31-c363a2e8c28e\",\"type\":\"ResetTool\"},{\"attributes\":{\"plot\":{\"id\":\"5e79db2a-1884-4735-b249-311fadc5465c\",\"subtype\":\"Chart\",\"type\":\"Plot\"}},\"id\":\"bdac1ce7-3796-4967-8c64-bcff5330724b\",\"type\":\"WheelZoomTool\"},{\"attributes\":{\"callback\":null},\"id\":\"54f296e8-20c3-4e56-bc40-0524134f0a60\",\"type\":\"FactorRange\"},{\"attributes\":{\"data_source\":{\"id\":\"92dadecd-6346-40fe-9e6b-975a10bfe172\",\"type\":\"ColumnDataSource\"},\"glyph\":{\"id\":\"47eeab76-8288-4bdc-8ccd-3ff812ec5ea0\",\"type\":\"Circle\"},\"hover_glyph\":null,\"nonselection_glyph\":null,\"selection_glyph\":null},\"id\":\"82414777-a263-4aaa-99f1-3e7362b65dfd\",\"type\":\"GlyphRenderer\"},{\"attributes\":{\"plot\":{\"id\":\"5e79db2a-1884-4735-b249-311fadc5465c\",\"subtype\":\"Chart\",\"type\":\"Plot\"}},\"id\":\"e7c605f8-a51a-4418-8c39-167cb4ed46bd\",\"type\":\"SaveTool\"},{\"attributes\":{},\"id\":\"53c5399b-b1cc-44bb-81e3-5473e092bd1f\",\"type\":\"CategoricalTicker\"},{\"attributes\":{\"line_width\":{\"value\":2},\"x0\":{\"field\":\"x0s\"},\"x1\":{\"field\":\"x1s\"},\"y0\":{\"field\":\"y0s\"},\"y1\":{\"field\":\"y1s\"}},\"id\":\"f2c63fbf-b81e-4675-a134-a2f389440e0a\",\"type\":\"Segment\"},{\"attributes\":{\"axis_label\":\"Atv\",\"formatter\":{\"id\":\"825d3ee6-823d-44cf-a331-39bf69acdc42\",\"type\":\"BasicTickFormatter\"},\"plot\":{\"id\":\"5e79db2a-1884-4735-b249-311fadc5465c\",\"subtype\":\"Chart\",\"type\":\"Plot\"},\"ticker\":{\"id\":\"f9c0c68a-3b7e-4d3c-8369-d60965f803f6\",\"type\":\"BasicTicker\"}},\"id\":\"3af459f7-2005-4ea3-ac55-f942fa855a01\",\"type\":\"LinearAxis\"},{\"attributes\":{\"below\":[{\"id\":\"14ffd2db-f692-49af-8951-3785a7e42341\",\"type\":\"CategoricalAxis\"}],\"left\":[{\"id\":\"3af459f7-2005-4ea3-ac55-f942fa855a01\",\"type\":\"LinearAxis\"}],\"renderers\":[{\"id\":\"d8e955bd-8f72-48d9-8379-7cb73a2bb824\",\"type\":\"BoxAnnotation\"},{\"id\":\"ad2c4017-30b2-49c8-ae14-2f24cccc7ad8\",\"type\":\"GlyphRenderer\"},{\"id\":\"407f255b-9dcb-4a79-bd13-617d2b00d4f9\",\"type\":\"GlyphRenderer\"},{\"id\":\"82414777-a263-4aaa-99f1-3e7362b65dfd\",\"type\":\"GlyphRenderer\"},{\"id\":\"f0a6946c-0fad-48d0-8a46-5b2b62e5d153\",\"type\":\"GlyphRenderer\"},{\"id\":\"ceb93974-1cde-41b0-9bc1-ad110d7c561c\",\"type\":\"Legend\"},{\"id\":\"14ffd2db-f692-49af-8951-3785a7e42341\",\"type\":\"CategoricalAxis\"},{\"id\":\"3af459f7-2005-4ea3-ac55-f942fa855a01\",\"type\":\"LinearAxis\"},{\"id\":\"8dea5d40-6f8e-4f0e-bbbe-a80af0b2b35a\",\"type\":\"Grid\"}],\"title\":{\"id\":\"82db05cd-ccac-405f-af3b-946a1f141784\",\"type\":\"Title\"},\"tool_events\":{\"id\":\"ebee9583-3333-40ba-a11f-3ecc83982b1c\",\"type\":\"ToolEvents\"},\"toolbar\":{\"id\":\"ce99126c-894e-4eee-9696-934a4c578728\",\"type\":\"Toolbar\"},\"x_mapper_type\":\"auto\",\"x_range\":{\"id\":\"54f296e8-20c3-4e56-bc40-0524134f0a60\",\"type\":\"FactorRange\"},\"y_mapper_type\":\"auto\",\"y_range\":{\"id\":\"61e7a121-d600-48d2-b025-f5eae25acfd4\",\"type\":\"Range1d\"}},\"id\":\"5e79db2a-1884-4735-b249-311fadc5465c\",\"subtype\":\"Chart\",\"type\":\"Plot\"},{\"attributes\":{},\"id\":\"825d3ee6-823d-44cf-a331-39bf69acdc42\",\"type\":\"BasicTickFormatter\"}],\"root_ids\":[\"5e79db2a-1884-4735-b249-311fadc5465c\"]},\"title\":\"Bokeh Application\",\"version\":\"0.12.0\"}};\n",
       "            var render_items = [{\"docid\":\"2b1c1cc1-15e2-4095-8f63-3514d527db08\",\"elementid\":\"7701c2a1-e72c-498a-ab90-c6d93d5a3ce1\",\"modelid\":\"5e79db2a-1884-4735-b249-311fadc5465c\",\"notebook_comms_target\":\"f6f16a1d-1b66-4404-8583-178695d908ef\"}];\n",
       "            \n",
       "            Bokeh.embed.embed_items(docs_json, render_items);\n",
       "        });\n",
       "      },\n",
       "      function(Bokeh) {\n",
       "      }\n",
       "    ];\n",
       "  \n",
       "    function run_inline_js() {\n",
       "      for (var i = 0; i < inline_js.length; i++) {\n",
       "        inline_js[i](window.Bokeh);\n",
       "      }\n",
       "    }\n",
       "  \n",
       "    if (window._bokeh_is_loading === 0) {\n",
       "      console.log(\"Bokeh: BokehJS loaded, going straight to plotting\");\n",
       "      run_inline_js();\n",
       "    } else {\n",
       "      load_libs(js_urls, function() {\n",
       "        console.log(\"Bokeh: BokehJS plotting callback run at\", now());\n",
       "        run_inline_js();\n",
       "      });\n",
       "    }\n",
       "  }(this));\n",
       "</script>"
      ]
     },
     "metadata": {},
     "output_type": "display_data"
    },
    {
     "data": {
      "text/html": [
       "<p><code>&lt;Bokeh Notebook handle for <strong>In[14]</strong>&gt;</code></p>"
      ],
      "text/plain": [
       "<bokeh.io._CommsHandle at 0x124c3f5f8>"
      ]
     },
     "execution_count": 14,
     "metadata": {},
     "output_type": "execute_result"
    }
   ],
   "source": [
    "hover = HoverTool()\n",
    "hover.tooltips = [\n",
    "    # (\"(x, y)\", \"($x, $y)\"),\n",
    "    (\"Drug\", \"@drug\"),\n",
    "    (\"Resistance\", \"@height\")\n",
    "]\n",
    "TOOLS = [hover, ResetTool()]\n",
    "\n",
    "# b = BoxPlot(data=preds, values='log10(DR)', label='drug', title=\"protease drug resistance\",\n",
    "#             plot_width=600, plot_height=400, legend=False, tools=TOOLS)\n",
    "b = BoxPlot(data=pd.DataFrame(preds))\n",
    "show(b)"
   ]
  },
  {
   "cell_type": "code",
   "execution_count": 15,
   "metadata": {
    "collapsed": false
   },
   "outputs": [
    {
     "data": {
      "text/html": [
       "\n",
       "\n",
       "    <div class=\"bk-root\">\n",
       "        <div class=\"plotdiv\" id=\"85c3888c-661a-4d3f-90be-9ed21e2ed995\"></div>\n",
       "    </div>\n",
       "<script type=\"text/javascript\">\n",
       "  \n",
       "  (function(global) {\n",
       "    function now() {\n",
       "      return new Date();\n",
       "    }\n",
       "  \n",
       "    if (typeof (window._bokeh_onload_callbacks) === \"undefined\") {\n",
       "      window._bokeh_onload_callbacks = [];\n",
       "    }\n",
       "  \n",
       "    function run_callbacks() {\n",
       "      window._bokeh_onload_callbacks.forEach(function(callback) { callback() });\n",
       "      delete window._bokeh_onload_callbacks\n",
       "      console.info(\"Bokeh: all callbacks have finished\");\n",
       "    }\n",
       "  \n",
       "    function load_libs(js_urls, callback) {\n",
       "      window._bokeh_onload_callbacks.push(callback);\n",
       "      if (window._bokeh_is_loading > 0) {\n",
       "        console.log(\"Bokeh: BokehJS is being loaded, scheduling callback at\", now());\n",
       "        return null;\n",
       "      }\n",
       "      if (js_urls == null || js_urls.length === 0) {\n",
       "        run_callbacks();\n",
       "        return null;\n",
       "      }\n",
       "      console.log(\"Bokeh: BokehJS not loaded, scheduling load and callback at\", now());\n",
       "      window._bokeh_is_loading = js_urls.length;\n",
       "      for (var i = 0; i < js_urls.length; i++) {\n",
       "        var url = js_urls[i];\n",
       "        var s = document.createElement('script');\n",
       "        s.src = url;\n",
       "        s.async = false;\n",
       "        s.onreadystatechange = s.onload = function() {\n",
       "          window._bokeh_is_loading--;\n",
       "          if (window._bokeh_is_loading === 0) {\n",
       "            console.log(\"Bokeh: all BokehJS libraries loaded\");\n",
       "            run_callbacks()\n",
       "          }\n",
       "        };\n",
       "        s.onerror = function() {\n",
       "          console.warn(\"failed to load library \" + url);\n",
       "        };\n",
       "        console.log(\"Bokeh: injecting script tag for BokehJS library: \", url);\n",
       "        document.getElementsByTagName(\"head\")[0].appendChild(s);\n",
       "      }\n",
       "    };var element = document.getElementById(\"85c3888c-661a-4d3f-90be-9ed21e2ed995\");\n",
       "    if (element == null) {\n",
       "      console.log(\"Bokeh: ERROR: autoload.js configured with elementid '85c3888c-661a-4d3f-90be-9ed21e2ed995' but no matching script tag was found. \")\n",
       "      return false;\n",
       "    }\n",
       "  \n",
       "    var js_urls = [];\n",
       "  \n",
       "    var inline_js = [\n",
       "      function(Bokeh) {\n",
       "        Bokeh.$(function() {\n",
       "            var docs_json = {\"c329da5f-035e-454c-b3d3-0dd2583693e9\":{\"roots\":{\"references\":[{\"attributes\":{\"fill_alpha\":{\"value\":0.1},\"fill_color\":{\"value\":\"#1f77b4\"},\"line_alpha\":{\"value\":0.1},\"line_color\":{\"value\":\"#1f77b4\"},\"x\":{\"field\":\"x\"},\"y\":{\"field\":\"y\"}},\"id\":\"b4f6dc9a-ed5e-4a5c-9e50-38479bc11041\",\"type\":\"Circle\"},{\"attributes\":{\"callback\":null},\"id\":\"7bc93318-55f9-435c-9639-d925de58e4d4\",\"type\":\"DataRange1d\"},{\"attributes\":{\"plot\":{\"id\":\"de7ff75b-57ac-45dd-acaa-3bbe810d3a73\",\"subtype\":\"Figure\",\"type\":\"Plot\"}},\"id\":\"fb6306c4-8be9-4dde-aaf3-2d179526e7ac\",\"type\":\"ResetTool\"},{\"attributes\":{\"formatter\":{\"id\":\"04088e14-dde2-4d9a-8f16-c56d1cc5f2a1\",\"type\":\"BasicTickFormatter\"},\"plot\":{\"id\":\"de7ff75b-57ac-45dd-acaa-3bbe810d3a73\",\"subtype\":\"Figure\",\"type\":\"Plot\"},\"ticker\":{\"id\":\"a0b96cf9-11ae-4186-a8bd-c22d355e4dfc\",\"type\":\"BasicTicker\"}},\"id\":\"0c7b9450-74fa-441f-a1cd-10541597d095\",\"type\":\"LinearAxis\"},{\"attributes\":{\"plot\":{\"id\":\"de7ff75b-57ac-45dd-acaa-3bbe810d3a73\",\"subtype\":\"Figure\",\"type\":\"Plot\"}},\"id\":\"4d018a34-0aca-4bca-b293-51b2a99902f1\",\"type\":\"HelpTool\"},{\"attributes\":{},\"id\":\"a7f47eb0-1666-42dd-8523-cbd3b28c27c1\",\"type\":\"ToolEvents\"},{\"attributes\":{},\"id\":\"a0b96cf9-11ae-4186-a8bd-c22d355e4dfc\",\"type\":\"BasicTicker\"},{\"attributes\":{\"plot\":{\"id\":\"de7ff75b-57ac-45dd-acaa-3bbe810d3a73\",\"subtype\":\"Figure\",\"type\":\"Plot\"}},\"id\":\"94a92b98-07e2-4ade-951e-5e6004e2cb20\",\"type\":\"WheelZoomTool\"},{\"attributes\":{\"plot\":{\"id\":\"de7ff75b-57ac-45dd-acaa-3bbe810d3a73\",\"subtype\":\"Figure\",\"type\":\"Plot\"}},\"id\":\"e28c66e8-0439-4a9f-9869-d32d83bfecd5\",\"type\":\"PanTool\"},{\"attributes\":{},\"id\":\"144164ab-8888-4809-a5f7-ec72bf43f4fe\",\"type\":\"BasicTicker\"},{\"attributes\":{\"overlay\":{\"id\":\"e6f60717-41e9-4fca-b4ca-dd219fe45928\",\"type\":\"BoxAnnotation\"},\"plot\":{\"id\":\"de7ff75b-57ac-45dd-acaa-3bbe810d3a73\",\"subtype\":\"Figure\",\"type\":\"Plot\"}},\"id\":\"428d63fa-a9ac-415a-a4b9-b74a23786358\",\"type\":\"BoxZoomTool\"},{\"attributes\":{\"callback\":null},\"id\":\"bad93c7e-6bfc-4726-8fa8-ef5b4a68ddc2\",\"type\":\"DataRange1d\"},{\"attributes\":{\"plot\":null,\"text\":null},\"id\":\"0cecc7c3-0834-4f7c-8975-8ec48245aea7\",\"type\":\"Title\"},{\"attributes\":{},\"id\":\"04088e14-dde2-4d9a-8f16-c56d1cc5f2a1\",\"type\":\"BasicTickFormatter\"},{\"attributes\":{\"callback\":null,\"column_names\":[\"y\",\"x\"],\"data\":{\"x\":[1,2,3],\"y\":[1,2,3]}},\"id\":\"76ef1a95-680c-4524-9684-23151265ca72\",\"type\":\"ColumnDataSource\"},{\"attributes\":{\"data_source\":{\"id\":\"76ef1a95-680c-4524-9684-23151265ca72\",\"type\":\"ColumnDataSource\"},\"glyph\":{\"id\":\"0b14de43-c59d-4fd1-87c8-554c052de0c3\",\"type\":\"Circle\"},\"hover_glyph\":null,\"nonselection_glyph\":{\"id\":\"b4f6dc9a-ed5e-4a5c-9e50-38479bc11041\",\"type\":\"Circle\"},\"selection_glyph\":null},\"id\":\"2413cb01-0541-4a22-a319-e818ed0b1aa0\",\"type\":\"GlyphRenderer\"},{\"attributes\":{\"plot\":{\"id\":\"de7ff75b-57ac-45dd-acaa-3bbe810d3a73\",\"subtype\":\"Figure\",\"type\":\"Plot\"}},\"id\":\"dfba21a6-7eab-4d04-ac2f-b1f59419fdc5\",\"type\":\"SaveTool\"},{\"attributes\":{\"plot\":{\"id\":\"de7ff75b-57ac-45dd-acaa-3bbe810d3a73\",\"subtype\":\"Figure\",\"type\":\"Plot\"},\"ticker\":{\"id\":\"144164ab-8888-4809-a5f7-ec72bf43f4fe\",\"type\":\"BasicTicker\"}},\"id\":\"84533625-edc2-4de3-8e05-70026ccc3322\",\"type\":\"Grid\"},{\"attributes\":{\"active_drag\":\"auto\",\"active_scroll\":\"auto\",\"active_tap\":\"auto\",\"tools\":[{\"id\":\"e28c66e8-0439-4a9f-9869-d32d83bfecd5\",\"type\":\"PanTool\"},{\"id\":\"94a92b98-07e2-4ade-951e-5e6004e2cb20\",\"type\":\"WheelZoomTool\"},{\"id\":\"428d63fa-a9ac-415a-a4b9-b74a23786358\",\"type\":\"BoxZoomTool\"},{\"id\":\"dfba21a6-7eab-4d04-ac2f-b1f59419fdc5\",\"type\":\"SaveTool\"},{\"id\":\"fb6306c4-8be9-4dde-aaf3-2d179526e7ac\",\"type\":\"ResetTool\"},{\"id\":\"4d018a34-0aca-4bca-b293-51b2a99902f1\",\"type\":\"HelpTool\"}]},\"id\":\"485c4eff-41ca-4349-be37-4c47c9e9ea4f\",\"type\":\"Toolbar\"},{\"attributes\":{\"below\":[{\"id\":\"cba8a720-b590-4924-b6f0-a1ff0dc82ba8\",\"type\":\"LinearAxis\"}],\"left\":[{\"id\":\"0c7b9450-74fa-441f-a1cd-10541597d095\",\"type\":\"LinearAxis\"}],\"renderers\":[{\"id\":\"cba8a720-b590-4924-b6f0-a1ff0dc82ba8\",\"type\":\"LinearAxis\"},{\"id\":\"84533625-edc2-4de3-8e05-70026ccc3322\",\"type\":\"Grid\"},{\"id\":\"0c7b9450-74fa-441f-a1cd-10541597d095\",\"type\":\"LinearAxis\"},{\"id\":\"26edc67d-9c2c-4aa4-83f5-b05a5df22398\",\"type\":\"Grid\"},{\"id\":\"e6f60717-41e9-4fca-b4ca-dd219fe45928\",\"type\":\"BoxAnnotation\"},{\"id\":\"2413cb01-0541-4a22-a319-e818ed0b1aa0\",\"type\":\"GlyphRenderer\"}],\"title\":{\"id\":\"0cecc7c3-0834-4f7c-8975-8ec48245aea7\",\"type\":\"Title\"},\"tool_events\":{\"id\":\"a7f47eb0-1666-42dd-8523-cbd3b28c27c1\",\"type\":\"ToolEvents\"},\"toolbar\":{\"id\":\"485c4eff-41ca-4349-be37-4c47c9e9ea4f\",\"type\":\"Toolbar\"},\"x_range\":{\"id\":\"7bc93318-55f9-435c-9639-d925de58e4d4\",\"type\":\"DataRange1d\"},\"y_range\":{\"id\":\"bad93c7e-6bfc-4726-8fa8-ef5b4a68ddc2\",\"type\":\"DataRange1d\"}},\"id\":\"de7ff75b-57ac-45dd-acaa-3bbe810d3a73\",\"subtype\":\"Figure\",\"type\":\"Plot\"},{\"attributes\":{\"dimension\":1,\"plot\":{\"id\":\"de7ff75b-57ac-45dd-acaa-3bbe810d3a73\",\"subtype\":\"Figure\",\"type\":\"Plot\"},\"ticker\":{\"id\":\"a0b96cf9-11ae-4186-a8bd-c22d355e4dfc\",\"type\":\"BasicTicker\"}},\"id\":\"26edc67d-9c2c-4aa4-83f5-b05a5df22398\",\"type\":\"Grid\"},{\"attributes\":{},\"id\":\"0ecb7cdc-170a-4c62-9a3e-41ac3bbf4a97\",\"type\":\"BasicTickFormatter\"},{\"attributes\":{\"bottom_units\":\"screen\",\"fill_alpha\":{\"value\":0.5},\"fill_color\":{\"value\":\"lightgrey\"},\"left_units\":\"screen\",\"level\":\"overlay\",\"line_alpha\":{\"value\":1.0},\"line_color\":{\"value\":\"black\"},\"line_dash\":[4,4],\"line_width\":{\"value\":2},\"plot\":null,\"render_mode\":\"css\",\"right_units\":\"screen\",\"top_units\":\"screen\"},\"id\":\"e6f60717-41e9-4fca-b4ca-dd219fe45928\",\"type\":\"BoxAnnotation\"},{\"attributes\":{\"formatter\":{\"id\":\"0ecb7cdc-170a-4c62-9a3e-41ac3bbf4a97\",\"type\":\"BasicTickFormatter\"},\"plot\":{\"id\":\"de7ff75b-57ac-45dd-acaa-3bbe810d3a73\",\"subtype\":\"Figure\",\"type\":\"Plot\"},\"ticker\":{\"id\":\"144164ab-8888-4809-a5f7-ec72bf43f4fe\",\"type\":\"BasicTicker\"}},\"id\":\"cba8a720-b590-4924-b6f0-a1ff0dc82ba8\",\"type\":\"LinearAxis\"},{\"attributes\":{\"fill_color\":{\"value\":\"#1f77b4\"},\"line_color\":{\"value\":\"#1f77b4\"},\"x\":{\"field\":\"x\"},\"y\":{\"field\":\"y\"}},\"id\":\"0b14de43-c59d-4fd1-87c8-554c052de0c3\",\"type\":\"Circle\"}],\"root_ids\":[\"de7ff75b-57ac-45dd-acaa-3bbe810d3a73\"]},\"title\":\"Bokeh Application\",\"version\":\"0.12.0\"}};\n",
       "            var render_items = [{\"docid\":\"c329da5f-035e-454c-b3d3-0dd2583693e9\",\"elementid\":\"85c3888c-661a-4d3f-90be-9ed21e2ed995\",\"modelid\":\"de7ff75b-57ac-45dd-acaa-3bbe810d3a73\",\"notebook_comms_target\":\"c6aaebd2-7cdd-4e16-96b7-e8f508299502\"}];\n",
       "            \n",
       "            Bokeh.embed.embed_items(docs_json, render_items);\n",
       "        });\n",
       "      },\n",
       "      function(Bokeh) {\n",
       "      }\n",
       "    ];\n",
       "  \n",
       "    function run_inline_js() {\n",
       "      for (var i = 0; i < inline_js.length; i++) {\n",
       "        inline_js[i](window.Bokeh);\n",
       "      }\n",
       "    }\n",
       "  \n",
       "    if (window._bokeh_is_loading === 0) {\n",
       "      console.log(\"Bokeh: BokehJS loaded, going straight to plotting\");\n",
       "      run_inline_js();\n",
       "    } else {\n",
       "      load_libs(js_urls, function() {\n",
       "        console.log(\"Bokeh: BokehJS plotting callback run at\", now());\n",
       "        run_inline_js();\n",
       "      });\n",
       "    }\n",
       "  }(this));\n",
       "</script>"
      ]
     },
     "metadata": {},
     "output_type": "display_data"
    },
    {
     "data": {
      "text/html": [
       "<p><code>&lt;Bokeh Notebook handle for <strong>In[15]</strong>&gt;</code></p>"
      ],
      "text/plain": [
       "<bokeh.io._CommsHandle at 0x124c37ef0>"
      ]
     },
     "execution_count": 15,
     "metadata": {},
     "output_type": "execute_result"
    }
   ],
   "source": [
    "p = figure()\n",
    "p.circle([1, 2, 3], [1,2,3])\n",
    "show(p)"
   ]
  },
  {
   "cell_type": "code",
   "execution_count": null,
   "metadata": {
    "collapsed": true
   },
   "outputs": [],
   "source": []
  },
  {
   "cell_type": "code",
   "execution_count": null,
   "metadata": {
    "collapsed": true
   },
   "outputs": [],
   "source": []
  }
 ],
 "metadata": {
  "anaconda-cloud": {},
  "kernelspec": {
   "display_name": "Python [Root]",
   "language": "python",
   "name": "Python [Root]"
  },
  "language_info": {
   "codemirror_mode": {
    "name": "ipython",
    "version": 3
   },
   "file_extension": ".py",
   "mimetype": "text/x-python",
   "name": "python",
   "nbconvert_exporter": "python",
   "pygments_lexer": "ipython3",
   "version": "3.5.2"
  }
 },
 "nbformat": 4,
 "nbformat_minor": 0
}
